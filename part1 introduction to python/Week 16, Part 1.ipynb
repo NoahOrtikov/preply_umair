{
 "cells": [
  {
   "cell_type": "markdown",
   "metadata": {},
   "source": [
    "# What is dictionary and how can we store data inside it"
   ]
  },
  {
   "cell_type": "code",
   "execution_count": null,
   "metadata": {},
   "outputs": [],
   "source": [
    "# make a dictionary to store details of your dog\n",
    "\n",
    "d = {'name':'maya','color':'black,white','breed':'bernadoodle','legs':4,'age':9mo}\n",
    "e = {'name':'tessa','color':'black','breed':'labrador','legs':4,'age':6yrs}\n",
    "o = {'name':'akera','color':'white,black','breed':'boston terrier','legs':4,'age':13yrs}"
   ]
  },
  {
   "cell_type": "code",
   "execution_count": null,
   "metadata": {},
   "outputs": [],
   "source": [
    "dogs = [d,e,o]\n"
   ]
  },
  {
   "cell_type": "code",
   "execution_count": null,
   "metadata": {},
   "outputs": [],
   "source": [
    "dogs"
   ]
  },
  {
   "cell_type": "code",
   "execution_count": null,
   "metadata": {},
   "outputs": [],
   "source": []
  }
 ],
 "metadata": {
  "language_info": {
   "name": "python"
  }
 },
 "nbformat": 4,
 "nbformat_minor": 2
}
