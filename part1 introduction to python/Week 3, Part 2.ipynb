{
 "cells": [
  {
   "cell_type": "markdown",
   "id": "cac26845",
   "metadata": {},
   "source": [
    "##  how TO MAKE A NESTED      LIST"
   ]
  },
  {
   "cell_type": "code",
   "execution_count": 54,
   "id": "4e3703d7",
   "metadata": {},
   "outputs": [
    {
     "name": "stdout",
     "output_type": "stream",
     "text": [
      "[['red', 'blue', 'yellow'], ['cucumber', 'tomato', 'celery']]\n"
     ]
    }
   ],
   "source": [
    "# can you make a list with 3 colors?\n",
    "colblors = ['red','blue','yellow']\n",
    "#  make a list of 3 \n",
    "\n",
    "Vegie= ['cucumber','tomato','celery']\n",
    "\n",
    "list2 = [ colors ,Vegie]\n",
    "print(list2)"
   ]
  },
  {
   "cell_type": "code",
   "execution_count": 55,
   "id": "2b016771",
   "metadata": {},
   "outputs": [
    {
     "name": "stdout",
     "output_type": "stream",
     "text": [
      "tomato\n"
     ]
    }
   ],
   "source": [
    "# fom lblist2 print blue clors\n",
    "print(list2[1][1])"
   ]
  },
  {
   "cell_type": "code",
   "execution_count": 5,
   "id": "61b75bb9",
   "metadata": {},
   "outputs": [],
   "source": [
    "import random"
   ]
  },
  {
   "cell_type": "code",
   "execution_count": 6,
   "id": "c96ac3dc",
   "metadata": {},
   "outputs": [],
   "source": [
    "game = ['paper','rock','scissors']\n"
   ]
  },
  {
   "cell_type": "code",
   "execution_count": 19,
   "id": "64bc7602",
   "metadata": {},
   "outputs": [
    {
     "name": "stdout",
     "output_type": "stream",
     "text": [
      "please enter  paper rock and scissorsrock\n",
      "computer selected scissors\n",
      "noah selected rock\n",
      "noah wins\n"
     ]
    }
   ],
   "source": [
    "computer = random.choice(game)\n",
    "noah = input('please enter  paper rock and scissors')\n",
    "\n",
    "print(\"computer selected\", computer)\n",
    "print(\"noah selected\",noah)\n",
    "\n",
    "if computer ==noah:\n",
    "    print(\"draw\")\n",
    "elif computer == \"rock\" and noah ==\"scissors\":\n",
    "    print(\"computer winds\")\n",
    "elif computer == \"scissors\" and noah == \"rock\":\n",
    "    print(\"noah wins\")\n",
    "elif noah ==\"rock\" and computer ==\"paper\":\n",
    "    print(\"computer wins\")\n",
    "elif computer ==\"rock\" and noah ==\"paper\":\n",
    "    print(\"noah wins the game\")\n",
    "elif computer == \"paper\" and noah ==\"rock\":\n",
    "    print(\"computer wins\")\n",
    "elif computer == \"scissors\" and noah ==\"paper\":\n",
    "    print(\"compute wins\")\n",
    "elif computer == \"paper\" and rock ==\"scissors\":\n",
    "    print(\"computer wins\")\n",
    "    \n",
    "    \n",
    "else:\n",
    "    print(\"please choose paper rock and scissors\")"
   ]
  },
  {
   "cell_type": "code",
   "execution_count": 13,
   "id": "25eac919",
   "metadata": {},
   "outputs": [
    {
     "ename": "NameError",
     "evalue": "name 'ib' is not defined",
     "output_type": "error",
     "traceback": [
      "\u001b[0;31m---------------------------------------------------------------------------\u001b[0m",
      "\u001b[0;31mNameError\u001b[0m                                 Traceback (most recent call last)",
      "Cell \u001b[0;32mIn[13], line 1\u001b[0m\n\u001b[0;32m----> 1\u001b[0m ib\n",
      "\u001b[0;31mNameError\u001b[0m: name 'ib' is not defined"
     ]
    }
   ],
   "source": [
    "Tomorrow we have to make a guessing game"
   ]
  },
  {
   "cell_type": "code",
   "execution_count": null,
   "id": "52b98799",
   "metadata": {},
   "outputs": [],
   "source": []
  },
  {
   "cell_type": "code",
   "execution_count": null,
   "id": "2132cdf4",
   "metadata": {},
   "outputs": [],
   "source": []
  },
  {
   "cell_type": "code",
   "execution_count": null,
   "id": "5b43ec66",
   "metadata": {},
   "outputs": [],
   "source": []
  },
  {
   "cell_type": "code",
   "execution_count": null,
   "id": "6d07857a",
   "metadata": {},
   "outputs": [],
   "source": []
  },
  {
   "cell_type": "code",
   "execution_count": null,
   "id": "287f3f1d",
   "metadata": {},
   "outputs": [],
   "source": []
  },
  {
   "cell_type": "code",
   "execution_count": null,
   "id": "7a8363b1",
   "metadata": {},
   "outputs": [],
   "source": [
    "\n",
    "\n"
   ]
  },
  {
   "cell_type": "code",
   "execution_count": null,
   "id": "0a7eaad6",
   "metadata": {},
   "outputs": [],
   "source": [
    "\n"
   ]
  },
  {
   "cell_type": "code",
   "execution_count": null,
   "id": "d88cac69",
   "metadata": {},
   "outputs": [],
   "source": []
  },
  {
   "cell_type": "code",
   "execution_count": null,
   "id": "a08dc014",
   "metadata": {},
   "outputs": [],
   "source": []
  },
  {
   "cell_type": "code",
   "execution_count": null,
   "id": "3842b1fa",
   "metadata": {},
   "outputs": [],
   "source": []
  },
  {
   "cell_type": "code",
   "execution_count": null,
   "id": "f737a0c9",
   "metadata": {},
   "outputs": [],
   "source": []
  },
  {
   "cell_type": "code",
   "execution_count": null,
   "id": "327ecfe8",
   "metadata": {},
   "outputs": [],
   "source": []
  },
  {
   "cell_type": "code",
   "execution_count": null,
   "id": "5fe166e4",
   "metadata": {},
   "outputs": [],
   "source": []
  },
  {
   "cell_type": "code",
   "execution_count": null,
   "id": "30d79f6b",
   "metadata": {},
   "outputs": [],
   "source": []
  },
  {
   "cell_type": "code",
   "execution_count": null,
   "id": "41c9037b",
   "metadata": {},
   "outputs": [],
   "source": []
  },
  {
   "cell_type": "code",
   "execution_count": null,
   "id": "b20a6440",
   "metadata": {},
   "outputs": [],
   "source": []
  },
  {
   "cell_type": "code",
   "execution_count": null,
   "id": "acfc275a",
   "metadata": {},
   "outputs": [],
   "source": []
  },
  {
   "cell_type": "code",
   "execution_count": null,
   "id": "c6f6f2d2",
   "metadata": {},
   "outputs": [],
   "source": []
  },
  {
   "cell_type": "code",
   "execution_count": null,
   "id": "2743f5a5",
   "metadata": {},
   "outputs": [],
   "source": []
  },
  {
   "cell_type": "code",
   "execution_count": null,
   "id": "3294e079",
   "metadata": {},
   "outputs": [],
   "source": []
  },
  {
   "cell_type": "code",
   "execution_count": null,
   "id": "afe12d56",
   "metadata": {},
   "outputs": [],
   "source": []
  },
  {
   "cell_type": "code",
   "execution_count": null,
   "id": "39b6d206",
   "metadata": {},
   "outputs": [],
   "source": []
  },
  {
   "cell_type": "code",
   "execution_count": null,
   "id": "e45b4c57",
   "metadata": {},
   "outputs": [],
   "source": [
    "\n",
    "\n"
   ]
  }
 ],
 "metadata": {
  "kernelspec": {
   "display_name": "Python 3 (ipykernel)",
   "language": "python",
   "name": "python3"
  },
  "language_info": {
   "codemirror_mode": {
    "name": "ipython",
    "version": 3
   },
   "file_extension": ".py",
   "mimetype": "text/x-python",
   "name": "python",
   "nbconvert_exporter": "python",
   "pygments_lexer": "ipython3",
   "version": "3.11.5"
  }
 },
 "nbformat": 4,
 "nbformat_minor": 5
}
