{
 "cells": [
  {
   "cell_type": "code",
   "execution_count": 1,
   "id": "ec6a016c",
   "metadata": {},
   "outputs": [],
   "source": [
    "# we mae a dictionary in which we will write the daily routine of Noah"
   ]
  },
  {
   "cell_type": "code",
   "execution_count": 5,
   "id": "504c87bf",
   "metadata": {},
   "outputs": [],
   "source": [
    "d = {'7am-8am':'Noah Wakes up',\n",
    "     '8am-9am':'Noah eats breakfast',\n",
    "     '9am-10am':'Noah plays ipad',\n",
    "     '10am-11am': 'Noah eats a snack',\n",
    "     '11am-12pm': 'Noah goes to the basement to watch soccder game with my dad',\n",
    "     '12pm-1pm':'Noah eats lunch with my family',\n",
    "     '1pm-3pm': 'Noah watches Netfix',\n",
    "     '3pm-4pm': 'Noah plays with stuffed animals',\n",
    "     '4pm-6pm': 'Noah plays ipad',\n",
    "     '6pm-7pm': 'Family dinner',\n",
    "     '7pm-8pm': 'Bedtime Rountine'\n",
    "    \n",
    "     \n",
    "    }"
   ]
  },
  {
   "cell_type": "code",
   "execution_count": 6,
   "id": "0a8ec467",
   "metadata": {},
   "outputs": [
    {
     "data": {
      "text/plain": [
       "dict_keys(['7am-8am', '8am-9am', '9am-10am', '10am-11am', '11am-12pm', '12pm-1pm', '1pm-3pm', '3pm-4pm', '4pm-6pm', '6pm-7pm', '7pm-8pm'])"
      ]
     },
     "execution_count": 6,
     "metadata": {},
     "output_type": "execute_result"
    }
   ],
   "source": [
    "d.keys()"
   ]
  },
  {
   "cell_type": "code",
   "execution_count": 7,
   "id": "bf453c7e",
   "metadata": {},
   "outputs": [
    {
     "data": {
      "text/plain": [
       "dict_values(['Noah Wakes up', 'Noah eats breakfast', 'Noah plays ipad', 'Noah eats a snack', 'Noah goes to the basement to watch soccder game with my dad', 'Noah eats lunch with my family', 'Noah watches Netfix', 'Noah plays with stuffed animals', 'Noah plays ipad', 'Family dinner', 'Bedtime Rountine'])"
      ]
     },
     "execution_count": 7,
     "metadata": {},
     "output_type": "execute_result"
    }
   ],
   "source": [
    "d.values()"
   ]
  },
  {
   "cell_type": "code",
   "execution_count": 8,
   "id": "0416bbad",
   "metadata": {},
   "outputs": [
    {
     "data": {
      "text/plain": [
       "'Noah watches Netfix'"
      ]
     },
     "execution_count": 8,
     "metadata": {},
     "output_type": "execute_result"
    }
   ],
   "source": [
    "d.get('1pm-3pm')"
   ]
  },
  {
   "cell_type": "code",
   "execution_count": 9,
   "id": "6ecdce54",
   "metadata": {},
   "outputs": [],
   "source": [
    "## apply a for loop on this dictionary d"
   ]
  },
  {
   "cell_type": "code",
   "execution_count": 11,
   "id": "147cc651",
   "metadata": {},
   "outputs": [
    {
     "name": "stdout",
     "output_type": "stream",
     "text": [
      "1 5\n",
      "7 6\n"
     ]
    }
   ],
   "source": [
    "p = {1:5,7:6}\n",
    "for a,b in p.items():\n",
    "    print(a,b)"
   ]
  },
  {
   "cell_type": "code",
   "execution_count": 13,
   "id": "c5fa2ed2",
   "metadata": {},
   "outputs": [
    {
     "name": "stdout",
     "output_type": "stream",
     "text": [
      "7am-8am MAYA Wakes up\n",
      "8am-9am MAYA eats breakfast\n",
      "9am-10am MAYA plays ipad\n",
      "10am-11am MAYA eats a snack\n",
      "11am-12pm MAYA goes to the basement to watch soccder game with my dad\n",
      "12pm-1pm MAYA eats lunch with my family\n",
      "1pm-3pm MAYA watches Netfix\n",
      "3pm-4pm MAYA plays with stuffed animals\n",
      "4pm-6pm MAYA plays ipad\n",
      "6pm-7pm Family dinner\n",
      "7pm-8pm Bedtime Rountine\n"
     ]
    }
   ],
   "source": [
    "for a,b in d.items():\n",
    "    print(a,b.replace(\"Noah\",\"MAYA\"))"
   ]
  },
  {
   "cell_type": "code",
   "execution_count": 14,
   "id": "b83220d1",
   "metadata": {},
   "outputs": [],
   "source": [
    "#### lets Second Task"
   ]
  },
  {
   "cell_type": "code",
   "execution_count": 15,
   "id": "f11e4e60",
   "metadata": {},
   "outputs": [],
   "source": [
    "new_d = {\n",
    "    \"USA\":'Chicago',\n",
    "    \"UK\": 'London',\n",
    "    \"Pakistan\":'Islamabad',\n",
    "    \"India\":\"New Delhi\",\n",
    "    \"Japan\":\"Tokyo\",\n",
    "    \"China\":\"Beijing\",\n",
    "    \"Egypt\":\"Cairo\"\n",
    "    \n",
    "\n",
    "}"
   ]
  },
  {
   "cell_type": "code",
   "execution_count": 16,
   "id": "5aa0fffc",
   "metadata": {},
   "outputs": [],
   "source": [
    "# it should print pout like this\n",
    "# the country USA has city Chicago"
   ]
  },
  {
   "cell_type": "code",
   "execution_count": 18,
   "id": "4c4eaf9d",
   "metadata": {},
   "outputs": [
    {
     "name": "stdout",
     "output_type": "stream",
     "text": [
      "The country USA has city Chicago\n",
      "The country UK has city London\n",
      "The country Pakistan has city Islamabad\n",
      "The country India has city New Delhi\n",
      "The country Japan has city Tokyo\n",
      "The country China has city Beijing\n",
      "The country Egypt has city Cairo\n"
     ]
    }
   ],
   "source": [
    "for a,b in new_d.items():\n",
    "    print(\"The country\",a,\"has city\",b)"
   ]
  },
  {
   "cell_type": "code",
   "execution_count": 19,
   "id": "8888d314",
   "metadata": {},
   "outputs": [],
   "source": [
    "# last but not the least\n",
    "# write a object and all possible colors it has"
   ]
  },
  {
   "cell_type": "code",
   "execution_count": 21,
   "id": "e3cb5cf4",
   "metadata": {},
   "outputs": [],
   "source": [
    "make= {\n",
    "    'apple':['red','green','yellow'],\n",
    "    'Mango':['Orange','Green','Yellow','Red'],\n",
    "    'Dog':['Black','White','Brown']\n",
    "    \n",
    "}"
   ]
  },
  {
   "cell_type": "code",
   "execution_count": 22,
   "id": "05897ff5",
   "metadata": {},
   "outputs": [],
   "source": [
    "# write for loop over make"
   ]
  },
  {
   "cell_type": "code",
   "execution_count": 26,
   "id": "e6cb4b0b",
   "metadata": {},
   "outputs": [
    {
     "name": "stdout",
     "output_type": "stream",
     "text": [
      "The apple\n",
      "is available in red\n",
      "is available in green\n",
      "is available in yellow\n",
      "The Mango\n",
      "is available in Orange\n",
      "is available in Green\n",
      "is available in Yellow\n",
      "is available in Red\n",
      "The Dog\n",
      "is available in Black\n",
      "is available in White\n",
      "is available in Brown\n"
     ]
    }
   ],
   "source": [
    "for a,b in make.items():\n",
    "    print('The',a)\n",
    "    for each in b:\n",
    "        print(\"is available in\",each)"
   ]
  },
  {
   "cell_type": "code",
   "execution_count": null,
   "id": "79b1a2e2",
   "metadata": {},
   "outputs": [],
   "source": []
  }
 ],
 "metadata": {
  "kernelspec": {
   "display_name": "Python 3 (ipykernel)",
   "language": "python",
   "name": "python3"
  },
  "language_info": {
   "codemirror_mode": {
    "name": "ipython",
    "version": 3
   },
   "file_extension": ".py",
   "mimetype": "text/x-python",
   "name": "python",
   "nbconvert_exporter": "python",
   "pygments_lexer": "ipython3",
   "version": "3.11.5"
  }
 },
 "nbformat": 4,
 "nbformat_minor": 5
}
