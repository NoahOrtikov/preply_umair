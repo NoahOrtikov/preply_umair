{
 "cells": [
  {
   "cell_type": "code",
   "execution_count": 2,
   "id": "1a6fdcbb",
   "metadata": {},
   "outputs": [
    {
     "name": "stdout",
     "output_type": "stream",
     "text": [
      "{'brand': 'Ford', 'model': 'Mustang', 'year': 1964}\n"
     ]
    }
   ],
   "source": [
    "thisdict = {\n",
    "  \"brand\": \"Ford\",\n",
    "  \"model\": \"Mustang\",\n",
    "  \"year\": 1964\n",
    "}\n",
    "print(thisdict)\n"
   ]
  },
  {
   "cell_type": "code",
   "execution_count": 15,
   "id": "749ff7e6",
   "metadata": {},
   "outputs": [
    {
     "name": "stdout",
     "output_type": "stream",
     "text": [
      "{'name': 'noah', 'age': ' 7 3/4 '}\n"
     ]
    },
    {
     "data": {
      "text/plain": [
       "' 7 3/4 '"
      ]
     },
     "execution_count": 15,
     "metadata": {},
     "output_type": "execute_result"
    }
   ],
   "source": [
    "s = {'name':'noah',\n",
    "    'age':' 7 3/4 '}\n",
    "print(s)\n",
    "\n",
    "\n",
    "\n",
    "s.get('age')\n",
    "\n",
    "\n",
    "\n",
    "\n",
    "\n",
    "\n",
    "\n",
    "\n"
   ]
  },
  {
   "cell_type": "code",
   "execution_count": 16,
   "id": "ef561202",
   "metadata": {},
   "outputs": [
    {
     "data": {
      "text/plain": [
       "dict_keys(['brand', 'model', 'year'])"
      ]
     },
     "execution_count": 16,
     "metadata": {},
     "output_type": "execute_result"
    }
   ],
   "source": [
    "\n",
    "thisdict.keys()"
   ]
  },
  {
   "cell_type": "code",
   "execution_count": 18,
   "id": "0b9765d6",
   "metadata": {},
   "outputs": [
    {
     "data": {
      "text/plain": [
       "dict_values(['Ford', 'Mustang', 1964])"
      ]
     },
     "execution_count": 18,
     "metadata": {},
     "output_type": "execute_result"
    }
   ],
   "source": [
    "thisdict.values()"
   ]
  },
  {
   "cell_type": "code",
   "execution_count": 19,
   "id": "e2fb9696",
   "metadata": {},
   "outputs": [
    {
     "data": {
      "text/plain": [
       "dict_keys(['name', 'age'])"
      ]
     },
     "execution_count": 19,
     "metadata": {},
     "output_type": "execute_result"
    }
   ],
   "source": [
    "\n",
    "s.keys()\n",
    "\n",
    "\n",
    "\n",
    "\n",
    "\n",
    "\n",
    "\n",
    "\n",
    "\n",
    "\n",
    "\n",
    "\n",
    "\n",
    "\n",
    "\n",
    "\n",
    "\n",
    "\n",
    "\n"
   ]
  },
  {
   "cell_type": "code",
   "execution_count": 20,
   "id": "6758a8a5",
   "metadata": {},
   "outputs": [
    {
     "data": {
      "text/plain": [
       "dict_values(['noah', ' 7 3/4 '])"
      ]
     },
     "execution_count": 20,
     "metadata": {},
     "output_type": "execute_result"
    }
   ],
   "source": [
    "s.values()"
   ]
  },
  {
   "cell_type": "code",
   "execution_count": 23,
   "id": "77a5cd4c",
   "metadata": {
    "scrolled": true
   },
   "outputs": [
    {
     "name": "stdout",
     "output_type": "stream",
     "text": [
      "3\n",
      "4\n",
      "5\n",
      "6\n",
      "7\n",
      "8\n",
      "9\n"
     ]
    }
   ],
   "source": [
    "for I in range(3,10):\n",
    "    print(I)"
   ]
  },
  {
   "cell_type": "code",
   "execution_count": 25,
   "id": "87361874",
   "metadata": {},
   "outputs": [
    {
     "name": "stdout",
     "output_type": "stream",
     "text": [
      "{'Apple': 'red', 'Orange': 'orange', 'Mango': 'yellow'}\n"
     ]
    }
   ],
   "source": [
    "ABC = {'Apple':'red','Orange':'orange','Mango':'yellow'}\n",
    "\n",
    "\n",
    "\n",
    "print(ABC) \n"
   ]
  },
  {
   "cell_type": "code",
   "execution_count": 27,
   "id": "77ba5d04",
   "metadata": {},
   "outputs": [
    {
     "data": {
      "text/plain": [
       "dict_keys(['Apple', 'Orange', 'Mango'])"
      ]
     },
     "execution_count": 27,
     "metadata": {},
     "output_type": "execute_result"
    }
   ],
   "source": [
    "ABC.keys()\n"
   ]
  },
  {
   "cell_type": "code",
   "execution_count": 28,
   "id": "f9f4f6dd",
   "metadata": {},
   "outputs": [
    {
     "data": {
      "text/plain": [
       "dict_values(['red', 'orange', 'yellow'])"
      ]
     },
     "execution_count": 28,
     "metadata": {},
     "output_type": "execute_result"
    }
   ],
   "source": [
    "ABC.values()"
   ]
  },
  {
   "cell_type": "code",
   "execution_count": 29,
   "id": "b6b66521",
   "metadata": {},
   "outputs": [
    {
     "name": "stdout",
     "output_type": "stream",
     "text": [
      "Apple red\n",
      "Orange orange\n",
      "Mango yellow\n"
     ]
    }
   ],
   "source": [
    "### Homework\n",
    "\n",
    "for a,b in ABC.items():\n",
    "    print(a,b)\n",
    "\n",
    "\n"
   ]
  },
  {
   "cell_type": "code",
   "execution_count": 9,
   "id": "59dc2e1e",
   "metadata": {},
   "outputs": [
    {
     "name": "stdout",
     "output_type": "stream",
     "text": [
      "{'Sahil': 8, 'Rosalyn': 8, 'Philip': 7, 'Memphis': 7, 'Danny': 8, 'Ava': 7, 'Bella': 7, 'Emilia': 7, 'Eric': 7, 'Vedant': 7}\n"
     ]
    }
   ],
   "source": [
    "\n",
    "\n",
    "Students = {'Sahil':8,'Rosalyn':8,'Philip':7,'Memphis':7,'Danny':8,'Ava':7,'Bella':7,'Emilia':7,'Eric':7,'Vedant':7}\n",
    "print(Students)\n"
   ]
  },
  {
   "cell_type": "code",
   "execution_count": 6,
   "id": "d7886d96",
   "metadata": {},
   "outputs": [
    {
     "data": {
      "text/plain": [
       "dict_keys(['Sahil', 'Rosalyn', 'Philip'])"
      ]
     },
     "execution_count": 6,
     "metadata": {},
     "output_type": "execute_result"
    }
   ],
   "source": [
    "Students.keys()"
   ]
  },
  {
   "cell_type": "code",
   "execution_count": 7,
   "id": "e1c76d1a",
   "metadata": {},
   "outputs": [
    {
     "data": {
      "text/plain": [
       "dict_values([8, 8, 7])"
      ]
     },
     "execution_count": 7,
     "metadata": {},
     "output_type": "execute_result"
    }
   ],
   "source": [
    "Students.values()"
   ]
  },
  {
   "cell_type": "code",
   "execution_count": null,
   "id": "e07d87c5",
   "metadata": {},
   "outputs": [],
   "source": []
  }
 ],
 "metadata": {
  "kernelspec": {
   "display_name": "Python 3 (ipykernel)",
   "language": "python",
   "name": "python3"
  },
  "language_info": {
   "codemirror_mode": {
    "name": "ipython",
    "version": 3
   },
   "file_extension": ".py",
   "mimetype": "text/x-python",
   "name": "python",
   "nbconvert_exporter": "python",
   "pygments_lexer": "ipython3",
   "version": "3.11.5"
  }
 },
 "nbformat": 4,
 "nbformat_minor": 5
}
