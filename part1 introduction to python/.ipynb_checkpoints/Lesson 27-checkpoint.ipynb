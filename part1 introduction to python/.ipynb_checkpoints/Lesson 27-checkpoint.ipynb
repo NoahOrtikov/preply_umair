{
 "cells": [
  {
   "cell_type": "markdown",
   "id": "58bc3ced",
   "metadata": {},
   "source": [
    "### Task 1"
   ]
  },
  {
   "cell_type": "code",
   "execution_count": 1,
   "id": "3c997b02",
   "metadata": {},
   "outputs": [],
   "source": [
    "# make a list \n",
    "# write a digit\n",
    "# find the number in list wich is closest to digit"
   ]
  },
  {
   "cell_type": "code",
   "execution_count": 2,
   "id": "adfcc8d9",
   "metadata": {},
   "outputs": [],
   "source": [
    "# if list is [1 5 20 50 100]\n",
    "# nunber is 10\n",
    "# closest number should dbe 5"
   ]
  },
  {
   "cell_type": "code",
   "execution_count": 5,
   "id": "ddefceee",
   "metadata": {},
   "outputs": [
    {
     "name": "stdout",
     "output_type": "stream",
     "text": [
      "67\n"
     ]
    }
   ],
   "source": [
    "# step1: make a list\n",
    "z = [23,5,57,67,27,34,65,678,1000]\n",
    "\n",
    "# step write. anumber\n",
    "n = 68\n",
    "\n",
    "# step make a new list k\n",
    "k = []\n",
    "# step 4 run a for loop to list and take difference store it into a new list k as abs\n",
    "for each in z:\n",
    "    k.append(abs(each-n))\n",
    "\n",
    "# step \n",
    "ind = k.index(min(k))\n",
    "\n",
    "print(z[ind])"
   ]
  },
  {
   "cell_type": "markdown",
   "id": "58edd36c",
   "metadata": {},
   "source": [
    "### Task 2"
   ]
  },
  {
   "cell_type": "code",
   "execution_count": 6,
   "id": "13d57d4a",
   "metadata": {},
   "outputs": [],
   "source": [
    "# using for loop find the sum of list\n",
    "# usign for loop find the length of list\n",
    "# divide sum with length to get average"
   ]
  },
  {
   "cell_type": "code",
   "execution_count": 11,
   "id": "26e68fab",
   "metadata": {},
   "outputs": [
    {
     "name": "stdout",
     "output_type": "stream",
     "text": [
      "8764\n",
      "730.3333333333334\n"
     ]
    }
   ],
   "source": [
    "Noah = [12,4,557,654,67,634,67,47,56,6547,85,34]\n",
    "s = 0\n",
    "for each in Noah:\n",
    "    s = s+each\n",
    "print(s)\n",
    "\n",
    "\n",
    "l = 0\n",
    "for each in Noah:\n",
    "    l = l+1\n",
    "print(s/l)"
   ]
  },
  {
   "cell_type": "code",
   "execution_count": null,
   "id": "e5cd7edb",
   "metadata": {},
   "outputs": [],
   "source": [
    "### Task 3"
   ]
  },
  {
   "cell_type": "code",
   "execution_count": null,
   "id": "18a8cb26",
   "metadata": {},
   "outputs": [],
   "source": []
  },
  {
   "cell_type": "code",
   "execution_count": null,
   "id": "a1acb980",
   "metadata": {},
   "outputs": [],
   "source": []
  },
  {
   "cell_type": "code",
   "execution_count": null,
   "id": "f482907c",
   "metadata": {},
   "outputs": [],
   "source": []
  },
  {
   "cell_type": "code",
   "execution_count": null,
   "id": "957c3345",
   "metadata": {},
   "outputs": [],
   "source": []
  },
  {
   "cell_type": "code",
   "execution_count": null,
   "id": "8f8faf75",
   "metadata": {},
   "outputs": [],
   "source": []
  },
  {
   "cell_type": "code",
   "execution_count": null,
   "id": "a0f43cf0",
   "metadata": {},
   "outputs": [],
   "source": []
  }
 ],
 "metadata": {
  "kernelspec": {
   "display_name": "Python 3 (ipykernel)",
   "language": "python",
   "name": "python3"
  },
  "language_info": {
   "codemirror_mode": {
    "name": "ipython",
    "version": 3
   },
   "file_extension": ".py",
   "mimetype": "text/x-python",
   "name": "python",
   "nbconvert_exporter": "python",
   "pygments_lexer": "ipython3",
   "version": "3.11.5"
  }
 },
 "nbformat": 4,
 "nbformat_minor": 5
}
