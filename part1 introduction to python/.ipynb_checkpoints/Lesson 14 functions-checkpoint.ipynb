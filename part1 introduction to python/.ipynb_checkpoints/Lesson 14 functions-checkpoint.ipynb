{
 "cells": [
  {
   "cell_type": "markdown",
   "id": "0676d637",
   "metadata": {},
   "source": [
    "### Functions part 2"
   ]
  },
  {
   "cell_type": "code",
   "execution_count": 2,
   "id": "d68922d1",
   "metadata": {},
   "outputs": [],
   "source": [
    "def haaaaa(x):\n",
    "    print(\"hellooooo\",x)"
   ]
  },
  {
   "cell_type": "code",
   "execution_count": 4,
   "id": "bf351bb6",
   "metadata": {},
   "outputs": [
    {
     "name": "stdout",
     "output_type": "stream",
     "text": [
      "hellooooo Yog\n"
     ]
    }
   ],
   "source": [
    "haaaaa(\"Yog\")"
   ]
  },
  {
   "cell_type": "code",
   "execution_count": 5,
   "id": "ab5d4625",
   "metadata": {},
   "outputs": [
    {
     "name": "stdout",
     "output_type": "stream",
     "text": [
      "hellooooo NoahNoahNoahNoahNoah\n"
     ]
    }
   ],
   "source": [
    "haaaaa('NoahNoahNoahNoahNoah')"
   ]
  },
  {
   "cell_type": "code",
   "execution_count": 16,
   "id": "bfee8c6f",
   "metadata": {},
   "outputs": [],
   "source": [
    "def umair(y,n):\n",
    "    if n>10:\n",
    "        n = 10\n",
    "    print(\"Hello\",y*n)"
   ]
  },
  {
   "cell_type": "code",
   "execution_count": 20,
   "id": "f1c73677",
   "metadata": {},
   "outputs": [
    {
     "name": "stdout",
     "output_type": "stream",
     "text": [
      "Hello Umair Umair Umair Umair Umair Umair Umair Umair Umair Umair \n"
     ]
    }
   ],
   "source": [
    "umair('Umair ',10)"
   ]
  },
  {
   "cell_type": "code",
   "execution_count": null,
   "id": "0f4ca59c",
   "metadata": {},
   "outputs": [],
   "source": []
  },
  {
   "cell_type": "code",
   "execution_count": null,
   "id": "b0a9a030",
   "metadata": {},
   "outputs": [],
   "source": []
  },
  {
   "cell_type": "code",
   "execution_count": 21,
   "id": "80a64107",
   "metadata": {},
   "outputs": [],
   "source": [
    "# hhow to mae a small calculator in python"
   ]
  },
  {
   "cell_type": "code",
   "execution_count": 28,
   "id": "7c74ec09",
   "metadata": {},
   "outputs": [],
   "source": [
    "def sc(x,y):\n",
    "    print('the sum is ',x+y)\n",
    "    print('the difference is',x-y)\n",
    "    "
   ]
  },
  {
   "cell_type": "code",
   "execution_count": 29,
   "id": "e49b6c85",
   "metadata": {},
   "outputs": [
    {
     "name": "stdout",
     "output_type": "stream",
     "text": [
      "the sum is  101\n",
      "the difference is -99\n"
     ]
    }
   ],
   "source": [
    "sc(1,100)"
   ]
  },
  {
   "cell_type": "code",
   "execution_count": 30,
   "id": "2a7caa1f",
   "metadata": {},
   "outputs": [
    {
     "name": "stdout",
     "output_type": "stream",
     "text": [
      "the sum is  600\n",
      "the difference is -200\n"
     ]
    }
   ],
   "source": [
    "sc(200,400)"
   ]
  },
  {
   "cell_type": "code",
   "execution_count": 32,
   "id": "d4a965d4",
   "metadata": {},
   "outputs": [
    {
     "name": "stdout",
     "output_type": "stream",
     "text": [
      "the sum is  12355757002226\n",
      "the difference is -12355754533090\n"
     ]
    }
   ],
   "source": [
    "sc(1234568,12355755767658)"
   ]
  },
  {
   "cell_type": "code",
   "execution_count": null,
   "id": "eb977155",
   "metadata": {},
   "outputs": [],
   "source": []
  }
 ],
 "metadata": {
  "kernelspec": {
   "display_name": "Python 3 (ipykernel)",
   "language": "python",
   "name": "python3"
  },
  "language_info": {
   "codemirror_mode": {
    "name": "ipython",
    "version": 3
   },
   "file_extension": ".py",
   "mimetype": "text/x-python",
   "name": "python",
   "nbconvert_exporter": "python",
   "pygments_lexer": "ipython3",
   "version": "3.11.5"
  }
 },
 "nbformat": 4,
 "nbformat_minor": 5
}
