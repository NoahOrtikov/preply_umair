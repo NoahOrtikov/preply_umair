{
 "cells": [
  {
   "cell_type": "markdown",
   "id": "ee538642",
   "metadata": {},
   "source": [
    "### Task 2"
   ]
  },
  {
   "cell_type": "code",
   "execution_count": null,
   "id": "64c8241c",
   "metadata": {},
   "outputs": [],
   "source": []
  },
  {
   "cell_type": "code",
   "execution_count": 40,
   "id": "b2411a9b",
   "metadata": {},
   "outputs": [],
   "source": [
    "import matplotlib.pyplot as plt                              "
   ]
  },
  {
   "cell_type": "code",
   "execution_count": 41,
   "id": "3787132b",
   "metadata": {},
   "outputs": [],
   "source": [
    "import numpy as np"
   ]
  },
  {
   "cell_type": "code",
   "execution_count": 42,
   "id": "b43ae415",
   "metadata": {},
   "outputs": [],
   "source": [
    "x = np.random.randint(0,2,(10,10))"
   ]
  },
  {
   "cell_type": "code",
   "execution_count": 43,
   "id": "c4185268",
   "metadata": {},
   "outputs": [
    {
     "name": "stdout",
     "output_type": "stream",
     "text": [
      "[[1 0 1 1 1 1 0 1 0 1]\n",
      " [1 1 0 0 1 0 0 1 0 1]\n",
      " [0 0 0 0 1 1 1 0 1 0]\n",
      " [1 1 0 0 0 1 0 0 0 1]\n",
      " [0 1 1 1 1 1 1 1 0 1]\n",
      " [1 1 1 1 1 1 1 0 0 0]\n",
      " [1 0 0 0 1 0 1 0 0 0]\n",
      " [1 1 1 0 0 0 1 1 1 0]\n",
      " [0 0 0 0 1 1 0 1 1 0]\n",
      " [1 1 0 1 0 1 0 1 1 0]]\n"
     ]
    }
   ],
   "source": [
    "print(x)"
   ]
  },
  {
   "cell_type": "code",
   "execution_count": 44,
   "id": "efe2fc60",
   "metadata": {},
   "outputs": [
    {
     "data": {
      "text/plain": [
       "<matplotlib.image.AxesImage at 0x1247813d0>"
      ]
     },
     "execution_count": 44,
     "metadata": {},
     "output_type": "execute_result"
    },
    {
     "data": {
      "image/png": "[encoded data removed]",
      "text/plain": [
       "<Figure size 640x480 with 1 Axes>"
      ]
     },
     "metadata": {},
     "output_type": "display_data"
    }
   ],
   "source": [
    "plt.imshow(x)"
   ]
  },
  {
   "cell_type": "markdown",
   "id": "938c6b43",
   "metadata": {},
   "source": [
    "### Task 3"
   ]
  },
  {
   "cell_type": "code",
   "execution_count": 51,
   "id": "276d67c3",
   "metadata": {},
   "outputs": [],
   "source": [
    "# ma a chess board structure with if else\n",
    "x = np.array([\n",
    "    [0,1,0,1,0,1,0,1,0,1],\n",
    "    [1,0,1,0,1,0,1,0,1,0],\n",
    "    [0,1,0,1,0,1,0,1,0,1],\n",
    "    [1,0,1,0,1,0,1,0,1,0],\n",
    "    [0,1,0,1,0,1,0,1,0,1],\n",
    "    [1,0,1,0,1,0,1,0,1,0],\n",
    "    [0,1,0,1,0,1,0,1,0,1],\n",
    "    [1,0,1,0,1,0,1,0,1,0],\n",
    "    [0,1,0,1,0,1,0,1,0,1],\n",
    "    [1,0,1,0,1,0,1,0,1,0],\n",
    "])"
   ]
  },
  {
   "cell_type": "code",
   "execution_count": 52,
   "id": "92b38be9",
   "metadata": {},
   "outputs": [
    {
     "data": {
      "text/plain": [
       "<matplotlib.image.AxesImage at 0x1249213d0>"
      ]
     },
     "execution_count": 52,
     "metadata": {},
     "output_type": "execute_result"
    },
    {
     "data": {
      "image/png": "[encoded data removed]",
      "text/plain": [
       "<Figure size 640x480 with 1 Axes>"
      ]
     },
     "metadata": {},
     "output_type": "display_data"
    }
   ],
   "source": [
    "plt.imshow(x)"
   ]
  },
  {
   "cell_type": "markdown",
   "id": "c8ff29d6",
   "metadata": {},
   "source": [
    "### Task 4"
   ]
  },
  {
   "cell_type": "code",
   "execution_count": 53,
   "id": "d64170bd",
   "metadata": {},
   "outputs": [],
   "source": [
    "# make a function which will tell you greetings if your name is noah, otherwise it will just say hiiii"
   ]
  },
  {
   "cell_type": "code",
   "execution_count": 65,
   "id": "ad2e2712",
   "metadata": {},
   "outputs": [],
   "source": [
    "def noah(x):\n",
    "    if x == \"noah\":\n",
    "        print(\"heeeeeeeey noah\")\n",
    "    else:\n",
    "        print(\"heeey\",x)\n",
    "        "
   ]
  },
  {
   "cell_type": "code",
   "execution_count": 72,
   "id": "a53b8594",
   "metadata": {},
   "outputs": [
    {
     "name": "stdout",
     "output_type": "stream",
     "text": [
      "heeey Umair noooooo\n"
     ]
    }
   ],
   "source": [
    "noah('Umair noooooo')"
   ]
  },
  {
   "cell_type": "code",
   "execution_count": 73,
   "id": "e3719bc3",
   "metadata": {},
   "outputs": [
    {
     "name": "stdout",
     "output_type": "stream",
     "text": [
      "heeeeeeeey noah\n"
     ]
    }
   ],
   "source": [
    "noah ('noah')"
   ]
  },
  {
   "cell_type": "code",
   "execution_count": null,
   "id": "12baaa7c",
   "metadata": {},
   "outputs": [],
   "source": [
    "Weeee finisheddd!"
   ]
  },
  {
   "cell_type": "code",
   "execution_count": null,
   "id": "dc205a8f",
   "metadata": {},
   "outputs": [],
   "source": []
  },
  {
   "cell_type": "code",
   "execution_count": null,
   "id": "65d2e901",
   "metadata": {},
   "outputs": [],
   "source": []
  },
  {
   "cell_type": "code",
   "execution_count": null,
   "id": "db48bf70",
   "metadata": {},
   "outputs": [],
   "source": []
  },
  {
   "cell_type": "code",
   "execution_count": null,
   "id": "68757a81",
   "metadata": {},
   "outputs": [],
   "source": []
  },
  {
   "cell_type": "code",
   "execution_count": null,
   "id": "51e90cf9",
   "metadata": {},
   "outputs": [],
   "source": []
  },
  {
   "cell_type": "code",
   "execution_count": null,
   "id": "77f6bf72",
   "metadata": {},
   "outputs": [],
   "source": []
  }
 ],
 "metadata": {
  "kernelspec": {
   "display_name": "Python 3 (ipykernel)",
   "language": "python",
   "name": "python3"
  },
  "language_info": {
   "codemirror_mode": {
    "name": "ipython",
    "version": 3
   },
   "file_extension": ".py",
   "mimetype": "text/x-python",
   "name": "python",
   "nbconvert_exporter": "python",
   "pygments_lexer": "ipython3",
   "version": "3.11.5"
  }
 },
 "nbformat": 4,
 "nbformat_minor": 5
}
