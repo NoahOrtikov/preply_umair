{
 "cells": [
  {
   "cell_type": "markdown",
   "id": "a476f4c1",
   "metadata": {},
   "source": [
    "### Task 1"
   ]
  },
  {
   "cell_type": "code",
   "execution_count": 1,
   "id": "199a8117",
   "metadata": {},
   "outputs": [],
   "source": [
    "#### dictionary is a data structure which is used to store information\n",
    "#### to make a dictionary you have to write a key and a value\n",
    "#### if i write h = {'name':'Noah','name2':'ADA'} so here h is dictionary \n",
    "### h has two items, each item has one key an done value"
   ]
  },
  {
   "cell_type": "code",
   "execution_count": null,
   "id": "c691aa40",
   "metadata": {},
   "outputs": [],
   "source": [
    "##### make a dictionary of 5 frtui"
   ]
  }
 ],
 "metadata": {
  "kernelspec": {
   "display_name": "Python 3 (ipykernel)",
   "language": "python",
   "name": "python3"
  },
  "language_info": {
   "codemirror_mode": {
    "name": "ipython",
    "version": 3
   },
   "file_extension": ".py",
   "mimetype": "text/x-python",
   "name": "python",
   "nbconvert_exporter": "python",
   "pygments_lexer": "ipython3",
   "version": "3.11.5"
  }
 },
 "nbformat": 4,
 "nbformat_minor": 5
}
