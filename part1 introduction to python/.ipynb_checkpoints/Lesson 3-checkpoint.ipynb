{
 "cells": [
  {
   "cell_type": "markdown",
   "id": "f1b874a7",
   "metadata": {},
   "source": [
    "## variables"
   ]
  },
  {
   "cell_type": "code",
   "execution_count": 3,
   "id": "232f9b33",
   "metadata": {},
   "outputs": [],
   "source": [
    "x = 10"
   ]
  },
  {
   "cell_type": "code",
   "execution_count": 4,
   "id": "117151e4",
   "metadata": {},
   "outputs": [],
   "source": [
    "y = 6"
   ]
  },
  {
   "cell_type": "code",
   "execution_count": 5,
   "id": "4e16d2c7",
   "metadata": {},
   "outputs": [],
   "source": [
    "noah = \"good boy\""
   ]
  },
  {
   "cell_type": "code",
   "execution_count": 6,
   "id": "b30917b1",
   "metadata": {},
   "outputs": [
    {
     "name": "stdout",
     "output_type": "stream",
     "text": [
      "good boy\n"
     ]
    }
   ],
   "source": [
    "print(noah)"
   ]
  },
  {
   "cell_type": "code",
   "execution_count": 7,
   "id": "e786d9bf",
   "metadata": {},
   "outputs": [],
   "source": [
    "bella = \"good girl\""
   ]
  },
  {
   "cell_type": "code",
   "execution_count": 8,
   "id": "9ef036b3",
   "metadata": {},
   "outputs": [
    {
     "name": "stdout",
     "output_type": "stream",
     "text": [
      "good girl\n"
     ]
    }
   ],
   "source": [
    "print(bella)"
   ]
  },
  {
   "cell_type": "code",
   "execution_count": 9,
   "id": "34c0495c",
   "metadata": {},
   "outputs": [],
   "source": [
    "noah_age = 7.5\n"
   ]
  },
  {
   "cell_type": "code",
   "execution_count": 10,
   "id": "3b76bc3b",
   "metadata": {},
   "outputs": [
    {
     "name": "stdout",
     "output_type": "stream",
     "text": [
      "7.5\n"
     ]
    }
   ],
   "source": [
    "print (noah_age)"
   ]
  },
  {
   "cell_type": "code",
   "execution_count": 11,
   "id": "6676ceee",
   "metadata": {},
   "outputs": [],
   "source": [
    "bella_age = 7.5"
   ]
  },
  {
   "cell_type": "code",
   "execution_count": 12,
   "id": "0c16727e",
   "metadata": {},
   "outputs": [
    {
     "name": "stdout",
     "output_type": "stream",
     "text": [
      "7.5\n"
     ]
    }
   ],
   "source": [
    "print (bella_age)"
   ]
  },
  {
   "cell_type": "code",
   "execution_count": 13,
   "id": "7bd32017",
   "metadata": {},
   "outputs": [],
   "source": [
    "# make a variable fav_fruit and assing it value (wahtever your favorutire fruit is)\n"
   ]
  },
  {
   "cell_type": "code",
   "execution_count": 14,
   "id": "9e9e7e39",
   "metadata": {},
   "outputs": [],
   "source": [
    "fav_fruit =  \"Green apple\""
   ]
  },
  {
   "cell_type": "code",
   "execution_count": 15,
   "id": "0b852b74",
   "metadata": {},
   "outputs": [
    {
     "name": "stdout",
     "output_type": "stream",
     "text": [
      "Green apple\n"
     ]
    }
   ],
   "source": [
    "print(fav_fruit)"
   ]
  },
  {
   "cell_type": "code",
   "execution_count": 16,
   "id": "eaef4921",
   "metadata": {},
   "outputs": [],
   "source": [
    "# write you favourite color and store it into fav_color variable"
   ]
  },
  {
   "cell_type": "code",
   "execution_count": 17,
   "id": "e622f196",
   "metadata": {},
   "outputs": [],
   "source": [
    "fav_color = 'Navy blue'"
   ]
  },
  {
   "cell_type": "code",
   "execution_count": 18,
   "id": "3ff1d12c",
   "metadata": {},
   "outputs": [
    {
     "name": "stdout",
     "output_type": "stream",
     "text": [
      "Navy blue\n"
     ]
    }
   ],
   "source": [
    "print(fav_color)"
   ]
  },
  {
   "cell_type": "code",
   "execution_count": 19,
   "id": "6f82f179",
   "metadata": {},
   "outputs": [],
   "source": [
    "# write a variable name and asssing it your friends name\n",
    "# write a variable age and assing it age\n",
    "# print(name,age)"
   ]
  },
  {
   "cell_type": "code",
   "execution_count": 20,
   "id": "534473de",
   "metadata": {},
   "outputs": [
    {
     "name": "stdout",
     "output_type": "stream",
     "text": [
      "Sahil 8\n"
     ]
    }
   ],
   "source": [
    "name = 'Sahil'\n",
    "age = 8\n",
    "print(name,age)"
   ]
  },
  {
   "cell_type": "code",
   "execution_count": 21,
   "id": "a0392cec",
   "metadata": {},
   "outputs": [],
   "source": [
    "# define x with 10, y ith 20 and z with 30\n",
    "#print (x,y,z)"
   ]
  },
  {
   "cell_type": "code",
   "execution_count": 22,
   "id": "ab086604",
   "metadata": {},
   "outputs": [
    {
     "name": "stdout",
     "output_type": "stream",
     "text": [
      "10 20 30\n"
     ]
    }
   ],
   "source": [
    "x = 10\n",
    "y = 20\n",
    "z = 30\n",
    "print(x,y,z)"
   ]
  },
  {
   "cell_type": "code",
   "execution_count": 23,
   "id": "884fc7dd",
   "metadata": {},
   "outputs": [
    {
     "name": "stdout",
     "output_type": "stream",
     "text": [
      "hey how are you Sahil\n"
     ]
    }
   ],
   "source": [
    "name=\"Sahil\"\n",
    "print(\"hey how are you\",name)"
   ]
  },
  {
   "cell_type": "markdown",
   "id": "dd0669c3",
   "metadata": {},
   "source": [
    "## print in python"
   ]
  },
  {
   "cell_type": "code",
   "execution_count": 24,
   "id": "619ba52e",
   "metadata": {},
   "outputs": [
    {
     "name": "stdout",
     "output_type": "stream",
     "text": [
      "name of student is Sahil he is a boy his age is 8\n"
     ]
    }
   ],
   "source": [
    "name = \"Sahil\"\n",
    "age= 8\n",
    "gender = \"boy\"\n",
    "status = \"student\"\n",
    "\n",
    "\n",
    "\n",
    "\n",
    "print('name of',status,'is',name,'he is a',gender,'his age is',age)"
   ]
  },
  {
   "cell_type": "code",
   "execution_count": 25,
   "id": "187fb31e",
   "metadata": {},
   "outputs": [],
   "source": [
    "# we learn a littl about print"
   ]
  },
  {
   "cell_type": "code",
   "execution_count": 26,
   "id": "cfe49241",
   "metadata": {},
   "outputs": [
    {
     "name": "stdout",
     "output_type": "stream",
     "text": [
      "name of teacher is umair he is a boy his age is 29\n"
     ]
    }
   ],
   "source": [
    "name = \"umair\"\n",
    "age= 29\n",
    "gender = \"boy\"\n",
    "status = \"teacher\"\n",
    "\n",
    "\n",
    "\n",
    "\n",
    "print('name of',status,'is',name,'he is a',gender,'his age is',age)\n"
   ]
  },
  {
   "cell_type": "code",
   "execution_count": 27,
   "id": "74c991b2",
   "metadata": {},
   "outputs": [],
   "source": [
    "### lets print a diamond"
   ]
  },
  {
   "cell_type": "code",
   "execution_count": 28,
   "id": "c3e352e1",
   "metadata": {},
   "outputs": [
    {
     "name": "stdout",
     "output_type": "stream",
     "text": [
      "   *      *      *      *      *      *      *      *      *      *      *      *      *      *      *      *   \n",
      "  ***    ***    ***    ***    ***    ***    ***    ***    ***    ***    ***    ***    ***    ***    ***    ***  \n",
      " *****  *****  *****  *****  *****  *****  *****  *****  *****  *****  *****  *****  *****  *****  *****  ***** \n",
      "****************************************************************************************************************\n",
      " *****  *****  *****  *****  *****  *****  *****  *****  *****  *****  *****  *****  *****  *****  *****  ***** \n",
      "  ***    ***    ***    ***    ***    ***    ***    ***    ***    ***    ***    ***    ***    ***    ***    ***  \n",
      "   *      *      *      *      *      *      *      *      *      *      *      *      *      *      *      *   \n",
      "   *      *      *      *      *      *      *      *      *      *      *      *      *      *      *   \n",
      "  ***    ***    ***    ***    ***    ***    ***    ***    ***    ***    ***    ***    ***    ***    ***  \n",
      " *****  *****  *****  *****  *****  *****  *****  *****  *****  *****  *****  *****  *****  *****  ***** \n",
      "*********************************************************************************************************\n",
      " *****  *****  *****  *****  *****  *****  *****  *****  *****  *****  *****  *****  *****  *****  ***** \n",
      "  ***    ***    ***    ***    ***    ***    ***    ***    ***    ***    ***    ***    ***    ***    ***  \n",
      "   *      *      *      *      *      *      *      *      *      *      *      *      *      *      *   \n",
      "   *      *      *      *      *      *      *      *      *      *      *      *      *      *   \n",
      "  ***    ***    ***    ***    ***    ***    ***    ***    ***    ***    ***    ***    ***    ***  \n",
      " *****  *****  *****  *****  *****  *****  *****  *****  *****  *****  *****  *****  *****  ***** \n",
      "**************************************************************************************************\n",
      " *****  *****  *****  *****  *****  *****  *****  *****  *****  *****  *****  *****  *****  ***** \n",
      "  ***    ***    ***    ***    ***    ***    ***    ***    ***    ***    ***    ***    ***    ***  \n",
      "   *      *      *      *      *      *      *      *      *      *      *      *      *      *   \n",
      "   *      *      *      *      *      *      *      *      *      *      *      *      *   \n",
      "  ***    ***    ***    ***    ***    ***    ***    ***    ***    ***    ***    ***    ***  \n",
      " *****  *****  *****  *****  *****  *****  *****  *****  *****  *****  *****  *****  ***** \n",
      "*******************************************************************************************\n",
      " *****  *****  *****  *****  *****  *****  *****  *****  *****  *****  *****  *****  ***** \n",
      "  ***    ***    ***    ***    ***    ***    ***    ***    ***    ***    ***    ***    ***  \n",
      "   *      *      *      *      *      *      *      *      *      *      *      *      *   \n",
      "   *      *      *      *      *      *      *      *      *      *      *      *   \n",
      "  ***    ***    ***    ***    ***    ***    ***    ***    ***    ***    ***    ***  \n",
      " *****  *****  *****  *****  *****  *****  *****  *****  *****  *****  *****  ***** \n",
      "************************************************************************************\n",
      " *****  *****  *****  *****  *****  *****  *****  *****  *****  *****  *****  ***** \n",
      "  ***    ***    ***    ***    ***    ***    ***    ***    ***    ***    ***    ***  \n",
      "   *      *      *      *      *      *      *      *      *      *      *      *   \n",
      "   *      *      *      *      *      *      *      *      *      *      *   \n",
      "  ***    ***    ***    ***    ***    ***    ***    ***    ***    ***    ***  \n",
      " *****  *****  *****  *****  *****  *****  *****  *****  *****  *****  ***** \n",
      "*****************************************************************************\n",
      " *****  *****  *****  *****  *****  *****  *****  *****  *****  *****  ***** \n",
      "  ***    ***    ***    ***    ***    ***    ***    ***    ***    ***    ***  \n",
      "   *      *      *      *      *      *      *      *      *      *      *   \n",
      "   *      *      *      *      *      *      *      *      *      *   \n",
      "  ***    ***    ***    ***    ***    ***    ***    ***    ***    ***  \n",
      " *****  *****  *****  *****  *****  *****  *****  *****  *****  ***** \n",
      "**********************************************************************\n",
      " *****  *****  *****  *****  *****  *****  *****  *****  *****  ***** \n",
      "  ***    ***    ***    ***    ***    ***    ***    ***    ***    ***  \n",
      "   *      *      *      *      *      *      *      *      *      *   \n",
      "   *      *      *      *      *      *      *      *      *   \n",
      "  ***    ***    ***    ***    ***    ***    ***    ***    ***  \n",
      " *****  *****  *****  *****  *****  *****  *****  *****  ***** \n",
      "***************************************************************\n",
      " *****  *****  *****  *****  *****  *****  *****  *****  ***** \n",
      "  ***    ***    ***    ***    ***    ***    ***    ***    ***  \n",
      "   *      *      *      *      *      *      *      *      *   \n",
      "   *      *      *      *      *      *      *      *   \n",
      "  ***    ***    ***    ***    ***    ***    ***    ***  \n",
      " *****  *****  *****  *****  *****  *****  *****  ***** \n",
      "********************************************************\n",
      " *****  *****  *****  *****  *****  *****  *****  ***** \n",
      "  ***    ***    ***    ***    ***    ***    ***    ***  \n",
      "   *      *      *      *      *      *      *      *   \n",
      "   *      *      *      *      *      *      *   \n",
      "  ***    ***    ***    ***    ***    ***    ***  \n",
      " *****  *****  *****  *****  *****  *****  ***** \n",
      "*************************************************\n",
      " *****  *****  *****  *****  *****  *****  ***** \n",
      "  ***    ***    ***    ***    ***    ***    ***  \n",
      "   *      *      *      *      *      *      *   \n"
     ]
    }
   ],
   "source": [
    "n = 16\n",
    "\n",
    "print(\"   *   \" * n)\n",
    "print(\"  ***  \" * n)\n",
    "print(' ***** ' * n)\n",
    "print(\"*******\" * n)\n",
    "print(\" ***** \" * n)\n",
    "print('  ***  ' * n)\n",
    "print('   *   ' * n)\n",
    "\n",
    "\n",
    "k = 1\n",
    "print(\"   *   \" * (n-k))\n",
    "print(\"  ***  \" * (n-k))\n",
    "print(' ***** ' * (n-k))\n",
    "print(\"*******\" * (n-k))\n",
    "print(\" ***** \" * (n-k))\n",
    "print('  ***  ' * (n-k))\n",
    "print('   *   ' * (n-k))\n",
    "\n",
    "\n",
    "k = 2\n",
    "print(\"   *   \" * (n-k))\n",
    "print(\"  ***  \" * (n-k))\n",
    "print(' ***** ' * (n-k))\n",
    "print(\"*******\" * (n-k))\n",
    "print(\" ***** \" * (n-k))\n",
    "print('  ***  ' * (n-k))\n",
    "print('   *   ' * (n-k))\n",
    "\n",
    "\n",
    "\n",
    "k = 3\n",
    "print(\"   *   \" * (n-k))\n",
    "print(\"  ***  \" * (n-k))\n",
    "print(' ***** ' * (n-k))\n",
    "print(\"*******\" * (n-k))\n",
    "print(\" ***** \" * (n-k))\n",
    "print('  ***  ' * (n-k))\n",
    "print('   *   ' * (n-k))\n",
    "\n",
    "\n",
    "\n",
    "k = 4\n",
    "print(\"   *   \" * (n-k))\n",
    "print(\"  ***  \" * (n-k))\n",
    "print(' ***** ' * (n-k))\n",
    "print(\"*******\" * (n-k))\n",
    "print(\" ***** \" * (n-k))\n",
    "print('  ***  ' * (n-k))\n",
    "print('   *   ' * (n-k))\n",
    "\n",
    "\n",
    "\n",
    "k = 5\n",
    "print(\"   *   \" * (n-k))\n",
    "print(\"  ***  \" * (n-k))\n",
    "print(' ***** ' * (n-k))\n",
    "print(\"*******\" * (n-k))\n",
    "print(\" ***** \" * (n-k))\n",
    "print('  ***  ' * (n-k))\n",
    "print('   *   ' * (n-k))\n",
    "\n",
    "\n",
    "\n",
    "k = 6\n",
    "print(\"   *   \" * (n-k))\n",
    "print(\"  ***  \" * (n-k))\n",
    "print(' ***** ' * (n-k))\n",
    "print(\"*******\" * (n-k))\n",
    "print(\" ***** \" * (n-k))\n",
    "print('  ***  ' * (n-k))\n",
    "print('   *   ' * (n-k))\n",
    "\n",
    "\n",
    "\n",
    "k = 7\n",
    "print(\"   *   \" * (n-k))\n",
    "print(\"  ***  \" * (n-k))\n",
    "print(' ***** ' * (n-k))\n",
    "print(\"*******\" * (n-k))\n",
    "print(\" ***** \" * (n-k))\n",
    "print('  ***  ' * (n-k))\n",
    "print('   *   ' * (n-k))\n",
    "\n",
    "\n",
    "\n",
    "k = 8\n",
    "print(\"   *   \" * (n-k))\n",
    "print(\"  ***  \" * (n-k))\n",
    "print(' ***** ' * (n-k))\n",
    "print(\"*******\" * (n-k))\n",
    "print(\" ***** \" * (n-k))\n",
    "print('  ***  ' * (n-k))\n",
    "print('   *   ' * (n-k))\n",
    "\n",
    "\n",
    "\n",
    "k = 9\n",
    "print(\"   *   \" * (n-k))\n",
    "print(\"  ***  \" * (n-k))\n",
    "print(' ***** ' * (n-k))\n",
    "print(\"*******\" * (n-k))\n",
    "print(\" ***** \" * (n-k))\n",
    "print('  ***  ' * (n-k))\n",
    "print('   *   ' * (n-k))\n",
    "\n",
    "\n"
   ]
  },
  {
   "cell_type": "code",
   "execution_count": 29,
   "id": "273c2339",
   "metadata": {},
   "outputs": [
    {
     "name": "stdout",
     "output_type": "stream",
     "text": [
      "     n     *   * \n",
      "     n     *   * *\n",
      "     n     *   *   \n",
      "      nn***    * \n"
     ]
    }
   ],
   "source": [
    "# USing print you have to prtn your name NOAH,,, with ns\n",
    "\n",
    "\n",
    "print(\"     n     *   * \")\n",
    "print(\"     n     *   * *\")\n",
    "print(\"     n     *   *   \")\n",
    "print(\"      nn***    * \")"
   ]
  },
  {
   "cell_type": "code",
   "execution_count": 30,
   "id": "ea1314c0",
   "metadata": {},
   "outputs": [
    {
     "name": "stdout",
     "output_type": "stream",
     "text": [
      "        \n",
      "        \n",
      "        \n",
      "        \n"
     ]
    }
   ],
   "source": [
    "print('        ')\n",
    "print('        ')\n",
    "print('        ')\n",
    "print('        ')"
   ]
  },
  {
   "cell_type": "code",
   "execution_count": 1,
   "id": "5b0ebfa1",
   "metadata": {},
   "outputs": [
    {
     "name": "stdout",
     "output_type": "stream",
     "text": [
      "\n",
      "\n",
      "U   U\n",
      "U   U\n",
      "UUUUU\n",
      "\n",
      "\n",
      "\n",
      "\n"
     ]
    }
   ],
   "source": [
    "p = \"\"\"\n",
    "\n",
    "U   U M  MMMMMMMMMMM\n",
    "U   UM   M\n",
    "UUUUU    *              \n",
    "\n",
    "\n",
    "\n",
    "\"\"\"\n",
    "print(p)"
   ]
  },
  {
   "cell_type": "code",
   "execution_count": null,
   "id": "2a52d705",
   "metadata": {},
   "outputs": [],
   "source": []
  },
  {
   "cell_type": "code",
   "execution_count": null,
   "id": "7ae7ff04",
   "metadata": {},
   "outputs": [],
   "source": [
    "\n",
    "\n"
   ]
  },
  {
   "cell_type": "code",
   "execution_count": null,
   "id": "a84ae224",
   "metadata": {},
   "outputs": [],
   "source": []
  },
  {
   "cell_type": "code",
   "execution_count": null,
   "id": "b9d724f8",
   "metadata": {},
   "outputs": [],
   "source": []
  },
  {
   "cell_type": "code",
   "execution_count": null,
   "id": "ac56b7bc",
   "metadata": {},
   "outputs": [],
   "source": []
  },
  {
   "cell_type": "code",
   "execution_count": null,
   "id": "c73c3525",
   "metadata": {},
   "outputs": [],
   "source": []
  },
  {
   "cell_type": "code",
   "execution_count": null,
   "id": "39becf37",
   "metadata": {},
   "outputs": [],
   "source": []
  },
  {
   "cell_type": "code",
   "execution_count": null,
   "id": "fd7ad239",
   "metadata": {},
   "outputs": [],
   "source": []
  },
  {
   "cell_type": "code",
   "execution_count": null,
   "id": "575256f1",
   "metadata": {},
   "outputs": [],
   "source": []
  },
  {
   "cell_type": "code",
   "execution_count": null,
   "id": "db44aec4",
   "metadata": {},
   "outputs": [],
   "source": []
  },
  {
   "cell_type": "code",
   "execution_count": null,
   "id": "882317cb",
   "metadata": {},
   "outputs": [],
   "source": []
  },
  {
   "cell_type": "code",
   "execution_count": null,
   "id": "d90ccb04",
   "metadata": {},
   "outputs": [],
   "source": []
  },
  {
   "cell_type": "code",
   "execution_count": null,
   "id": "0a07d3b8",
   "metadata": {},
   "outputs": [],
   "source": []
  },
  {
   "cell_type": "code",
   "execution_count": null,
   "id": "1235b853",
   "metadata": {},
   "outputs": [],
   "source": []
  },
  {
   "cell_type": "code",
   "execution_count": null,
   "id": "add3057f",
   "metadata": {},
   "outputs": [],
   "source": []
  },
  {
   "cell_type": "code",
   "execution_count": null,
   "id": "b51275a8",
   "metadata": {},
   "outputs": [],
   "source": []
  },
  {
   "cell_type": "code",
   "execution_count": null,
   "id": "d8d3b3f2",
   "metadata": {},
   "outputs": [],
   "source": []
  },
  {
   "cell_type": "code",
   "execution_count": null,
   "id": "444380dd",
   "metadata": {},
   "outputs": [],
   "source": []
  },
  {
   "cell_type": "code",
   "execution_count": null,
   "id": "94c55a05",
   "metadata": {},
   "outputs": [],
   "source": []
  },
  {
   "cell_type": "code",
   "execution_count": null,
   "id": "dace0db3",
   "metadata": {},
   "outputs": [],
   "source": []
  },
  {
   "cell_type": "code",
   "execution_count": null,
   "id": "cc688389",
   "metadata": {},
   "outputs": [],
   "source": []
  },
  {
   "cell_type": "code",
   "execution_count": null,
   "id": "671aa411",
   "metadata": {},
   "outputs": [],
   "source": []
  },
  {
   "cell_type": "code",
   "execution_count": null,
   "id": "0901b9af",
   "metadata": {},
   "outputs": [],
   "source": []
  },
  {
   "cell_type": "code",
   "execution_count": null,
   "id": "0cb99c41",
   "metadata": {},
   "outputs": [],
   "source": []
  },
  {
   "cell_type": "code",
   "execution_count": null,
   "id": "2c750665",
   "metadata": {},
   "outputs": [],
   "source": []
  },
  {
   "cell_type": "code",
   "execution_count": null,
   "id": "c82cdf9d",
   "metadata": {},
   "outputs": [],
   "source": []
  },
  {
   "cell_type": "code",
   "execution_count": null,
   "id": "5dccf565",
   "metadata": {},
   "outputs": [],
   "source": []
  },
  {
   "cell_type": "code",
   "execution_count": null,
   "id": "6f4fbe48",
   "metadata": {},
   "outputs": [],
   "source": []
  },
  {
   "cell_type": "code",
   "execution_count": null,
   "id": "d62fc584",
   "metadata": {},
   "outputs": [],
   "source": []
  },
  {
   "cell_type": "code",
   "execution_count": null,
   "id": "9bf7681a",
   "metadata": {},
   "outputs": [],
   "source": []
  },
  {
   "cell_type": "code",
   "execution_count": null,
   "id": "a2316528",
   "metadata": {},
   "outputs": [],
   "source": []
  },
  {
   "cell_type": "code",
   "execution_count": null,
   "id": "eb2dabed",
   "metadata": {},
   "outputs": [],
   "source": []
  },
  {
   "cell_type": "code",
   "execution_count": null,
   "id": "5f8fa594",
   "metadata": {},
   "outputs": [],
   "source": []
  },
  {
   "cell_type": "code",
   "execution_count": null,
   "id": "17cc9ec1",
   "metadata": {},
   "outputs": [],
   "source": []
  },
  {
   "cell_type": "code",
   "execution_count": null,
   "id": "0d8d5689",
   "metadata": {},
   "outputs": [],
   "source": []
  },
  {
   "cell_type": "code",
   "execution_count": null,
   "id": "0937aef4",
   "metadata": {},
   "outputs": [],
   "source": []
  },
  {
   "cell_type": "code",
   "execution_count": null,
   "id": "89916303",
   "metadata": {},
   "outputs": [],
   "source": []
  },
  {
   "cell_type": "code",
   "execution_count": null,
   "id": "cea104de",
   "metadata": {},
   "outputs": [],
   "source": []
  },
  {
   "cell_type": "code",
   "execution_count": null,
   "id": "e715f9fb",
   "metadata": {},
   "outputs": [],
   "source": []
  }
 ],
 "metadata": {
  "kernelspec": {
   "display_name": "Python 3 (ipykernel)",
   "language": "python",
   "name": "python3"
  },
  "language_info": {
   "codemirror_mode": {
    "name": "ipython",
    "version": 3
   },
   "file_extension": ".py",
   "mimetype": "text/x-python",
   "name": "python",
   "nbconvert_exporter": "python",
   "pygments_lexer": "ipython3",
   "version": "3.11.5"
  }
 },
 "nbformat": 4,
 "nbformat_minor": 5
}
