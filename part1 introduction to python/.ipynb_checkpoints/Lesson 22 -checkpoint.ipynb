{
 "cells": [
  {
   "cell_type": "code",
   "execution_count": 1,
   "id": "7254a976",
   "metadata": {},
   "outputs": [
    {
     "data": {
      "text/plain": [
       "['Apple', 'Orange', 'Mango']"
      ]
     },
     "execution_count": 1,
     "metadata": {},
     "output_type": "execute_result"
    }
   ],
   "source": [
    "x = ['Apple','Orange','Mango']\n",
    "x"
   ]
  },
  {
   "cell_type": "code",
   "execution_count": 2,
   "id": "316a073b",
   "metadata": {},
   "outputs": [
    {
     "name": "stdout",
     "output_type": "stream",
     "text": [
      "APPLE\n",
      "ORANGE\n",
      "MANGO\n"
     ]
    }
   ],
   "source": [
    "for i in x:\n",
    "    print(i.upper())"
   ]
  },
  {
   "cell_type": "code",
   "execution_count": 3,
   "id": "fa17952d",
   "metadata": {},
   "outputs": [],
   "source": [
    "x = \"helooo\"\n",
    "p = []\n",
    "p.append(x)"
   ]
  },
  {
   "cell_type": "code",
   "execution_count": 4,
   "id": "3dae499a",
   "metadata": {},
   "outputs": [
    {
     "data": {
      "text/plain": [
       "['helooo']"
      ]
     },
     "execution_count": 4,
     "metadata": {},
     "output_type": "execute_result"
    }
   ],
   "source": [
    "p"
   ]
  },
  {
   "cell_type": "code",
   "execution_count": null,
   "id": "a81a9d46",
   "metadata": {},
   "outputs": [],
   "source": [
    "# Q1 Please make a small program in which user will ask you name and you will save it in a list\n",
    "# but first run a for loop for 5 times\n"
   ]
  },
  {
   "cell_type": "code",
   "execution_count": 9,
   "id": "f9b6cfa7",
   "metadata": {},
   "outputs": [
    {
     "name": "stdout",
     "output_type": "stream",
     "text": [
      "nameumair\n",
      "namenoah\n",
      "nameandy\n",
      "nameangela\n",
      "nameusman\n"
     ]
    }
   ],
   "source": [
    "o = []\n",
    "for i in range(5):\n",
    "    x = input ('name')\n",
    "    o.append(x)"
   ]
  },
  {
   "cell_type": "code",
   "execution_count": 10,
   "id": "043dff0a",
   "metadata": {},
   "outputs": [
    {
     "data": {
      "text/plain": [
       "['umair', 'noah', 'andy', 'angela', 'usman']"
      ]
     },
     "execution_count": 10,
     "metadata": {},
     "output_type": "execute_result"
    }
   ],
   "source": [
    "o"
   ]
  },
  {
   "cell_type": "code",
   "execution_count": 11,
   "id": "1f30d89f",
   "metadata": {},
   "outputs": [
    {
     "data": {
      "text/plain": [
       "['umair', 'noah', 'andy', 'angela', 'usman']"
      ]
     },
     "execution_count": 11,
     "metadata": {},
     "output_type": "execute_result"
    }
   ],
   "source": [
    "o\n"
   ]
  },
  {
   "cell_type": "markdown",
   "id": "959d1b2e",
   "metadata": {},
   "source": [
    "### Q2"
   ]
  },
  {
   "cell_type": "code",
   "execution_count": 12,
   "id": "81093a1c",
   "metadata": {},
   "outputs": [],
   "source": [
    "# make a small program which will keep all even numbers to e=ven list\n",
    "# all odd numbers to odd list\n"
   ]
  },
  {
   "cell_type": "code",
   "execution_count": null,
   "id": "53119ef0",
   "metadata": {},
   "outputs": [],
   "source": [
    "even = []\n",
    "odd =[]\n",
    "\n",
    "k = [321,23,43,5,324,423,34,13243,3423,34,3454,5,2,34,1,2,4,2,5,5,6,644,43,99]\n"
   ]
  },
  {
   "cell_type": "code",
   "execution_count": 14,
   "id": "63083b90",
   "metadata": {},
   "outputs": [],
   "source": [
    "even = []\n",
    "odd =[]\n",
    "\n",
    "k = [321,23,43,5,324,423,34,13243,3423,34,3454,5,2,34,1,2,4,2,5,5,6,644,43,99]"
   ]
  },
  {
   "cell_type": "code",
   "execution_count": 18,
   "id": "f185d5d6",
   "metadata": {},
   "outputs": [],
   "source": [
    "for i in k:\n",
    "    if i % 2==0:\n",
    "        even.append(i)\n",
    "    else:\n",
    "        odd.append (i)\n",
    "        "
   ]
  },
  {
   "cell_type": "code",
   "execution_count": 20,
   "id": "9d8862c7",
   "metadata": {},
   "outputs": [
    {
     "name": "stdout",
     "output_type": "stream",
     "text": [
      "[324, 34, 34, 3454, 2, 34, 2, 4, 2, 6, 644, 324, 34, 34, 3454, 2, 34, 2, 4, 2, 6, 644, 324, 34, 34, 3454, 2, 34, 2, 4, 2, 6, 644]\n"
     ]
    }
   ],
   "source": [
    "print(even)"
   ]
  },
  {
   "cell_type": "code",
   "execution_count": 23,
   "id": "2151c38f",
   "metadata": {},
   "outputs": [
    {
     "name": "stdout",
     "output_type": "stream",
     "text": [
      "[321, 23, 43, 5, 423, 13243, 3423, 5, 1, 5, 5, 43, 99, 321, 23, 43, 5, 423, 13243, 3423, 5, 1, 5, 5, 43, 99]\n"
     ]
    }
   ],
   "source": [
    "print(odd)"
   ]
  },
  {
   "cell_type": "markdown",
   "id": "a6683bac",
   "metadata": {},
   "source": [
    "### Task 3"
   ]
  },
  {
   "cell_type": "code",
   "execution_count": 28,
   "id": "1723d9c6",
   "metadata": {},
   "outputs": [
    {
     "ename": "NameError",
     "evalue": "name 'random' is not defined",
     "output_type": "error",
     "traceback": [
      "\u001b[0;31m---------------------------------------------------------------------------\u001b[0m",
      "\u001b[0;31mNameError\u001b[0m                                 Traceback (most recent call last)",
      "Cell \u001b[0;32mIn[28], line 2\u001b[0m\n\u001b[1;32m      1\u001b[0m options \u001b[38;5;241m=\u001b[39m [\u001b[38;5;124m'\u001b[39m\u001b[38;5;124mrock\u001b[39m\u001b[38;5;124m'\u001b[39m,\u001b[38;5;124m'\u001b[39m\u001b[38;5;124mpaper\u001b[39m\u001b[38;5;124m'\u001b[39m,\u001b[38;5;124m'\u001b[39m\u001b[38;5;124mscissors\u001b[39m\u001b[38;5;124m'\u001b[39m]\n\u001b[0;32m----> 2\u001b[0m x \u001b[38;5;241m=\u001b[39m random\u001b[38;5;241m.\u001b[39mchoice  (options)\n\u001b[1;32m      3\u001b[0m y \u001b[38;5;241m=\u001b[39m \u001b[38;5;28minput\u001b[39m(\u001b[38;5;124m\"\u001b[39m\u001b[38;5;124mplease seclect paper rock and scissors\u001b[39m\u001b[38;5;124m\"\u001b[39m)\n\u001b[1;32m      4\u001b[0m \u001b[38;5;28mprint\u001b[39m(\u001b[38;5;124mf\u001b[39m\u001b[38;5;124m\"\u001b[39m\u001b[38;5;124muser selected  \u001b[39m\u001b[38;5;132;01m{\u001b[39;00my\u001b[38;5;132;01m}\u001b[39;00m\u001b[38;5;124m\"\u001b[39m)\n",
      "\u001b[0;31mNameError\u001b[0m: name 'random' is not defined"
     ]
    }
   ],
   "source": [
    "options = ['rock','paper','scissors']\n",
    "x = random.choice  (options)\n",
    "y = input(\"please seclect paper rock and scissors\")\n",
    "print(f\"user selected  {y}\")\n",
    "print(f\"computer selected {x}\")\n",
    "\n",
    "\n",
    "\n",
    "\n",
    "\n",
    "\n",
    "if x ==y:\n",
    "    print(\"draw\")\n",
    "elif x == \"rock\" and y ==\"scissors\":\n",
    "    print(\"computer winds\")\n",
    "elif x == \"scissors\" and y == \"rock\":\n",
    "    print(\"noah wins\")\n",
    "elif x ==\"rock\" and y ==\"paper\":\n",
    "    print(\"computer wins\")\n",
    "elif x ==\"rock\" and y ==\"paper\":\n",
    "    print(\"noah wins the game\")\n",
    "elif x == \"paper\" and y ==\"rock\":\n",
    "    print(\"computer wins\")\n",
    "elif x == \"scissors\" and y ==\"paper\":\n",
    "    print(\"compute wins\")\n",
    "elif x == \"paper\" and y ==\"scissors\":\n",
    "    print(\"computer wins\")\n",
    "    \n",
    "    \n",
    "else:\n",
    "    print(\"please choose paper rock and scissors\")\n"
   ]
  },
  {
   "cell_type": "code",
   "execution_count": null,
   "id": "c0fda5ba",
   "metadata": {},
   "outputs": [],
   "source": []
  },
  {
   "cell_type": "code",
   "execution_count": null,
   "id": "237977ca",
   "metadata": {},
   "outputs": [],
   "source": []
  },
  {
   "cell_type": "code",
   "execution_count": null,
   "id": "1c420b96",
   "metadata": {},
   "outputs": [],
   "source": []
  },
  {
   "cell_type": "code",
   "execution_count": null,
   "id": "091acfad",
   "metadata": {},
   "outputs": [],
   "source": []
  },
  {
   "cell_type": "code",
   "execution_count": null,
   "id": "30742eaf",
   "metadata": {},
   "outputs": [],
   "source": []
  },
  {
   "cell_type": "code",
   "execution_count": null,
   "id": "651cf487",
   "metadata": {},
   "outputs": [],
   "source": []
  }
 ],
 "metadata": {
  "kernelspec": {
   "display_name": "Python 3 (ipykernel)",
   "language": "python",
   "name": "python3"
  },
  "language_info": {
   "codemirror_mode": {
    "name": "ipython",
    "version": 3
   },
   "file_extension": ".py",
   "mimetype": "text/x-python",
   "name": "python",
   "nbconvert_exporter": "python",
   "pygments_lexer": "ipython3",
   "version": "3.11.5"
  }
 },
 "nbformat": 4,
 "nbformat_minor": 5
}
