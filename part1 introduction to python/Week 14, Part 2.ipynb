{
 "cells": [
  {
   "cell_type": "markdown",
   "id": "5806ea5c",
   "metadata": {},
   "source": [
    "### Task 1 what is factorial "
   ]
  },
  {
   "cell_type": "code",
   "execution_count": 1,
   "id": "842aa3f0",
   "metadata": {},
   "outputs": [],
   "source": [
    "### make a function whichj will take a number for example\n",
    "### 6 then it should return 6x5x4x3x2x1\n",
    "### if number is 9 it should return 8x7x6x5x4x3x2\n"
   ]
  },
  {
   "cell_type": "code",
   "execution_count": null,
   "id": "9850c634",
   "metadata": {},
   "outputs": [],
   "source": [
    "# hint: run a a for loop and keep on printing range(9,0,-1)"
   ]
  },
  {
   "cell_type": "code",
   "execution_count": 17,
   "id": "f60ed30f",
   "metadata": {},
   "outputs": [
    {
     "name": "stdout",
     "output_type": "stream",
     "text": [
      "\n",
      "93326215443944152681699238856266700490715968264381621468592963895217599993229915608941463976156518286253697920827223758251185210916864000000000000000000000000\n"
     ]
    }
   ],
   "source": [
    "n = 100\n",
    "p = 1\n",
    "for i in range(n,0,-1):\n",
    "    #print(i, '*',end=' ')\n",
    "    p = p* i\n",
    "    \n",
    "print()\n",
    "print(p)\n",
    "    "
   ]
  },
  {
   "cell_type": "markdown",
   "id": "3a0d1fe4",
   "metadata": {},
   "source": [
    "### Task 2 "
   ]
  },
  {
   "cell_type": "code",
   "execution_count": null,
   "id": "edb2ed83",
   "metadata": {},
   "outputs": [],
   "source": [
    "## make a list of vagi\n",
    "## make another list of colors\n",
    "## make a list of fruits\n",
    "\n",
    "# 3 for each and print all possile combinations using for loops in nested form"
   ]
  },
  {
   "cell_type": "code",
   "execution_count": 19,
   "id": "0a12051c",
   "metadata": {},
   "outputs": [
    {
     "name": "stdout",
     "output_type": "stream",
     "text": [
      "orange cucumber orange\n",
      "orange cucumber mango\n",
      "orange cucumber pineapple\n",
      "orange carrot orange\n",
      "orange carrot mango\n",
      "orange carrot pineapple\n",
      "orange radish orange\n",
      "orange radish mango\n",
      "orange radish pineapple\n",
      "yellow cucumber orange\n",
      "yellow cucumber mango\n",
      "yellow cucumber pineapple\n",
      "yellow carrot orange\n",
      "yellow carrot mango\n",
      "yellow carrot pineapple\n",
      "yellow radish orange\n",
      "yellow radish mango\n",
      "yellow radish pineapple\n",
      "green cucumber orange\n",
      "green cucumber mango\n",
      "green cucumber pineapple\n",
      "green carrot orange\n",
      "green carrot mango\n",
      "green carrot pineapple\n",
      "green radish orange\n",
      "green radish mango\n",
      "green radish pineapple\n"
     ]
    }
   ],
   "source": [
    "l = ['orange','yellow','green']\n",
    "g = ['cucumber','carrot','radish']\n",
    "d = ['orange','mango','pineapple']\n",
    "\n",
    "for a in l:\n",
    "    for b in g:\n",
    "        for c in d:\n",
    "            print(a,b,c)"
   ]
  },
  {
   "cell_type": "code",
   "execution_count": null,
   "id": "76f1dfcc",
   "metadata": {},
   "outputs": [],
   "source": [
    "### Task 3"
   ]
  },
  {
   "cell_type": "code",
   "execution_count": 20,
   "id": "faab9694",
   "metadata": {},
   "outputs": [],
   "source": [
    "# make a list of your shirt colors\n",
    "# make a list of your pents color\n",
    "# make a list of your shoes colors\n",
    "\n",
    "# write al possible combinations you can wear "
   ]
  },
  {
   "cell_type": "code",
   "execution_count": 21,
   "id": "4aa711ca",
   "metadata": {},
   "outputs": [
    {
     "name": "stdout",
     "output_type": "stream",
     "text": [
      "orange blue orange\n",
      "orange blue navy blue\n",
      "orange blue lime\n",
      "orange blue orange\n",
      "orange green orange\n",
      "orange green navy blue\n",
      "orange green lime\n",
      "orange green orange\n",
      "orange orange orange\n",
      "orange orange navy blue\n",
      "orange orange lime\n",
      "orange orange orange\n",
      "orange red orange\n",
      "orange red navy blue\n",
      "orange red lime\n",
      "orange red orange\n",
      "yellow blue orange\n",
      "yellow blue navy blue\n",
      "yellow blue lime\n",
      "yellow blue orange\n",
      "yellow green orange\n",
      "yellow green navy blue\n",
      "yellow green lime\n",
      "yellow green orange\n",
      "yellow orange orange\n",
      "yellow orange navy blue\n",
      "yellow orange lime\n",
      "yellow orange orange\n",
      "yellow red orange\n",
      "yellow red navy blue\n",
      "yellow red lime\n",
      "yellow red orange\n",
      "green blue orange\n",
      "green blue navy blue\n",
      "green blue lime\n",
      "green blue orange\n",
      "green green orange\n",
      "green green navy blue\n",
      "green green lime\n",
      "green green orange\n",
      "green orange orange\n",
      "green orange navy blue\n",
      "green orange lime\n",
      "green orange orange\n",
      "green red orange\n",
      "green red navy blue\n",
      "green red lime\n",
      "green red orange\n",
      "blue blue orange\n",
      "blue blue navy blue\n",
      "blue blue lime\n",
      "blue blue orange\n",
      "blue green orange\n",
      "blue green navy blue\n",
      "blue green lime\n",
      "blue green orange\n",
      "blue orange orange\n",
      "blue orange navy blue\n",
      "blue orange lime\n",
      "blue orange orange\n",
      "blue red orange\n",
      "blue red navy blue\n",
      "blue red lime\n",
      "blue red orange\n"
     ]
    }
   ],
   "source": [
    "l = ['orange','yellow','green','blue']\n",
    "g = ['blue','green','orange','red']\n",
    "d = ['orange','navy blue','lime','orange']\n",
    "\n",
    "for a in l:\n",
    "    for b in g:\n",
    "        for c in d:\n",
    "            print(a,b,c)"
   ]
  },
  {
   "cell_type": "markdown",
   "id": "e44374ba",
   "metadata": {},
   "source": [
    "### Task 444465"
   ]
  },
  {
   "cell_type": "code",
   "execution_count": null,
   "id": "ed968e65",
   "metadata": {},
   "outputs": [],
   "source": [
    "'Noah'   'haoN'"
   ]
  },
  {
   "cell_type": "code",
   "execution_count": 32,
   "id": "f7b23df3",
   "metadata": {},
   "outputs": [
    {
     "name": "stdout",
     "output_type": "stream",
     "text": [
      "The original string  is :  df\n",
      "The reversed string using extended slice operator  is :  fd\n"
     ]
    }
   ],
   "source": [
    "#  Reverse a string    \n",
    "# using  slice syntax   \n",
    "# reverse(str) Function to reverse a string   \n",
    "def reverse(str):   \n",
    "    str = str[::-1]   \n",
    "    return str   \n",
    "    \n",
    "s = \"df\" \n",
    "print (\"The original string  is : \",s)   \n",
    "print (\"The reversed string using extended slice operator  is : \",reverse(s))  "
   ]
  },
  {
   "cell_type": "code",
   "execution_count": 30,
   "id": "f865c261",
   "metadata": {},
   "outputs": [
    {
     "name": "stdout",
     "output_type": "stream",
     "text": [
      "haoN"
     ]
    }
   ],
   "source": [
    "k = 'Noah'\n",
    "for i in range(len(k)):\n",
    "    print(k[-i-1],end='')"
   ]
  },
  {
   "cell_type": "code",
   "execution_count": null,
   "id": "731218ec",
   "metadata": {},
   "outputs": [],
   "source": []
  },
  {
   "cell_type": "code",
   "execution_count": null,
   "id": "d4f1dbc1",
   "metadata": {},
   "outputs": [],
   "source": []
  },
  {
   "cell_type": "code",
   "execution_count": null,
   "id": "e8ab1d6c",
   "metadata": {},
   "outputs": [],
   "source": []
  },
  {
   "cell_type": "code",
   "execution_count": null,
   "id": "1250202e",
   "metadata": {},
   "outputs": [],
   "source": []
  }
 ],
 "metadata": {
  "kernelspec": {
   "display_name": "Python 3 (ipykernel)",
   "language": "python",
   "name": "python3"
  },
  "language_info": {
   "codemirror_mode": {
    "name": "ipython",
    "version": 3
   },
   "file_extension": ".py",
   "mimetype": "text/x-python",
   "name": "python",
   "nbconvert_exporter": "python",
   "pygments_lexer": "ipython3",
   "version": "3.11.5"
  }
 },
 "nbformat": 4,
 "nbformat_minor": 5
}
