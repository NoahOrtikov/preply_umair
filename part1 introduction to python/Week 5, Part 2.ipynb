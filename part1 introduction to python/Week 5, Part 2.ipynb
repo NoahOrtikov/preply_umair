{
 "cells": [
  {
   "cell_type": "code",
   "execution_count": 1,
   "id": "6f0c1e5c",
   "metadata": {},
   "outputs": [],
   "source": [
    "## if else (part 2)\n"
   ]
  },
  {
   "cell_type": "code",
   "execution_count": 2,
   "id": "998c0692",
   "metadata": {},
   "outputs": [],
   "source": [
    "#  We ake partyGG"
   ]
  },
  {
   "cell_type": "code",
   "execution_count": 3,
   "id": "e89207e3",
   "metadata": {},
   "outputs": [],
   "source": [
    "friends =  ['SAHIL','ERIC','DANNY']"
   ]
  },
  {
   "cell_type": "code",
   "execution_count": 4,
   "id": "2624af68",
   "metadata": {},
   "outputs": [],
   "source": [
    "# for some reason Eric will not come, now we have to remove him from list"
   ]
  },
  {
   "cell_type": "code",
   "execution_count": 5,
   "id": "817560e3",
   "metadata": {},
   "outputs": [],
   "source": [
    "friends.remove(\"ERIC\")\n"
   ]
  },
  {
   "cell_type": "code",
   "execution_count": 7,
   "id": "af747220",
   "metadata": {},
   "outputs": [
    {
     "name": "stdout",
     "output_type": "stream",
     "text": [
      "['SAHIL', 'DANNY']\n"
     ]
    }
   ],
   "source": [
    "print(friends)"
   ]
  },
  {
   "cell_type": "code",
   "execution_count": 8,
   "id": "62b2ba05",
   "metadata": {},
   "outputs": [],
   "source": [
    "# noah is going to call Simon"
   ]
  },
  {
   "cell_type": "code",
   "execution_count": 9,
   "id": "0d973119",
   "metadata": {},
   "outputs": [],
   "source": [
    "friends.append(\"SIMON\")"
   ]
  },
  {
   "cell_type": "code",
   "execution_count": 10,
   "id": "50cb0820",
   "metadata": {},
   "outputs": [
    {
     "name": "stdout",
     "output_type": "stream",
     "text": [
      "['SAHIL', 'DANNY', 'SIMON']\n"
     ]
    }
   ],
   "source": [
    "print(friends)"
   ]
  },
  {
   "cell_type": "code",
   "execution_count": null,
   "id": "7e7918b7",
   "metadata": {},
   "outputs": [],
   "source": [
    "# now we have to send invitation to all of friend s, "
   ]
  },
  {
   "cell_type": "code",
   "execution_count": 12,
   "id": "ab0eddbf",
   "metadata": {},
   "outputs": [],
   "source": [
    "msg = \"You are invited to our party\""
   ]
  },
  {
   "cell_type": "code",
   "execution_count": 13,
   "id": "b6090817",
   "metadata": {},
   "outputs": [
    {
     "name": "stdout",
     "output_type": "stream",
     "text": [
      "SAHIL You are invited to our party\n",
      "DANNY You are invited to our party\n",
      "SIMON You are invited to our party\n"
     ]
    }
   ],
   "source": [
    "for each in friends:\n",
    "    print(each,msg)"
   ]
  },
  {
   "cell_type": "code",
   "execution_count": null,
   "id": "536e661c",
   "metadata": {},
   "outputs": [],
   "source": []
  },
  {
   "cell_type": "code",
   "execution_count": 15,
   "id": "04a17417",
   "metadata": {},
   "outputs": [],
   "source": [
    "# Noah is class representative, CR he wants to help his teacher\n",
    "## he has to prepare for write grades of student\n"
   ]
  },
  {
   "cell_type": "code",
   "execution_count": 16,
   "id": "5d2dc859",
   "metadata": {},
   "outputs": [],
   "source": [
    "# if marks more than 50 then pass else fail"
   ]
  },
  {
   "cell_type": "code",
   "execution_count": 23,
   "id": "7b54cf10",
   "metadata": {},
   "outputs": [
    {
     "name": "stdout",
     "output_type": "stream",
     "text": [
      "please enter the marks-100\n",
      "so sorry better luck next time\n"
     ]
    }
   ],
   "source": [
    "marks = int (input(\"please enter the marks\"))\n",
    "if marks >50:\n",
    "    print(\"congratulations you are passed\")\n",
    "else:\n",
    "    print(\"so sorry better luck next time\")"
   ]
  },
  {
   "cell_type": "code",
   "execution_count": 24,
   "id": "49fd38fe",
   "metadata": {},
   "outputs": [],
   "source": [
    "# queation, if temperateur is more than 100 print you have fever else print you are fine"
   ]
  },
  {
   "cell_type": "code",
   "execution_count": 38,
   "id": "09a91987",
   "metadata": {},
   "outputs": [
    {
     "name": "stdout",
     "output_type": "stream",
     "text": [
      "please enter the tempature106\n",
      "wrong tooo high temperatuer for a human being\n"
     ]
    }
   ],
   "source": [
    "temperature = int(input('please enter the tempature'))\n",
    "if temperature <95:\n",
    "    print(\"wrong a person can not have less than 95 temperature\")\n",
    "elif temperature >105:\n",
    "    print(\"wrong tooo high temperatuer for a human being\")\n",
    "elif temperature >100:\n",
    "    print('you have a fever')\n",
    "else:\n",
    "    print('you are feeling good')"
   ]
  },
  {
   "cell_type": "code",
   "execution_count": null,
   "id": "71e88d55",
   "metadata": {},
   "outputs": [],
   "source": []
  },
  {
   "cell_type": "code",
   "execution_count": 1,
   "id": "3922917e",
   "metadata": {},
   "outputs": [],
   "source": [
    "colo = ['red']"
   ]
  },
  {
   "cell_type": "code",
   "execution_count": 7,
   "id": "67debdd7",
   "metadata": {},
   "outputs": [
    {
     "name": "stdout",
     "output_type": "stream",
     "text": [
      "enter your colornavy is the king\n",
      "navy is the king is present\n",
      "['red', 'blue', 'nooby', 'navy is the king']\n"
     ]
    }
   ],
   "source": [
    "w = input('enter your color')\n",
    "if w in colo:\n",
    "    print(w,'is present')\n",
    "else:\n",
    "    print(w, 'not present ')\n",
    "    colo.append(w)\n",
    "print(colo)"
   ]
  },
  {
   "cell_type": "code",
   "execution_count": 1,
   "id": "ba2588de",
   "metadata": {
    "scrolled": true
   },
   "outputs": [
    {
     "ename": "SyntaxError",
     "evalue": "invalid syntax (3937825580.py, line 1)",
     "output_type": "error",
     "traceback": [
      "\u001b[0;36m  Cell \u001b[0;32mIn[1], line 1\u001b[0;36m\u001b[0m\n\u001b[0;31m    Howemork is in preply\u001b[0m\n\u001b[0m                ^\u001b[0m\n\u001b[0;31mSyntaxError\u001b[0m\u001b[0;31m:\u001b[0m invalid syntax\n"
     ]
    }
   ],
   "source": [
    "Howemork is in preply\n"
   ]
  },
  {
   "cell_type": "code",
   "execution_count": null,
   "id": "6373dfa5",
   "metadata": {},
   "outputs": [],
   "source": []
  },
  {
   "cell_type": "code",
   "execution_count": 19,
   "id": "62ec6751",
   "metadata": {},
   "outputs": [
    {
     "name": "stdout",
     "output_type": "stream",
     "text": [
      "please enter your tempature100\n",
      "Medicine A\n"
     ]
    }
   ],
   "source": [
    "temp = int(input('please enter your tempature'))\n",
    "if temp == 100:\n",
    "  print('Medicine A')\n",
    "elif temp == 101:\n",
    "  print('medicine B')\n",
    "elif temp > 102: \n",
    "  print ('critical ALARM')\n",
    "if temp  < 95 or  temp  >105:\n",
    "  print('Wrong tempature')"
   ]
  },
  {
   "cell_type": "code",
   "execution_count": null,
   "id": "d136fa6a",
   "metadata": {},
   "outputs": [],
   "source": []
  },
  {
   "cell_type": "code",
   "execution_count": null,
   "id": "e8f56095",
   "metadata": {},
   "outputs": [],
   "source": []
  },
  {
   "cell_type": "code",
   "execution_count": null,
   "id": "0bf1d6f1",
   "metadata": {},
   "outputs": [],
   "source": []
  },
  {
   "cell_type": "code",
   "execution_count": null,
   "id": "8b4c5cca",
   "metadata": {},
   "outputs": [],
   "source": []
  }
 ],
 "metadata": {
  "kernelspec": {
   "display_name": "Python 3 (ipykernel)",
   "language": "python",
   "name": "python3"
  },
  "language_info": {
   "codemirror_mode": {
    "name": "ipython",
    "version": 3
   },
   "file_extension": ".py",
   "mimetype": "text/x-python",
   "name": "python",
   "nbconvert_exporter": "python",
   "pygments_lexer": "ipython3",
   "version": "3.11.5"
  }
 },
 "nbformat": 4,
 "nbformat_minor": 5
}
