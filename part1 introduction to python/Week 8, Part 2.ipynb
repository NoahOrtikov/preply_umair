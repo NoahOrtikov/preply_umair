{
 "cells": [
  {
   "cell_type": "markdown",
   "id": "9fed7d4a",
   "metadata": {},
   "source": [
    "###tynkercad "
   ]
  },
  {
   "cell_type": "markdown",
   "id": "abec519f",
   "metadata": {},
   "source": [
    "#  question 1"
   ]
  },
  {
   "cell_type": "code",
   "execution_count": null,
   "id": "ffef05be",
   "metadata": {},
   "outputs": [],
   "source": [
    "x = int(input('Please enter the number of hours '))"
   ]
  },
  {
   "cell_type": "code",
   "execution_count": 1,
   "id": "c2fd5cad",
   "metadata": {},
   "outputs": [],
   "source": [
    "# if car is parked less than 3 hours then noah will be charged 2 usd per hou\n",
    "# if a car is parked more than 3 and less than 12 hours then noah  will be charged 1.5 usd per hour\n",
    "# if car is pared more tna 12 hours then noah will be charged 20  usd consectively"
   ]
  },
  {
   "cell_type": "code",
   "execution_count": 14,
   "id": "b722c8d5",
   "metadata": {},
   "outputs": [
    {
     "name": "stdout",
     "output_type": "stream",
     "text": [
      "Please enter the number of hours 1000\n",
      "you wil be charged with 100000000 usd fine\n",
      "yoru total bill is 120\n"
     ]
    }
   ],
   "source": [
    "hours = int(input('Please enter the number of hours '))\n",
    "fine = 0\n",
    "if hours <= 3:\n",
    "    charge = hours * 2\n",
    "elif hours > 3 and hours<12:\n",
    "    charge = hours * 1.5\n",
    "elif hours >12 and hours <40 :\n",
    "    charge = 20\n",
    "elif hours > 48:\n",
    "    print(\"you wil be charged with 100000000 usd fine\")\n",
    "    fine = 100\n",
    "\n",
    "print(\"yoru total bill is\", charge+fine)"
   ]
  },
  {
   "cell_type": "code",
   "execution_count": null,
   "id": "49a1a555",
   "metadata": {},
   "outputs": [],
   "source": [
    "2"
   ]
  },
  {
   "cell_type": "markdown",
   "id": "78615a9d",
   "metadata": {},
   "source": [
    "## Quetion 2"
   ]
  },
  {
   "cell_type": "code",
   "execution_count": 16,
   "id": "c9938222",
   "metadata": {},
   "outputs": [
    {
     "name": "stdout",
     "output_type": "stream",
     "text": [
      "orange lovely\n",
      "Guava lovely\n",
      "Peach lovely\n",
      "Lime lovely\n",
      "Lemon lovely\n",
      "Tangerine lovely\n",
      "Watermelon lovely\n",
      "Pineapple lovely\n"
     ]
    }
   ],
   "source": [
    "# a person has 10 fruits his name is umair, please tell me all fruits name one by one ousninge for loop\n",
    "x = ['orange','Guava','Peach','Lime','Lemon','Tangerine','Watermelon','Pineapple']\n",
    "\n",
    "\n",
    "for i in x:\n",
    "    print(i,\"lovely\")"
   ]
  },
  {
   "cell_type": "markdown",
   "id": "f92e302f",
   "metadata": {},
   "source": [
    "\n",
    "### Question 3"
   ]
  },
  {
   "cell_type": "code",
   "execution_count": 19,
   "id": "67831ce7",
   "metadata": {},
   "outputs": [
    {
     "name": "stdout",
     "output_type": "stream",
     "text": [
      "please write your nameUmair\n",
      "your age is 29 years old\n"
     ]
    }
   ],
   "source": [
    "# get the name of user and save it to variable x\n",
    "\n",
    "name = input(\"please write your name\")\n",
    "\n",
    "\n",
    "# if name is noah say noah is 7.10 years old\n",
    "\n",
    "if name == \"noah\":\n",
    "    print(\"your age is 7.10\")\n",
    "    \n",
    "\n",
    "\n",
    "# if name is umari then print you are 29 years lld\n",
    "if name == ('Umair'):\n",
    "    print('your age is 29 years old')"
   ]
  },
  {
   "cell_type": "code",
   "execution_count": null,
   "id": "896001b1",
   "metadata": {},
   "outputs": [],
   "source": []
  },
  {
   "cell_type": "code",
   "execution_count": null,
   "id": "44727e56",
   "metadata": {},
   "outputs": [],
   "source": []
  },
  {
   "cell_type": "code",
   "execution_count": null,
   "id": "1249c3ee",
   "metadata": {},
   "outputs": [],
   "source": []
  },
  {
   "cell_type": "code",
   "execution_count": null,
   "id": "521f496d",
   "metadata": {},
   "outputs": [],
   "source": []
  }
 ],
 "metadata": {
  "kernelspec": {
   "display_name": "Python 3 (ipykernel)",
   "language": "python",
   "name": "python3"
  },
  "language_info": {
   "codemirror_mode": {
    "name": "ipython",
    "version": 3
   },
   "file_extension": ".py",
   "mimetype": "text/x-python",
   "name": "python",
   "nbconvert_exporter": "python",
   "pygments_lexer": "ipython3",
   "version": "3.11.5"
  }
 },
 "nbformat": 4,
 "nbformat_minor": 5
}
