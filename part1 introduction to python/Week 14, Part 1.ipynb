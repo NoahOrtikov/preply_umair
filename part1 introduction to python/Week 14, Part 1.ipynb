{
 "cells": [
  {
   "cell_type": "markdown",
   "id": "d1f225b0",
   "metadata": {},
   "source": [
    "### Task 1"
   ]
  },
  {
   "cell_type": "code",
   "execution_count": 1,
   "id": "f249447f",
   "metadata": {},
   "outputs": [],
   "source": [
    "# make a list \n",
    "# write a digit\n",
    "# find the number in list wich is closest to digit"
   ]
  },
  {
   "cell_type": "code",
   "execution_count": 2,
   "id": "201a356e",
   "metadata": {},
   "outputs": [],
   "source": [
    "# if list is [1 5 20 50 100]\n",
    "# nunber is 10\n",
    "# closest number should dbe 5"
   ]
  },
  {
   "cell_type": "code",
   "execution_count": 5,
   "id": "3ef3dd01",
   "metadata": {},
   "outputs": [
    {
     "name": "stdout",
     "output_type": "stream",
     "text": [
      "67\n"
     ]
    }
   ],
   "source": [
    "# step1: make a list\n",
    "z = [23,5,57,67,27,34,65,678,1000]\n",
    "\n",
    "# step write. anumber\n",
    "n = 68\n",
    "\n",
    "# step make a new list k\n",
    "k = []\n",
    "# step 4 run a for loop to list and take difference store it into a new list k as abs\n",
    "for each in z:\n",
    "    k.append(abs(each-n))\n",
    "\n",
    "# step \n",
    "ind = k.index(min(k))\n",
    "\n",
    "print(z[ind])"
   ]
  },
  {
   "cell_type": "markdown",
   "id": "8415e55f",
   "metadata": {},
   "source": [
    "### Task 2"
   ]
  },
  {
   "cell_type": "code",
   "execution_count": 6,
   "id": "2ce723de",
   "metadata": {},
   "outputs": [],
   "source": [
    "# using for loop find the sum of list\n",
    "# usign for loop find the length of list\n",
    "# divide sum with length to get average"
   ]
  },
  {
   "cell_type": "code",
   "execution_count": 11,
   "id": "b121b4a1",
   "metadata": {},
   "outputs": [
    {
     "name": "stdout",
     "output_type": "stream",
     "text": [
      "8764\n",
      "730.3333333333334\n"
     ]
    }
   ],
   "source": [
    "Noah = [12,4,557,654,67,634,67,47,56,6547,85,34]\n",
    "s = 0\n",
    "for each in Noah:\n",
    "    s = s+each\n",
    "print(s)\n",
    "\n",
    "\n",
    "l = 0\n",
    "for each in Noah:\n",
    "    l = l+1\n",
    "print(s/l)"
   ]
  },
  {
   "cell_type": "markdown",
   "id": "49594367",
   "metadata": {},
   "source": [
    "### Task 3\n",
    "\n",
    "# find minimum and maximum number from lsit "
   ]
  },
  {
   "cell_type": "code",
   "execution_count": 13,
   "id": "8b8b2777",
   "metadata": {},
   "outputs": [
    {
     "name": "stdout",
     "output_type": "stream",
     "text": [
      "Minimum value: 5\n",
      "Maximum value: 7477\n"
     ]
    }
   ],
   "source": [
    "def find_min_max(lst):\n",
    "    if not lst:\n",
    "        return None, None\n",
    "\n",
    "    min_val = max_val = lst[0]\n",
    "    for item in lst:\n",
    "        if item < min_val:\n",
    "            min_val = item\n",
    "        elif item > max_val:\n",
    "            max_val = item\n",
    "\n",
    "    return min_val, max_val\n",
    "\n",
    "# Example usage:\n",
    "my_list = [1123,3456,7477,255,6,64,7,5,77,65,]\n",
    "min_val, max_val = find_min_max(my_list)\n",
    "print(\"Minimum value:\", min_val)\n",
    "print(\"Maximum value:\", max_val)\n"
   ]
  },
  {
   "cell_type": "code",
   "execution_count": null,
   "id": "7944b4a0",
   "metadata": {},
   "outputs": [],
   "source": []
  },
  {
   "cell_type": "code",
   "execution_count": null,
   "id": "9193bde1",
   "metadata": {},
   "outputs": [],
   "source": []
  },
  {
   "cell_type": "code",
   "execution_count": null,
   "id": "ab99426f",
   "metadata": {},
   "outputs": [],
   "source": []
  },
  {
   "cell_type": "code",
   "execution_count": null,
   "id": "fee0ffc1",
   "metadata": {},
   "outputs": [],
   "source": []
  },
  {
   "cell_type": "code",
   "execution_count": null,
   "id": "e98f8d29",
   "metadata": {},
   "outputs": [],
   "source": []
  }
 ],
 "metadata": {
  "kernelspec": {
   "display_name": "Python 3 (ipykernel)",
   "language": "python",
   "name": "python3"
  },
  "language_info": {
   "codemirror_mode": {
    "name": "ipython",
    "version": 3
   },
   "file_extension": ".py",
   "mimetype": "text/x-python",
   "name": "python",
   "nbconvert_exporter": "python",
   "pygments_lexer": "ipython3",
   "version": "3.11.5"
  }
 },
 "nbformat": 4,
 "nbformat_minor": 5
}
