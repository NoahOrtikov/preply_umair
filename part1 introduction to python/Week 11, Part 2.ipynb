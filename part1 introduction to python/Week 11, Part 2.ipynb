{
 "cells": [
  {
   "cell_type": "code",
   "execution_count": 1,
   "id": "b557e098",
   "metadata": {},
   "outputs": [
    {
     "data": {
      "text/plain": [
       "['Apple', 'Orange', 'Mango']"
      ]
     },
     "execution_count": 1,
     "metadata": {},
     "output_type": "execute_result"
    }
   ],
   "source": [
    "x = ['Apple','Orange','Mango']\n",
    "x"
   ]
  },
  {
   "cell_type": "code",
   "execution_count": 2,
   "id": "3f49ac9d",
   "metadata": {},
   "outputs": [
    {
     "name": "stdout",
     "output_type": "stream",
     "text": [
      "APPLE\n",
      "ORANGE\n",
      "MANGO\n"
     ]
    }
   ],
   "source": [
    "for i in x:\n",
    "    print(i.upper())"
   ]
  },
  {
   "cell_type": "code",
   "execution_count": 3,
   "id": "2a1fd9e1",
   "metadata": {},
   "outputs": [],
   "source": [
    "x = \"helooo\"\n",
    "p = []\n",
    "p.append(x)"
   ]
  },
  {
   "cell_type": "code",
   "execution_count": 4,
   "id": "dd308942",
   "metadata": {},
   "outputs": [
    {
     "data": {
      "text/plain": [
       "['helooo']"
      ]
     },
     "execution_count": 4,
     "metadata": {},
     "output_type": "execute_result"
    }
   ],
   "source": [
    "p"
   ]
  },
  {
   "cell_type": "code",
   "execution_count": null,
   "id": "a12c37ed",
   "metadata": {},
   "outputs": [],
   "source": [
    "# Q1 Please make a small program in which user will ask you name and you will save it in a list\n",
    "# but first run a for loop for 5 times\n"
   ]
  },
  {
   "cell_type": "code",
   "execution_count": 9,
   "id": "d350fc68",
   "metadata": {},
   "outputs": [
    {
     "name": "stdout",
     "output_type": "stream",
     "text": [
      "nameumair\n",
      "namenoah\n",
      "nameandy\n",
      "nameangela\n",
      "nameusman\n"
     ]
    }
   ],
   "source": [
    "o = []\n",
    "for i in range(5):\n",
    "    x = input ('name')\n",
    "    o.append(x)"
   ]
  },
  {
   "cell_type": "code",
   "execution_count": 10,
   "id": "014baeea",
   "metadata": {},
   "outputs": [
    {
     "data": {
      "text/plain": [
       "['umair', 'noah', 'andy', 'angela', 'usman']"
      ]
     },
     "execution_count": 10,
     "metadata": {},
     "output_type": "execute_result"
    }
   ],
   "source": [
    "o"
   ]
  },
  {
   "cell_type": "code",
   "execution_count": 11,
   "id": "457c2824",
   "metadata": {},
   "outputs": [
    {
     "data": {
      "text/plain": [
       "['umair', 'noah', 'andy', 'angela', 'usman']"
      ]
     },
     "execution_count": 11,
     "metadata": {},
     "output_type": "execute_result"
    }
   ],
   "source": [
    "o\n"
   ]
  },
  {
   "cell_type": "markdown",
   "id": "e1af424f",
   "metadata": {},
   "source": [
    "### Q2"
   ]
  },
  {
   "cell_type": "code",
   "execution_count": 12,
   "id": "aedae0f5",
   "metadata": {},
   "outputs": [],
   "source": [
    "# make a small program which will keep all even numbers to e=ven list\n",
    "# all odd numbers to odd list\n"
   ]
  },
  {
   "cell_type": "code",
   "execution_count": null,
   "id": "3c01945f",
   "metadata": {},
   "outputs": [],
   "source": [
    "even = []\n",
    "odd =[]\n",
    "\n",
    "k = [321,23,43,5,324,423,34,13243,3423,34,3454,5,2,34,1,2,4,2,5,5,6,644,43,99]\n"
   ]
  },
  {
   "cell_type": "code",
   "execution_count": 14,
   "id": "985b7874",
   "metadata": {},
   "outputs": [],
   "source": [
    "even = []\n",
    "odd =[]\n",
    "\n",
    "k = [321,23,43,5,324,423,34,13243,3423,34,3454,5,2,34,1,2,4,2,5,5,6,644,43,99]"
   ]
  },
  {
   "cell_type": "code",
   "execution_count": 18,
   "id": "7b843f5a",
   "metadata": {},
   "outputs": [],
   "source": [
    "for i in k:\n",
    "    if i % 2==0:\n",
    "        even.append(i)\n",
    "    else:\n",
    "        odd.append (i)\n",
    "        "
   ]
  },
  {
   "cell_type": "code",
   "execution_count": 20,
   "id": "8d5559b3",
   "metadata": {},
   "outputs": [
    {
     "name": "stdout",
     "output_type": "stream",
     "text": [
      "[324, 34, 34, 3454, 2, 34, 2, 4, 2, 6, 644, 324, 34, 34, 3454, 2, 34, 2, 4, 2, 6, 644, 324, 34, 34, 3454, 2, 34, 2, 4, 2, 6, 644]\n"
     ]
    }
   ],
   "source": [
    "print(even)"
   ]
  },
  {
   "cell_type": "code",
   "execution_count": 23,
   "id": "7366fcdc",
   "metadata": {},
   "outputs": [
    {
     "name": "stdout",
     "output_type": "stream",
     "text": [
      "[321, 23, 43, 5, 423, 13243, 3423, 5, 1, 5, 5, 43, 99, 321, 23, 43, 5, 423, 13243, 3423, 5, 1, 5, 5, 43, 99]\n"
     ]
    }
   ],
   "source": [
    "print(odd)"
   ]
  },
  {
   "cell_type": "markdown",
   "id": "b0e8afd0",
   "metadata": {},
   "source": [
    "### Task 3"
   ]
  },
  {
   "cell_type": "code",
   "execution_count": 31,
   "id": "229e7f0f",
   "metadata": {},
   "outputs": [],
   "source": [
    "import random"
   ]
  },
  {
   "cell_type": "code",
   "execution_count": 34,
   "id": "58b600f7",
   "metadata": {},
   "outputs": [
    {
     "name": "stdout",
     "output_type": "stream",
     "text": [
      "please seclect paper rock and scissorsrock\n",
      "user selected  rock\n",
      "computer selected scissors\n",
      "noah wins\n",
      "please seclect paper rock and scissorspaper\n",
      "user selected  paper\n",
      "computer selected scissors\n",
      "compute wins\n",
      "please seclect paper rock and scissorsrocjk\n",
      "user selected  rocjk\n",
      "computer selected rock\n",
      "please choose paper rock and scissors\n",
      "please seclect paper rock and scissorsrock\n",
      "user selected  rock\n",
      "computer selected paper\n",
      "computer wins\n",
      "please seclect paper rock and scissorsrock\n",
      "user selected  rock\n",
      "computer selected rock\n",
      "draw\n"
     ]
    }
   ],
   "source": [
    "options = ['rock','paper','scissors']\n",
    "\n",
    "\n",
    "for i in range(5):\n",
    "    x =  random.choice  (options)\n",
    "    y = input(\"please seclect paper rock and scissors\")\n",
    "    print(f\"user selected  {y}\")\n",
    "    print(f\"computer selected {x}\")\n",
    "\n",
    "\n",
    "\n",
    "\n",
    "\n",
    "\n",
    "    if x ==y:\n",
    "        print(\"draw\")\n",
    "    elif x == \"rock\" and y ==\"scissors\":\n",
    "        print(\"computer winds\")\n",
    "    elif x == \"scissors\" and y == \"rock\":\n",
    "        print(\"noah wins\")\n",
    "    elif x ==\"rock\" and y ==\"paper\":\n",
    "        print(\"computer wins\")\n",
    "    elif x ==\"rock\" and y ==\"paper\":\n",
    "        print(\"noah wins the game\")\n",
    "    elif x == \"paper\" and y ==\"rock\":\n",
    "        print(\"computer wins\")\n",
    "    elif x == \"scissors\" and y ==\"paper\":\n",
    "        print(\"compute wins\")\n",
    "    elif x == \"paper\" and y ==\"scissors\":\n",
    "        print(\"computer wins\")\n",
    "\n",
    "\n",
    "    else:\n",
    "        print(\"please choose paper rock and scissors\")\n"
   ]
  },
  {
   "cell_type": "markdown",
   "id": "f39da989",
   "metadata": {},
   "source": [
    "### Last but not the least"
   ]
  },
  {
   "cell_type": "code",
   "execution_count": 36,
   "id": "450ad5a7",
   "metadata": {},
   "outputs": [],
   "source": [
    "# Car ticket system\n",
    "# if horus are less than 5 then bill is 5 usd per hour\n",
    "# if hours are more than 5 then bill will 4 usd per hour"
   ]
  },
  {
   "cell_type": "code",
   "execution_count": 38,
   "id": "81ac9b32",
   "metadata": {},
   "outputs": [],
   "source": [
    "hours = 5\n",
    "if hours <5:\n",
    "    print(hours*5)\n",
    "else:\n",
    "    print(h)\n"
   ]
  },
  {
   "cell_type": "code",
   "execution_count": null,
   "id": "0ef2a009",
   "metadata": {},
   "outputs": [],
   "source": []
  },
  {
   "cell_type": "code",
   "execution_count": null,
   "id": "51189640",
   "metadata": {},
   "outputs": [],
   "source": []
  },
  {
   "cell_type": "code",
   "execution_count": null,
   "id": "82aacc7a",
   "metadata": {},
   "outputs": [],
   "source": []
  },
  {
   "cell_type": "code",
   "execution_count": null,
   "id": "7df7a19b",
   "metadata": {},
   "outputs": [],
   "source": []
  }
 ],
 "metadata": {
  "kernelspec": {
   "display_name": "Python 3 (ipykernel)",
   "language": "python",
   "name": "python3"
  },
  "language_info": {
   "codemirror_mode": {
    "name": "ipython",
    "version": 3
   },
   "file_extension": ".py",
   "mimetype": "text/x-python",
   "name": "python",
   "nbconvert_exporter": "python",
   "pygments_lexer": "ipython3",
   "version": "3.11.5"
  }
 },
 "nbformat": 4,
 "nbformat_minor": 5
}
