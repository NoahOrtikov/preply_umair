{
 "cells": [
  {
   "cell_type": "markdown",
   "id": "38ce929a",
   "metadata": {},
   "source": [
    "# Title: Makking First Website for noah, from local computer to public"
   ]
  },
  {
   "cell_type": "markdown",
   "id": "dadf53e3",
   "metadata": {},
   "source": [
    "### Task 1"
   ]
  },
  {
   "cell_type": "code",
   "execution_count": 1,
   "id": "bd891773",
   "metadata": {},
   "outputs": [],
   "source": [
    "# install a app using pip install flask"
   ]
  },
  {
   "cell_type": "code",
   "execution_count": 2,
   "id": "e469d929",
   "metadata": {},
   "outputs": [
    {
     "name": "stdout",
     "output_type": "stream",
     "text": [
      "Requirement already satisfied: flask in /Users/noahjaceortikov/anaconda3/lib/python3.11/site-packages (2.2.2)\n",
      "Requirement already satisfied: Werkzeug>=2.2.2 in /Users/noahjaceortikov/anaconda3/lib/python3.11/site-packages (from flask) (2.2.3)\n",
      "Requirement already satisfied: Jinja2>=3.0 in /Users/noahjaceortikov/anaconda3/lib/python3.11/site-packages (from flask) (3.1.2)\n",
      "Requirement already satisfied: itsdangerous>=2.0 in /Users/noahjaceortikov/anaconda3/lib/python3.11/site-packages (from flask) (2.0.1)\n",
      "Requirement already satisfied: click>=8.0 in /Users/noahjaceortikov/anaconda3/lib/python3.11/site-packages (from flask) (8.0.4)\n",
      "Requirement already satisfied: MarkupSafe>=2.0 in /Users/noahjaceortikov/anaconda3/lib/python3.11/site-packages (from Jinja2>=3.0->flask) (2.1.1)\n",
      "Note: you may need to restart the kernel to use updated packages.\n"
     ]
    }
   ],
   "source": [
    "pip install flask"
   ]
  },
  {
   "cell_type": "code",
   "execution_count": 3,
   "id": "a1279951",
   "metadata": {},
   "outputs": [],
   "source": [
    "# please From flask import Flask , render_template"
   ]
  },
  {
   "cell_type": "code",
   "execution_count": 4,
   "id": "f519962b",
   "metadata": {},
   "outputs": [],
   "source": [
    "from flask import Flask, render_template"
   ]
  },
  {
   "cell_type": "code",
   "execution_count": 5,
   "id": "a98a9e07",
   "metadata": {},
   "outputs": [],
   "source": [
    "# mae a small app using app = Flask(__name__)"
   ]
  },
  {
   "cell_type": "code",
   "execution_count": 6,
   "id": "60136705",
   "metadata": {},
   "outputs": [],
   "source": [
    "app = Flask(__name__)"
   ]
  },
  {
   "cell_type": "code",
   "execution_count": 7,
   "id": "cc4be896",
   "metadata": {},
   "outputs": [],
   "source": [
    "@app.route('/')\n",
    "def index():\n",
    "    return render_template('index.html')"
   ]
  },
  {
   "cell_type": "code",
   "execution_count": null,
   "id": "a6f16dd8",
   "metadata": {
    "scrolled": true
   },
   "outputs": [
    {
     "name": "stdout",
     "output_type": "stream",
     "text": [
      " * Serving Flask app '__main__'\n",
      " * Debug mode: off\n"
     ]
    },
    {
     "name": "stderr",
     "output_type": "stream",
     "text": [
      "WARNING: This is a development server. Do not use it in a production deployment. Use a production WSGI server instead.\n",
      " * Running on http://127.0.0.1:5000\n",
      "Press CTRL+C to quit\n",
      "127.0.0.1 - - [14/Jan/2024 11:51:38] \"GET / HTTP/1.1\" 200 -\n"
     ]
    }
   ],
   "source": [
    "app.run()"
   ]
  },
  {
   "cell_type": "markdown",
   "id": "fcf6ebca",
   "metadata": {},
   "source": [
    "### Task 2"
   ]
  },
  {
   "cell_type": "code",
   "execution_count": null,
   "id": "55c3a16e",
   "metadata": {},
   "outputs": [],
   "source": [
    "## making a website account for noah on pythonanywhere"
   ]
  },
  {
   "cell_type": "code",
   "execution_count": null,
   "id": "c088a032",
   "metadata": {},
   "outputs": [],
   "source": [
    "# we made account succcessfully"
   ]
  },
  {
   "cell_type": "markdown",
   "id": "e295edf8",
   "metadata": {},
   "source": [
    "### Task 3"
   ]
  },
  {
   "cell_type": "code",
   "execution_count": null,
   "id": "c868ad98",
   "metadata": {},
   "outputs": [],
   "source": [
    "3# how can we use chatgpt to create a beutiful website for noah"
   ]
  },
  {
   "cell_type": "code",
   "execution_count": null,
   "id": "e3b68f32",
   "metadata": {},
   "outputs": [],
   "source": [
    "# create account on chatgptt"
   ]
  },
  {
   "cell_type": "code",
   "execution_count": null,
   "id": "fd449598",
   "metadata": {},
   "outputs": [],
   "source": []
  },
  {
   "cell_type": "code",
   "execution_count": null,
   "id": "19506fa0",
   "metadata": {},
   "outputs": [],
   "source": []
  },
  {
   "cell_type": "code",
   "execution_count": null,
   "id": "502a24dc",
   "metadata": {},
   "outputs": [],
   "source": []
  },
  {
   "cell_type": "code",
   "execution_count": null,
   "id": "aeb02641",
   "metadata": {},
   "outputs": [],
   "source": []
  },
  {
   "cell_type": "code",
   "execution_count": null,
   "id": "4fddd4b2",
   "metadata": {},
   "outputs": [],
   "source": []
  }
 ],
 "metadata": {
  "kernelspec": {
   "display_name": "Python 3 (ipykernel)",
   "language": "python",
   "name": "python3"
  },
  "language_info": {
   "codemirror_mode": {
    "name": "ipython",
    "version": 3
   },
   "file_extension": ".py",
   "mimetype": "text/x-python",
   "name": "python",
   "nbconvert_exporter": "python",
   "pygments_lexer": "ipython3",
   "version": "3.11.5"
  }
 },
 "nbformat": 4,
 "nbformat_minor": 5
}
