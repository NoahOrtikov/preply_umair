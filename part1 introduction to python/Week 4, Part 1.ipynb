{
 "cells": [
  {
   "cell_type": "code",
   "execution_count": 4,
   "id": "ec6b555b",
   "metadata": {},
   "outputs": [
    {
     "name": "stdout",
     "output_type": "stream",
     "text": [
      "please seelct p r or sr\n",
      "computer: r\n",
      "user r\n",
      "draw\n"
     ]
    }
   ],
   "source": [
    "import random\n",
    "computer =  random.choice(['p','r','s'])\n",
    "user = input(\"please seelct p r or s\")\n",
    "\n",
    "\n",
    "print(\"computer:\",computer)\n",
    "print(\"user\",user)\n",
    "\n",
    "if computer == user:\n",
    "    print(\"draw\")\n",
    "elif (computer =='p' and user==\"s\") or  (computer =='s' and user==\"r\") or (computer =='r' and user==\"p\"):\n",
    "    print(\"user wins\")\n",
    "else:\n",
    "    print(\"computer wins\")"
   ]
  },
  {
   "cell_type": "markdown",
   "id": "87efd1b1",
   "metadata": {},
   "source": [
    "## learn about if and else"
   ]
  },
  {
   "cell_type": "code",
   "execution_count": 13,
   "id": "1e67b53b",
   "metadata": {},
   "outputs": [
    {
     "name": "stdout",
     "output_type": "stream",
     "text": [
      "turn on fan\n"
     ]
    }
   ],
   "source": [
    "\n",
    "fan = 31.000000000000000000000000000000000000000000000000000000000000000001\n",
    "if fan > 30:\n",
    "    print('turn on fan') "
   ]
  },
  {
   "cell_type": "code",
   "execution_count": 16,
   "id": "36d06c26",
   "metadata": {},
   "outputs": [
    {
     "name": "stdout",
     "output_type": "stream",
     "text": [
      "turn on fan\n"
     ]
    }
   ],
   "source": [
    "fan = 31\n",
    "if fan > 30:\n",
    "    print('turn on fan')\n",
    "else:\n",
    "    print(\"turn off \")"
   ]
  },
  {
   "cell_type": "code",
   "execution_count": 17,
   "id": "bd6ee5dd",
   "metadata": {},
   "outputs": [],
   "source": [
    "# if marks oare more than 50 then you are pass\n",
    "# else print you can not pass this year try again"
   ]
  },
  {
   "cell_type": "code",
   "execution_count": 31,
   "id": "ef5aa41c",
   "metadata": {},
   "outputs": [
    {
     "name": "stdout",
     "output_type": "stream",
     "text": [
      "congratulations!!!!!!!!yay7.3/4\n"
     ]
    }
   ],
   "source": [
    "marks = 65\n",
    "if marks  <50:\n",
    "    print('you will not pass this year')\n",
    "else:\n",
    "    print('congratulations!!!!!!!!yay7.3/4')"
   ]
  },
  {
   "cell_type": "code",
   "execution_count": null,
   "id": "9e24b30b",
   "metadata": {},
   "outputs": [],
   "source": [
    "# interesting example for ifese"
   ]
  },
  {
   "cell_type": "code",
   "execution_count": 42,
   "id": "deecca5a",
   "metadata": {},
   "outputs": [
    {
     "name": "stdout",
     "output_type": "stream",
     "text": [
      "honk\n"
     ]
    }
   ],
   "source": [
    "animal = 'hogthat'\n",
    "\n",
    "\n",
    "if animal == 'dog':\n",
    "    print(\"wofff woof\")\n",
    "elif animal == 'bunny':\n",
    "    print('Bark Bark')\n",
    "elif animal =='cat':\n",
    "    print(\"MeooooowwwwwwwWW\")\n",
    "elif animal =='cow':\n",
    "    print(\"Moo Moo\")\n",
    "elif animal ==\"hogthat\":\n",
    "    print(\"honk\")\n",
    "    \n",
    "else:\n",
    "    print(\"i dont know this animal\")"
   ]
  },
  {
   "cell_type": "markdown",
   "id": "d933aaab",
   "metadata": {},
   "source": [
    "### mixing color\n"
   ]
  },
  {
   "cell_type": "code",
   "execution_count": 2,
   "id": "292c46c9",
   "metadata": {},
   "outputs": [
    {
     "name": "stdout",
     "output_type": "stream",
     "text": [
      "select your color 1white\n",
      "select your color 2yellow\n",
      "cream\n"
     ]
    }
   ],
   "source": [
    "color1 = input(\"select your color 1\")\n",
    "color2 = input(\"select your color 2\")\n",
    "if color1 == 'red' and color2 =='blue':\n",
    "    print(' purple')\n",
    "elif color1 == \"blue\" and color2=='yellow':\n",
    "    print(\" Green\")\n",
    "elif color1 =='yellow' and color2=='white':\n",
    "    print(\"white yellow\")\n",
    "elif color1 =='red' and color2 =='Black':\n",
    "    print('Burungudy')\n",
    "elif color1 =='red'and color2 =='yellow':\n",
    "    print('Tangerine')\n",
    "elif color1 =='blue'and color2 =='green':\n",
    "    print('Teal')\n",
    "elif color1 =='yellow'and color2 =='green':\n",
    "    print('Olive')\n",
    "elif color1 =='red'and color2 =='orange'and color3 =='pink':\n",
    "    print('Coral')\n",
    "elif color1 =='white'and color2 =='yellow':\n",
    "    print('cream')\n",
    "\n",
    "    "
   ]
  },
  {
   "cell_type": "code",
   "execution_count": null,
   "id": "a1b52274",
   "metadata": {},
   "outputs": [],
   "source": []
  },
  {
   "cell_type": "code",
   "execution_count": 46,
   "id": "6bf7b369",
   "metadata": {},
   "outputs": [],
   "source": [
    "##Homework finish it for 6 combination"
   ]
  },
  {
   "cell_type": "code",
   "execution_count": null,
   "id": "0945c6e4",
   "metadata": {},
   "outputs": [],
   "source": []
  }
 ],
 "metadata": {
  "kernelspec": {
   "display_name": "Python 3 (ipykernel)",
   "language": "python",
   "name": "python3"
  },
  "language_info": {
   "codemirror_mode": {
    "name": "ipython",
    "version": 3
   },
   "file_extension": ".py",
   "mimetype": "text/x-python",
   "name": "python",
   "nbconvert_exporter": "python",
   "pygments_lexer": "ipython3",
   "version": "3.11.5"
  }
 },
 "nbformat": 4,
 "nbformat_minor": 5
}
