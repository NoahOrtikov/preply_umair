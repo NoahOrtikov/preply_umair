{
 "cells": [
  {
   "cell_type": "markdown",
   "id": "4f73b5aa",
   "metadata": {},
   "source": [
    "### Task 1"
   ]
  },
  {
   "cell_type": "markdown",
   "id": "3d2ddffd",
   "metadata": {},
   "source": [
    "#### dictionary is a data structure which is used to store information\n",
    "#### to make a dictionary you have to write a key and a value\n",
    "#### if i write h = {'name':'Noah','name2':'ADA'} so here h is dictionary \n",
    "### h has two items, each item has one key an done value"
   ]
  },
  {
   "cell_type": "markdown",
   "id": "f4234063",
   "metadata": {},
   "source": [
    "##### make a dictionary of 5 fruits and their color"
   ]
  },
  {
   "cell_type": "code",
   "execution_count": 5,
   "id": "86746975",
   "metadata": {},
   "outputs": [],
   "source": [
    "fruita = {'apple':'red','orange':'orange','mango':'yellow','lime':'green','blueberry':'blue'}"
   ]
  },
  {
   "cell_type": "markdown",
   "id": "5bca5eb8",
   "metadata": {},
   "source": [
    "### Task 2"
   ]
  },
  {
   "cell_type": "markdown",
   "id": "315e8b2b",
   "metadata": {},
   "source": [
    "### you can access by writing its key\n",
    "###for example if i want want access yellow then i will write fruits.get('mango')\n",
    "\n",
    "# get all the colors one by one by writing its keys. x = fruits.get('apple'), print(x)"
   ]
  },
  {
   "cell_type": "code",
   "execution_count": 8,
   "id": "7c5e54fc",
   "metadata": {},
   "outputs": [
    {
     "name": "stdout",
     "output_type": "stream",
     "text": [
      "red\n",
      "orange\n",
      "yellow\n",
      "green\n",
      "blue\n"
     ]
    }
   ],
   "source": [
    "x = fruita.get('apple')\n",
    "print(x)\n",
    "x = fruita.get('orange')\n",
    "print(x)\n",
    "x = fruita.get('mango')\n",
    "print(x)\n",
    "x = fruita.get('lime')\n",
    "print(x)\n",
    "x = fruita.get('blueberry')\n",
    "print(x)"
   ]
  },
  {
   "cell_type": "markdown",
   "id": "529237a3",
   "metadata": {},
   "source": [
    "### Task 3"
   ]
  },
  {
   "cell_type": "markdown",
   "id": "e90dfe36",
   "metadata": {},
   "source": [
    "#### you can also change a value of dictionary by using fruits['key'] = 'value'\n",
    "# from fruits, you have to change the color of apple to green and color of mango to 'pale yellow'"
   ]
  },
  {
   "cell_type": "code",
   "execution_count": 14,
   "id": "7f853e0c",
   "metadata": {},
   "outputs": [
    {
     "name": "stdout",
     "output_type": "stream",
     "text": [
      "{'apple': 'green', 'orange': 'orange', 'mango': 'yellow', 'lime': 'green', 'blueberry': 'blue', 'key': 'value'}\n",
      "{'apple': 'green', 'orange': 'orange', 'mango': 'pale yellow', 'lime': 'green', 'blueberry': 'blue', 'key': 'value'}\n"
     ]
    }
   ],
   "source": [
    "fruita['apple'] = 'green'\n",
    "print(fruita)\n",
    "fruita['mango'] = 'pale yellow'\n",
    "print(fruita)"
   ]
  },
  {
   "cell_type": "markdown",
   "id": "3671d50d",
   "metadata": {},
   "source": [
    "### Task 4"
   ]
  },
  {
   "cell_type": "code",
   "execution_count": null,
   "id": "6b472e37",
   "metadata": {},
   "outputs": [],
   "source": [
    "for i in fruita"
   ]
  }
 ],
 "metadata": {
  "kernelspec": {
   "display_name": "Python 3 (ipykernel)",
   "language": "python",
   "name": "python3"
  },
  "language_info": {
   "codemirror_mode": {
    "name": "ipython",
    "version": 3
   },
   "file_extension": ".py",
   "mimetype": "text/x-python",
   "name": "python",
   "nbconvert_exporter": "python",
   "pygments_lexer": "ipython3",
   "version": "3.11.5"
  }
 },
 "nbformat": 4,
 "nbformat_minor": 5
}
