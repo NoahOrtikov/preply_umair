{
 "cells": [
  {
   "cell_type": "markdown",
   "id": "4d9ddb0d",
   "metadata": {},
   "source": [
    "### Practice warm up"
   ]
  },
  {
   "cell_type": "code",
   "execution_count": 4,
   "id": "634db884",
   "metadata": {},
   "outputs": [
    {
     "name": "stdout",
     "output_type": "stream",
     "text": [
      "{1, 2, 3, 4, 5, 6, 7, 8, 9, 10}\n"
     ]
    }
   ],
   "source": [
    "x = {1,2,3,4,5,6,7,8,9,10,}\n",
    "print(x)"
   ]
  },
  {
   "cell_type": "code",
   "execution_count": 12,
   "id": "9bf2d87f",
   "metadata": {},
   "outputs": [],
   "source": [
    "y = range (0,21,1)\n"
   ]
  },
  {
   "cell_type": "code",
   "execution_count": 13,
   "id": "2dc8950d",
   "metadata": {},
   "outputs": [
    {
     "data": {
      "text/plain": [
       "[0, 1, 2, 3, 4, 5, 6, 7, 8, 9, 10, 11, 12, 13, 14, 15, 16, 17, 18, 19, 20]"
      ]
     },
     "execution_count": 13,
     "metadata": {},
     "output_type": "execute_result"
    }
   ],
   "source": [
    "list(y)"
   ]
  },
  {
   "cell_type": "markdown",
   "id": "b6cd1236",
   "metadata": {},
   "source": [
    "### Question 1"
   ]
  },
  {
   "cell_type": "code",
   "execution_count": 14,
   "id": "c1b4ea0d",
   "metadata": {},
   "outputs": [
    {
     "name": "stdout",
     "output_type": "stream",
     "text": [
      "{'number 6', 'number 9', 'number 3', 'number 7', 'number 5', 'number 2', 'number 11', 'number 12', 'number 8', 'number 10', 'number 14', 'number 1', 'number 4', 'number 13', 'number 15'}\n"
     ]
    }
   ],
   "source": [
    "x = {'number 1','number 2','number 3','number 4','number 5','number 6','number 7','number 8','number 9','number 10','number 11','number 12','number 13','number 14','number 15'}\n",
    "print(x)"
   ]
  },
  {
   "cell_type": "code",
   "execution_count": 17,
   "id": "4b144653",
   "metadata": {},
   "outputs": [
    {
     "data": {
      "text/plain": [
       "['noah1',\n",
       " 'noah2',\n",
       " 'noah3',\n",
       " 'noah4',\n",
       " 'noah5',\n",
       " 'noah6',\n",
       " 'noah7',\n",
       " 'noah8',\n",
       " 'noah9']"
      ]
     },
     "execution_count": 17,
     "metadata": {},
     "output_type": "execute_result"
    }
   ],
   "source": [
    "['noah'+str(i) for i in range (1,10)]"
   ]
  },
  {
   "cell_type": "markdown",
   "id": "b68322ee",
   "metadata": {},
   "source": [
    "### Question 2"
   ]
  },
  {
   "cell_type": "code",
   "execution_count": null,
   "id": "3903f0e7",
   "metadata": {},
   "outputs": [],
   "source": [
    "x = {'number 1','number 2','number 3','number 4','number 5','number 6','number 7','number 8','number 9','number 10','number 11','number 12','number 13','number 14','number 15'}\n",
    "print(x)"
   ]
  },
  {
   "cell_type": "code",
   "execution_count": 21,
   "id": "a70416eb",
   "metadata": {},
   "outputs": [
    {
     "data": {
      "text/plain": [
       "['noah0',\n",
       " 'noah10',\n",
       " 'noah20',\n",
       " 'noah30',\n",
       " 'noah40',\n",
       " 'noah50',\n",
       " 'noah60',\n",
       " 'noah70',\n",
       " 'noah80',\n",
       " 'noah90',\n",
       " 'noah100',\n",
       " 'noah110',\n",
       " 'noah120',\n",
       " 'noah130',\n",
       " 'noah140',\n",
       " 'noah150',\n",
       " 'noah160',\n",
       " 'noah170',\n",
       " 'noah180',\n",
       " 'noah190',\n",
       " 'noah200']"
      ]
     },
     "execution_count": 21,
     "metadata": {},
     "output_type": "execute_result"
    }
   ],
   "source": [
    "['noah'+str(i) for i in range (0,210,10)]"
   ]
  },
  {
   "cell_type": "markdown",
   "id": "ad1fd2dd",
   "metadata": {},
   "source": [
    "### Question 3"
   ]
  },
  {
   "cell_type": "code",
   "execution_count": 2,
   "id": "a9b9e0b7",
   "metadata": {},
   "outputs": [
    {
     "name": "stdout",
     "output_type": "stream",
     "text": [
      "['Apple', 'Orange', 'Lemon', 'Blueberry', 'Dragonfruit']\n"
     ]
    }
   ],
   "source": [
    "S = ['Apple','Orange','Lemon','Blueberry','Dragonfruit']\n",
    "p = [S,'red','orange','Yellow','Green','Blue']\n",
    "print(p[0])"
   ]
  },
  {
   "cell_type": "markdown",
   "id": "60b8eab8",
   "metadata": {},
   "source": [
    "### Question 4"
   ]
  },
  {
   "cell_type": "markdown",
   "id": "6b3f4440",
   "metadata": {},
   "source": [
    "### the last one"
   ]
  },
  {
   "cell_type": "code",
   "execution_count": 3,
   "id": "e576d165",
   "metadata": {},
   "outputs": [],
   "source": [
    "import random"
   ]
  },
  {
   "cell_type": "code",
   "execution_count": 8,
   "id": "56ef7261",
   "metadata": {},
   "outputs": [
    {
     "ename": "AttributeError",
     "evalue": "module 'random' has no attribute 'int'",
     "output_type": "error",
     "traceback": [
      "\u001b[0;31m---------------------------------------------------------------------------\u001b[0m",
      "\u001b[0;31mAttributeError\u001b[0m                            Traceback (most recent call last)",
      "Cell \u001b[0;32mIn[8], line 2\u001b[0m\n\u001b[1;32m      1\u001b[0m \u001b[38;5;28;01mfor\u001b[39;00m i \u001b[38;5;129;01min\u001b[39;00m \u001b[38;5;28mrange\u001b[39m(\u001b[38;5;241m1\u001b[39m,\u001b[38;5;241m10\u001b[39m):\n\u001b[0;32m----> 2\u001b[0m     \u001b[38;5;28mprint\u001b[39m(random\u001b[38;5;241m.\u001b[39mint())\n",
      "\u001b[0;31mAttributeError\u001b[0m: module 'random' has no attribute 'int'"
     ]
    }
   ],
   "source": [
    "for i in range(1,10):\n",
    "    print(random.int())"
   ]
  },
  {
   "cell_type": "code",
   "execution_count": null,
   "id": "1a4e6ee2",
   "metadata": {},
   "outputs": [],
   "source": []
  },
  {
   "cell_type": "code",
   "execution_count": null,
   "id": "5c0b8c12",
   "metadata": {},
   "outputs": [],
   "source": []
  },
  {
   "cell_type": "code",
   "execution_count": null,
   "id": "ffda7933",
   "metadata": {},
   "outputs": [],
   "source": []
  },
  {
   "cell_type": "code",
   "execution_count": null,
   "id": "99f4e778",
   "metadata": {},
   "outputs": [],
   "source": []
  },
  {
   "cell_type": "code",
   "execution_count": null,
   "id": "5e05dd2d",
   "metadata": {},
   "outputs": [],
   "source": []
  }
 ],
 "metadata": {
  "kernelspec": {
   "display_name": "Python 3 (ipykernel)",
   "language": "python",
   "name": "python3"
  },
  "language_info": {
   "codemirror_mode": {
    "name": "ipython",
    "version": 3
   },
   "file_extension": ".py",
   "mimetype": "text/x-python",
   "name": "python",
   "nbconvert_exporter": "python",
   "pygments_lexer": "ipython3",
   "version": "3.11.5"
  }
 },
 "nbformat": 4,
 "nbformat_minor": 5
}
