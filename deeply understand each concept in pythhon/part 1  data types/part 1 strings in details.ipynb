{
 "cells": [
  {
   "cell_type": "markdown",
   "id": "bc11be8d",
   "metadata": {},
   "source": [
    "# how to write a string, please write your name as string and assigin it to the variable z"
   ]
  },
  {
   "cell_type": "code",
   "execution_count": 4,
   "id": "0d9ab5ed",
   "metadata": {},
   "outputs": [],
   "source": [
    "z = ('Noah')"
   ]
  },
  {
   "cell_type": "code",
   "execution_count": 5,
   "id": "bcd65078",
   "metadata": {},
   "outputs": [
    {
     "name": "stdout",
     "output_type": "stream",
     "text": [
      "<class 'str'>\n"
     ]
    }
   ],
   "source": [
    "print(type(z))"
   ]
  },
  {
   "cell_type": "markdown",
   "id": "482cbbb4",
   "metadata": {},
   "source": [
    "### now i want to make a string with alots of lines and words i need ''' and ''' to make a multi line string"
   ]
  },
  {
   "cell_type": "code",
   "execution_count": 6,
   "id": "995e3d00",
   "metadata": {},
   "outputs": [],
   "source": [
    "w = '''\n",
    "Lawyers for the plaintiffs were seeking at least $5,000 for each user it said had been tracked by the firm as they visited Google Analytics or Ad Manager in “private browsing mode” while not logged into their Google account.\n",
    "\n",
    "This would have amounted to at least $5bn.\n",
    "\n",
    "\n",
    "'''"
   ]
  },
  {
   "cell_type": "code",
   "execution_count": 1,
   "id": "9c49095f",
   "metadata": {},
   "outputs": [
    {
     "ename": "NameError",
     "evalue": "name 'w' is not defined",
     "output_type": "error",
     "traceback": [
      "\u001b[0;31m---------------------------------------------------------------------------\u001b[0m",
      "\u001b[0;31mNameError\u001b[0m                                 Traceback (most recent call last)",
      "Cell \u001b[0;32mIn[1], line 1\u001b[0m\n\u001b[0;32m----> 1\u001b[0m \u001b[38;5;28mprint\u001b[39m (w)\n",
      "\u001b[0;31mNameError\u001b[0m: name 'w' is not defined"
     ]
    }
   ],
   "source": [
    "print (w)"
   ]
  },
  {
   "cell_type": "markdown",
   "id": "b11776ad",
   "metadata": {},
   "source": [
    "# lets dicuss the functions of the string"
   ]
  },
  {
   "cell_type": "code",
   "execution_count": 9,
   "id": "daa9c1e0",
   "metadata": {},
   "outputs": [],
   "source": [
    "# replace function"
   ]
  },
  {
   "cell_type": "code",
   "execution_count": 10,
   "id": "913d2e94",
   "metadata": {},
   "outputs": [
    {
     "name": "stdout",
     "output_type": "stream",
     "text": [
      "\n",
      "L@wyers for the pl@intiffs were seeking @t le@st $5,000 for e@ch user it s@id h@d been tr@cked by the firm @s they visited Google An@lytics or Ad M@n@ger in “priv@te browsing mode” while not logged into their Google @ccount.\n",
      "\n",
      "This would h@ve @mounted to @t le@st $5bn.\n",
      "\n",
      "\n",
      "\n"
     ]
    }
   ],
   "source": [
    "print(w.replace('a','@'))"
   ]
  },
  {
   "cell_type": "code",
   "execution_count": 11,
   "id": "4b73d63b",
   "metadata": {},
   "outputs": [],
   "source": [
    "# how many characters our w variable has"
   ]
  },
  {
   "cell_type": "code",
   "execution_count": 12,
   "id": "ffba52de",
   "metadata": {},
   "outputs": [
    {
     "name": "stdout",
     "output_type": "stream",
     "text": [
      "272\n"
     ]
    }
   ],
   "source": [
    "print(len(w))"
   ]
  },
  {
   "cell_type": "code",
   "execution_count": 13,
   "id": "ef470bcf",
   "metadata": {},
   "outputs": [],
   "source": [
    "# how many words are there so first we use split fnction to find te words\n"
   ]
  },
  {
   "cell_type": "code",
   "execution_count": 14,
   "id": "2a7c84f0",
   "metadata": {},
   "outputs": [
    {
     "data": {
      "text/plain": [
       "['\\nLawyers',\n",
       " 'for',\n",
       " 'the',\n",
       " 'plaintiffs',\n",
       " 'were',\n",
       " 'seeking',\n",
       " 'at',\n",
       " 'least',\n",
       " '$5,000',\n",
       " 'for',\n",
       " 'each',\n",
       " 'user',\n",
       " 'it',\n",
       " 'said',\n",
       " 'had',\n",
       " 'been',\n",
       " 'tracked',\n",
       " 'by',\n",
       " 'the',\n",
       " 'firm',\n",
       " 'as',\n",
       " 'they',\n",
       " 'visited',\n",
       " 'Google',\n",
       " 'Analytics',\n",
       " 'or',\n",
       " 'Ad',\n",
       " 'Manager',\n",
       " 'in',\n",
       " '“private',\n",
       " 'browsing',\n",
       " 'mode”',\n",
       " 'while',\n",
       " 'not',\n",
       " 'logged',\n",
       " 'into',\n",
       " 'their',\n",
       " 'Google',\n",
       " 'account.\\n\\nThis',\n",
       " 'would',\n",
       " 'have',\n",
       " 'amounted',\n",
       " 'to',\n",
       " 'at',\n",
       " 'least',\n",
       " '$5bn.\\n\\n\\n']"
      ]
     },
     "execution_count": 14,
     "metadata": {},
     "output_type": "execute_result"
    }
   ],
   "source": [
    "words = w.split(\" \")\n",
    "words"
   ]
  },
  {
   "cell_type": "code",
   "execution_count": 15,
   "id": "bc742b7a",
   "metadata": {},
   "outputs": [
    {
     "name": "stdout",
     "output_type": "stream",
     "text": [
      "46\n"
     ]
    }
   ],
   "source": [
    "print(len(words))"
   ]
  },
  {
   "cell_type": "code",
   "execution_count": 16,
   "id": "7d03d807",
   "metadata": {},
   "outputs": [],
   "source": [
    "# convert all to upper case"
   ]
  },
  {
   "cell_type": "code",
   "execution_count": 17,
   "id": "744ff577",
   "metadata": {},
   "outputs": [
    {
     "name": "stdout",
     "output_type": "stream",
     "text": [
      "\n",
      "LAWYERS FOR THE PLAINTIFFS WERE SEEKING AT LEAST $5,000 FOR EACH USER IT SAID HAD BEEN TRACKED BY THE FIRM AS THEY VISITED GOOGLE ANALYTICS OR AD MANAGER IN “PRIVATE BROWSING MODE” WHILE NOT LOGGED INTO THEIR GOOGLE ACCOUNT.\n",
      "\n",
      "THIS WOULD HAVE AMOUNTED TO AT LEAST $5BN.\n",
      "\n",
      "\n",
      "\n"
     ]
    }
   ],
   "source": [
    "print(w.upper())"
   ]
  },
  {
   "cell_type": "code",
   "execution_count": 18,
   "id": "2eabee4e",
   "metadata": {},
   "outputs": [],
   "source": [
    "# i need those words which has letter 'w' in it"
   ]
  },
  {
   "cell_type": "code",
   "execution_count": 20,
   "id": "e9aec63e",
   "metadata": {},
   "outputs": [
    {
     "name": "stdout",
     "output_type": "stream",
     "text": [
      "\n",
      "Lawyers\n",
      "were\n",
      "browsing\n",
      "while\n",
      "would\n"
     ]
    }
   ],
   "source": [
    "for each in words:\n",
    "    if 'w' in each:\n",
    "        print(each)"
   ]
  },
  {
   "cell_type": "code",
   "execution_count": null,
   "id": "789047ee",
   "metadata": {},
   "outputs": [],
   "source": [
    "# howhowme work is from above question\n"
   ]
  }
 ],
 "metadata": {
  "kernelspec": {
   "display_name": "Python 3 (ipykernel)",
   "language": "python",
   "name": "python3"
  },
  "language_info": {
   "codemirror_mode": {
    "name": "ipython",
    "version": 3
   },
   "file_extension": ".py",
   "mimetype": "text/x-python",
   "name": "python",
   "nbconvert_exporter": "python",
   "pygments_lexer": "ipython3",
   "version": "3.11.5"
  }
 },
 "nbformat": 4,
 "nbformat_minor": 5
}
