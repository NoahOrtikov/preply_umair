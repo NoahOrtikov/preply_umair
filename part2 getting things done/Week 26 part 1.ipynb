{
 "cells": [
  {
   "cell_type": "code",
   "execution_count": 4,
   "id": "a9bf385a",
   "metadata": {},
   "outputs": [],
   "source": [
    "# make a dictionary to store details of your dog\n",
    "\n",
    "d = {'name':'maya','color':'black,white','breed':'bernadoodle','legs':4,'age':'9mo'}\n",
    "e = {'name':'tessa','color':'black','breed':'labrador','legs':4,'age':'6yrs'}\n",
    "o = {'name':'akera','color':'white,black','breed':'boston terrier','legs':4,'age':'13yrs'}"
   ]
  },
  {
   "cell_type": "code",
   "execution_count": 5,
   "id": "66611ce8",
   "metadata": {},
   "outputs": [],
   "source": [
    "dogs = d,e,o"
   ]
  },
  {
   "cell_type": "code",
   "execution_count": 6,
   "id": "01fd77b7",
   "metadata": {},
   "outputs": [
    {
     "data": {
      "text/plain": [
       "({'name': 'maya',\n",
       "  'color': 'black,white',\n",
       "  'breed': 'bernadoodle',\n",
       "  'legs': 4,\n",
       "  'age': '9mo'},\n",
       " {'name': 'tessa',\n",
       "  'color': 'black',\n",
       "  'breed': 'labrador',\n",
       "  'legs': 4,\n",
       "  'age': '6yrs'},\n",
       " {'name': 'akera',\n",
       "  'color': 'white,black',\n",
       "  'breed': 'boston terrier',\n",
       "  'legs': 4,\n",
       "  'age': '13yrs'})"
      ]
     },
     "execution_count": 6,
     "metadata": {},
     "output_type": "execute_result"
    }
   ],
   "source": [
    "dogs"
   ]
  },
  {
   "cell_type": "code",
   "execution_count": 8,
   "id": "f6eeed51",
   "metadata": {},
   "outputs": [
    {
     "name": "stdout",
     "output_type": "stream",
     "text": [
      "name maya\n",
      "color black,white\n",
      "breed bernadoodle\n",
      "legs 4\n",
      "age 9mo\n",
      "--------------------\n",
      "name tessa\n",
      "color black\n",
      "breed labrador\n",
      "legs 4\n",
      "age 6yrs\n",
      "--------------------\n",
      "name akera\n",
      "color white,black\n",
      "breed boston terrier\n",
      "legs 4\n",
      "age 13yrs\n",
      "--------------------\n"
     ]
    }
   ],
   "source": [
    "# part 2 runa. for loop on this dictionary\n",
    "for dog in dogs:\n",
    "    for k,v in dog.items():\n",
    "        print(k,v)\n",
    "    print('-'*20)"
   ]
  },
  {
   "cell_type": "code",
   "execution_count": null,
   "id": "aa78ba0c",
   "metadata": {},
   "outputs": [],
   "source": []
  }
 ],
 "metadata": {
  "kernelspec": {
   "display_name": "Python 3 (ipykernel)",
   "language": "python",
   "name": "python3"
  },
  "language_info": {
   "codemirror_mode": {
    "name": "ipython",
    "version": 3
   },
   "file_extension": ".py",
   "mimetype": "text/x-python",
   "name": "python",
   "nbconvert_exporter": "python",
   "pygments_lexer": "ipython3",
   "version": "3.11.5"
  }
 },
 "nbformat": 4,
 "nbformat_minor": 5
}
