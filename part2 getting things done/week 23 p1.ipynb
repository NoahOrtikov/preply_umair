{
 "cells": [
  {
   "cell_type": "markdown",
   "id": "1987d406",
   "metadata": {},
   "source": [
    "### Task 1"
   ]
  },
  {
   "cell_type": "code",
   "execution_count": 4,
   "id": "222c24a7",
   "metadata": {},
   "outputs": [],
   "source": [
    "# leap year is a year which divide with 4 but not with 100\n",
    "# but if year is divisble by 400 then it must a leap year\n",
    "# could you please write a code for leap year using if else condtion"
   ]
  },
  {
   "cell_type": "code",
   "execution_count": 5,
   "id": "a96e9502",
   "metadata": {},
   "outputs": [],
   "source": [
    "# def year as 1900\n",
    "\n",
    "\n",
    "\n",
    "# if year is % 4 == 0 print(' its a leap year')\n",
    "\n",
    "\n",
    "\n",
    "\n",
    "\n",
    "#      if year %100==0:\n",
    "            # print('not leap year')\n",
    "    \n",
    "    \n",
    "    \n",
    "\n"
   ]
  },
  {
   "cell_type": "code",
   "execution_count": 10,
   "id": "1d4ebf66",
   "metadata": {},
   "outputs": [
    {
     "name": "stdout",
     "output_type": "stream",
     "text": [
      "its a leapyear!\n",
      "ooooh it is divisble by 400 then must be.a leap year\n"
     ]
    }
   ],
   "source": [
    "year = 2000\n",
    "if year % 4 ==0:\n",
    "    print('its a leapyear!')\n",
    "    if year % 400 ==0:\n",
    "        print('ooooh it is divisble by 400 then must be.a leap year')\n",
    "    elif year % 100==0:\n",
    "        print('sorry sorry not a leap year as divible by 100')\n",
    "    "
   ]
  },
  {
   "cell_type": "code",
   "execution_count": null,
   "id": "24b3d6db",
   "metadata": {},
   "outputs": [],
   "source": [
    "# task two"
   ]
  },
  {
   "cell_type": "code",
   "execution_count": 24,
   "id": "03a34161",
   "metadata": {},
   "outputs": [
    {
     "name": "stdout",
     "output_type": "stream",
     "text": [
      "31\n"
     ]
    }
   ],
   "source": [
    "# how many vowels are in \n",
    "x = 'ding dong diggy diggy dong diggy diggy dong the cat is gone ding dong diggy diggy dong diggy diggy ding ding dong'\n",
    "s=0\n",
    "for i in x:\n",
    "    if i in 'aeiouy':\n",
    "        s = s+1\n",
    "    \n",
    "print(s) "
   ]
  },
  {
   "cell_type": "markdown",
   "id": "d0eafa0f",
   "metadata": {},
   "source": [
    "# Task 3"
   ]
  },
  {
   "cell_type": "code",
   "execution_count": 27,
   "id": "15adb5d8",
   "metadata": {},
   "outputs": [
    {
     "name": "stdout",
     "output_type": "stream",
     "text": [
      "13\n"
     ]
    }
   ],
   "source": [
    "# how many non vowels are in \n",
    "u = 'hhhheeeeiiiiaaauuufhsndhcnsuuuuuaaauuuaiiieee'\n",
    "s=0\n",
    "for i in u:\n",
    "    if i in 'aeiouy':\n",
    "        s = s+1\n",
    "    \n",
    "print( len(u) - s  )"
   ]
  },
  {
   "cell_type": "markdown",
   "id": "17b3fd7f",
   "metadata": {},
   "source": [
    "[123567 * [1246]"
   ]
  },
  {
   "cell_type": "code",
   "execution_count": null,
   "id": "322bb9f2",
   "metadata": {},
   "outputs": [],
   "source": []
  },
  {
   "cell_type": "code",
   "execution_count": null,
   "id": "7ee94177",
   "metadata": {},
   "outputs": [],
   "source": []
  },
  {
   "cell_type": "code",
   "execution_count": 16,
   "id": "845384b3",
   "metadata": {},
   "outputs": [
    {
     "name": "stdout",
     "output_type": "stream",
     "text": [
      "48\n"
     ]
    }
   ],
   "source": []
  },
  {
   "cell_type": "code",
   "execution_count": null,
   "id": "7fdf4e3c",
   "metadata": {},
   "outputs": [],
   "source": []
  },
  {
   "cell_type": "code",
   "execution_count": null,
   "id": "0498d328",
   "metadata": {},
   "outputs": [],
   "source": []
  },
  {
   "cell_type": "code",
   "execution_count": null,
   "id": "51792cab",
   "metadata": {},
   "outputs": [],
   "source": []
  },
  {
   "cell_type": "code",
   "execution_count": null,
   "id": "8ef31ed3",
   "metadata": {},
   "outputs": [],
   "source": []
  },
  {
   "cell_type": "code",
   "execution_count": null,
   "id": "26025d09",
   "metadata": {},
   "outputs": [],
   "source": []
  },
  {
   "cell_type": "markdown",
   "id": "259cc1c8",
   "metadata": {},
   "source": [
    " ### BOOK LEARNING"
   ]
  },
  {
   "cell_type": "code",
   "execution_count": null,
   "id": "0d773296",
   "metadata": {},
   "outputs": [],
   "source": []
  },
  {
   "cell_type": "code",
   "execution_count": null,
   "id": "088fd7e0",
   "metadata": {},
   "outputs": [],
   "source": []
  },
  {
   "cell_type": "code",
   "execution_count": 7,
   "id": "28d4bf05",
   "metadata": {},
   "outputs": [],
   "source": [
    "#"
   ]
  }
 ],
 "metadata": {
  "kernelspec": {
   "display_name": "Python 3 (ipykernel)",
   "language": "python",
   "name": "python3"
  },
  "language_info": {
   "codemirror_mode": {
    "name": "ipython",
    "version": 3
   },
   "file_extension": ".py",
   "mimetype": "text/x-python",
   "name": "python",
   "nbconvert_exporter": "python",
   "pygments_lexer": "ipython3",
   "version": "3.11.5"
  }
 },
 "nbformat": 4,
 "nbformat_minor": 5
}
