{
 "cells": [
  {
   "cell_type": "markdown",
   "id": "84b182e5",
   "metadata": {},
   "source": [
    "### Task 1"
   ]
  },
  {
   "cell_type": "code",
   "execution_count": null,
   "id": "a8c2373c",
   "metadata": {},
   "outputs": [],
   "source": [
    "# What did you decide for your profession? HW"
   ]
  },
  {
   "cell_type": "code",
   "execution_count": 1,
   "id": "c6a494c6",
   "metadata": {},
   "outputs": [],
   "source": [
    "bac_shape = {\n",
    "    \"Escherichia coli\": \"Rod\",\n",
    "    \"Bacillus anthracis\": \"Rod\",\n",
    "    \"Streptococcus pneumoniae\": \"Coccus\",\n",
    "    \"Clostridium tetani\": \"Rod\",\n",
    "    \"Helicobacter pylori\": \"Spiral\",\n",
    "    \"Mycobacterium tuberculosis\": \"Rod\",\n",
    "    \"Neisseria gonorrhoeae\": \"Coccus\",\n",
    "    \"Treponema pallidum\": \"Spiral\",\n",
    "    \"Salmonella typhi\": \"Rod\",\n",
    "    \"Staphylococcus aureus\": \"Coccus\"\n",
    "}\n"
   ]
  },
  {
   "cell_type": "code",
   "execution_count": 2,
   "id": "3bfafee8",
   "metadata": {},
   "outputs": [],
   "source": [
    "# find the keys and value and print them separately usign d.keys() and d.values()\n",
    "# for a,b in bac_shape.items() .. print a and then print b and then pprint"
   ]
  },
  {
   "cell_type": "code",
   "execution_count": 5,
   "id": "4aeae5e0",
   "metadata": {},
   "outputs": [
    {
     "name": "stdout",
     "output_type": "stream",
     "text": [
      "dict_keys(['Escherichia coli', 'Bacillus anthracis', 'Streptococcus pneumoniae', 'Clostridium tetani', 'Helicobacter pylori', 'Mycobacterium tuberculosis', 'Neisseria gonorrhoeae', 'Treponema pallidum', 'Salmonella typhi', 'Staphylococcus aureus'])\n",
      "dict_values(['Rod', 'Rod', 'Coccus', 'Rod', 'Spiral', 'Rod', 'Coccus', 'Spiral', 'Rod', 'Coccus'])\n"
     ]
    }
   ],
   "source": [
    "print(bac_shape.keys())\n",
    "print(bac_shape.values())\n"
   ]
  },
  {
   "cell_type": "code",
   "execution_count": 9,
   "id": "34559695",
   "metadata": {},
   "outputs": [
    {
     "name": "stdout",
     "output_type": "stream",
     "text": [
      "Escherichia coli|Rod\n",
      "-\n",
      "Bacillus anthracis|Rod\n",
      "-\n",
      "Streptococcus pneumoniae|Coccus\n",
      "-\n",
      "Clostridium tetani|Rod\n",
      "-\n",
      "Helicobacter pylori|Spiral\n",
      "-\n",
      "Mycobacterium tuberculosis|Rod\n",
      "-\n",
      "Neisseria gonorrhoeae|Coccus\n",
      "-\n",
      "Treponema pallidum|Spiral\n",
      "-\n",
      "Salmonella typhi|Rod\n",
      "-\n",
      "Staphylococcus aureus|Coccus\n",
      "-\n"
     ]
    }
   ],
   "source": [
    "for a,b in bac_shape.items():\n",
    "    print(a,end='|')\n",
    "    print(b)\n",
    "    print('-')"
   ]
  },
  {
   "cell_type": "code",
   "execution_count": null,
   "id": "21361de6",
   "metadata": {},
   "outputs": [],
   "source": []
  }
 ],
 "metadata": {
  "kernelspec": {
   "display_name": "Python 3 (ipykernel)",
   "language": "python",
   "name": "python3"
  },
  "language_info": {
   "codemirror_mode": {
    "name": "ipython",
    "version": 3
   },
   "file_extension": ".py",
   "mimetype": "text/x-python",
   "name": "python",
   "nbconvert_exporter": "python",
   "pygments_lexer": "ipython3",
   "version": "3.11.5"
  }
 },
 "nbformat": 4,
 "nbformat_minor": 5
}
