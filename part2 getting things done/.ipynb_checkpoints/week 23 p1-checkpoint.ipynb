{
 "cells": [
  {
   "cell_type": "markdown",
   "id": "b827e665",
   "metadata": {},
   "source": [
    "### Task 1"
   ]
  },
  {
   "cell_type": "code",
   "execution_count": 4,
   "id": "6d2c9ba7",
   "metadata": {},
   "outputs": [],
   "source": [
    "# leap year is a year which divide with 4 but not with 100\n",
    "# but if year is divisble by 400 then it must a leap year\n",
    "# could you please write a code for leap year using if else condtion"
   ]
  },
  {
   "cell_type": "code",
   "execution_count": 5,
   "id": "8594d62a",
   "metadata": {},
   "outputs": [],
   "source": [
    "# def year as 1900\n",
    "\n",
    "\n",
    "\n",
    "# if year is % 4 == 0 print(' its a leap year')\n",
    "\n",
    "\n",
    "\n",
    "\n",
    "\n",
    "#      if year %100==0:\n",
    "            # print('not leap year')\n",
    "    \n",
    "    \n",
    "    \n",
    "\n"
   ]
  },
  {
   "cell_type": "code",
   "execution_count": 10,
   "id": "25357e7b",
   "metadata": {},
   "outputs": [
    {
     "name": "stdout",
     "output_type": "stream",
     "text": [
      "its a leapyear!\n",
      "ooooh it is divisble by 400 then must be.a leap year\n"
     ]
    }
   ],
   "source": [
    "year = 2000\n",
    "if year % 4 ==0:\n",
    "    print('its a leapyear!')\n",
    "    if year % 400 ==0:\n",
    "        print('ooooh it is divisble by 400 then must be.a leap year')\n",
    "    elif year % 100==0:\n",
    "        print('sorry sorry not a leap year as divible by 100')\n",
    "    "
   ]
  },
  {
   "cell_type": "code",
   "execution_count": null,
   "id": "6496aae0",
   "metadata": {},
   "outputs": [],
   "source": [
    "# task two"
   ]
  },
  {
   "cell_type": "code",
   "execution_count": 22,
   "id": "7b842f49",
   "metadata": {},
   "outputs": [
    {
     "name": "stdout",
     "output_type": "stream",
     "text": [
      "2\n"
     ]
    }
   ],
   "source": [
    "# how many vowels are in \n",
    "x = 'bella'\n",
    "s=0\n",
    "for i in x:\n",
    "    if i in 'aeiouy':\n",
    "        s = s+1\n",
    "    \n",
    "print(s) "
   ]
  },
  {
   "cell_type": "raw",
   "id": "508df11b",
   "metadata": {},
   "source": []
  },
  {
   "cell_type": "markdown",
   "id": "9f260f4a",
   "metadata": {},
   "source": []
  },
  {
   "cell_type": "code",
   "execution_count": null,
   "id": "38a11f41",
   "metadata": {},
   "outputs": [],
   "source": []
  },
  {
   "cell_type": "code",
   "execution_count": null,
   "id": "f2da1251",
   "metadata": {},
   "outputs": [],
   "source": []
  },
  {
   "cell_type": "code",
   "execution_count": 16,
   "id": "5d834bdb",
   "metadata": {},
   "outputs": [
    {
     "name": "stdout",
     "output_type": "stream",
     "text": [
      "48\n"
     ]
    }
   ],
   "source": []
  },
  {
   "cell_type": "code",
   "execution_count": null,
   "id": "b9d72bd3",
   "metadata": {},
   "outputs": [],
   "source": []
  },
  {
   "cell_type": "code",
   "execution_count": null,
   "id": "b543eab9",
   "metadata": {},
   "outputs": [],
   "source": []
  },
  {
   "cell_type": "code",
   "execution_count": null,
   "id": "25b303ba",
   "metadata": {},
   "outputs": [],
   "source": []
  },
  {
   "cell_type": "code",
   "execution_count": null,
   "id": "240c94ec",
   "metadata": {},
   "outputs": [],
   "source": []
  },
  {
   "cell_type": "code",
   "execution_count": null,
   "id": "a74b6a5d",
   "metadata": {},
   "outputs": [],
   "source": []
  },
  {
   "cell_type": "markdown",
   "id": "f091206f",
   "metadata": {},
   "source": [
    " ### BOOK LEARNING"
   ]
  },
  {
   "cell_type": "code",
   "execution_count": null,
   "id": "43b6e196",
   "metadata": {},
   "outputs": [],
   "source": []
  },
  {
   "cell_type": "code",
   "execution_count": null,
   "id": "2fabc89c",
   "metadata": {},
   "outputs": [],
   "source": []
  },
  {
   "cell_type": "code",
   "execution_count": 7,
   "id": "22a9615f",
   "metadata": {},
   "outputs": [],
   "source": [
    "#"
   ]
  }
 ],
 "metadata": {
  "kernelspec": {
   "display_name": "Python 3 (ipykernel)",
   "language": "python",
   "name": "python3"
  },
  "language_info": {
   "codemirror_mode": {
    "name": "ipython",
    "version": 3
   },
   "file_extension": ".py",
   "mimetype": "text/x-python",
   "name": "python",
   "nbconvert_exporter": "python",
   "pygments_lexer": "ipython3",
   "version": "3.11.5"
  }
 },
 "nbformat": 4,
 "nbformat_minor": 5
}
