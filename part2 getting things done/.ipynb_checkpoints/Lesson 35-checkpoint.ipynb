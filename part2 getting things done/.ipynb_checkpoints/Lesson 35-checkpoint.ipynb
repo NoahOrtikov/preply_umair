{
 "cells": [
  {
   "cell_type": "markdown",
   "id": "2ff081de",
   "metadata": {},
   "source": [
    "### Task 1"
   ]
  },
  {
   "cell_type": "code",
   "execution_count": 3,
   "id": "07a3237a",
   "metadata": {},
   "outputs": [],
   "source": [
    "#  How to find Distance covered by the rocket fired on earth is calculated using d = v**2 * math.sin(2*x) / g\n",
    "#  you have to find the distance covered if velocity is 19 m/s and angle x is 45 degrees.\n",
    "#  find the distance covered for earth, mars, 2moon, 3jupiter and4 neptune"
   ]
  },
  {
   "cell_type": "code",
   "execution_count": 6,
   "id": "5363024f",
   "metadata": {},
   "outputs": [
    {
     "data": {
      "text/plain": [
       "36.836734693877546"
      ]
     },
     "execution_count": 6,
     "metadata": {},
     "output_type": "execute_result"
    }
   ],
   "source": [
    "import math\n",
    "g = 9.8\n",
    "v = 19\n",
    "x = math.radians(45)\n",
    "d = v**2 * math.sin(2*x) / g\n",
    "d"
   ]
  },
  {
   "cell_type": "code",
   "execution_count": 7,
   "id": "15c3e0fa",
   "metadata": {},
   "outputs": [
    {
     "data": {
      "text/plain": [
       "97.04301075268816"
      ]
     },
     "execution_count": 7,
     "metadata": {},
     "output_type": "execute_result"
    }
   ],
   "source": [
    "import math\n",
    "g = 3.72\n",
    "v = 19\n",
    "x = math.radians(45)\n",
    "d = v**2 * math.sin(2*x) / g\n",
    "d"
   ]
  },
  {
   "cell_type": "code",
   "execution_count": 9,
   "id": "af31d225",
   "metadata": {},
   "outputs": [
    {
     "data": {
      "text/plain": [
       "14.562323517547398"
      ]
     },
     "execution_count": 9,
     "metadata": {},
     "output_type": "execute_result"
    }
   ],
   "source": [
    "import math\n",
    "g = 24.79\n",
    "v = 19\n",
    "x = math.radians(45)\n",
    "d = v**2 * math.sin(2*x) / g\n",
    "d"
   ]
  },
  {
   "cell_type": "code",
   "execution_count": 10,
   "id": "2940885c",
   "metadata": {},
   "outputs": [
    {
     "data": {
      "text/plain": [
       "32.37668161434978"
      ]
     },
     "execution_count": 10,
     "metadata": {},
     "output_type": "execute_result"
    }
   ],
   "source": [
    "import math\n",
    "g = 11.15\n",
    "v = 19\n",
    "x = math.radians(45)\n",
    "d = v**2 * math.sin(2*x) / g\n",
    "d"
   ]
  },
  {
   "cell_type": "markdown",
   "id": "459d3b19",
   "metadata": {},
   "source": [
    "### Task 2"
   ]
  },
  {
   "cell_type": "markdown",
   "id": "c0b5db27",
   "metadata": {},
   "source": [
    "# weight depends on the gravity so we have to find our original and actuall mass which will stay same on all planets\n",
    "# then we will find what will be our weight on different planets \n",
    "# 1. earth 2. Mars 3. Jupiter 4. neptune"
   ]
  },
  {
   "cell_type": "code",
   "execution_count": 12,
   "id": "ec4b5e96",
   "metadata": {},
   "outputs": [
    {
     "name": "stdout",
     "output_type": "stream",
     "text": [
      "Planet gravity (in m/s^2):\n",
      " on Mercury: the weight of noah will be 28.76938775510204 pounds\n",
      " on Venus: the weight of noah will be 68.96877551020407 pounds\n",
      " on Earth: the weight of noah will be 76.27775510204081 pounds\n",
      " on Mars: the weight of noah will be 28.930807346938774 pounds\n",
      " on Jupiter: the weight of noah will be 192.75489795918367 pounds\n",
      " on Saturn: the weight of noah will be 81.17632653061223 pounds\n",
      " on Uranus: the weight of noah will be 67.56918367346938 pounds\n",
      " on Neptune: the weight of noah will be 86.6969387755102 pounds\n",
      " on Pluto: the weight of noah will be 4.820816326530612 pounds\n"
     ]
    }
   ],
   "source": [
    "planet_gravity = {\n",
    "    \"Mercury\": 3.7,   # m/s^2\n",
    "    \"Venus\": 8.87,    # m/s^2\n",
    "    \"Earth\": 9.81,    # m/s^2\n",
    "    \"Mars\": 3.72076,  # m/s^2\n",
    "    \"Jupiter\": 24.79, # m/s^2\n",
    "    \"Saturn\": 10.44,  # m/s^2\n",
    "    \"Uranus\": 8.69,   # m/s^2\n",
    "    \"Neptune\": 11.15, # m/s^2\n",
    "    \"Pluto\": 0.62     # m/s^2\n",
    "}\n",
    "mass = 76.2/9.8\n",
    "\n",
    "print(\"Planet gravity (in m/s^2):\")\n",
    "for planet, gravity in planet_gravity.items():\n",
    "    print(f\" on {planet}: the weight of noah will be {mass*gravity} pounds\")\n"
   ]
  },
  {
   "cell_type": "code",
   "execution_count": 19,
   "id": "d3ebcccd",
   "metadata": {},
   "outputs": [
    {
     "name": "stdout",
     "output_type": "stream",
     "text": [
      "Planet gravity (in m/s^2):\n",
      " on Mercury: the weight of MAMA will be 49.08163265306122 pounds\n",
      " on Venus: the weight of MAMA will be 117.66326530612243 pounds\n",
      " on Earth: the weight of MAMA will be 130.1326530612245 pounds\n",
      " on Mars: the weight of MAMA will be 49.35702040816326 pounds\n",
      " on Jupiter: the weight of MAMA will be 328.8469387755101 pounds\n",
      " on Saturn: the weight of MAMA will be 138.48979591836732 pounds\n",
      " on Uranus: the weight of MAMA will be 115.27551020408161 pounds\n",
      " on Neptune: the weight of MAMA will be 147.90816326530611 pounds\n",
      " on Pluto: the weight of MAMA will be 8.224489795918366 pounds\n"
     ]
    }
   ],
   "source": [
    "planet_gravity = {\n",
    "    \"Mercury\": 3.7,   # m/s^2\n",
    "    \"Venus\": 8.87,    # m/s^2\n",
    "    \"Earth\": 9.81,    # m/s^2\n",
    "    \"Mars\": 3.72076,  # m/s^2\n",
    "    \"Jupiter\": 24.79, # m/s^2\n",
    "    \"Saturn\": 10.44,  # m/s^2\n",
    "    \"Uranus\": 8.69,   # m/s^2\n",
    "    \"Neptune\": 11.15, # m/s^2\n",
    "    \"Pluto\": 0.62     # m/s^2\n",
    "}\n",
    "mass = 130/9.8\n",
    "\n",
    "print(\"Planet gravity (in m/s^2):\")\n",
    "for planet, gravity in planet_gravity.items():\n",
    "    print(f\" on {planet}: the weight of MAMA will be {mass*gravity} pounds\")"
   ]
  },
  {
   "cell_type": "markdown",
   "id": "bcad4620",
   "metadata": {},
   "source": [
    "### Task 3"
   ]
  },
  {
   "cell_type": "code",
   "execution_count": null,
   "id": "6853cead",
   "metadata": {},
   "outputs": [],
   "source": []
  },
  {
   "cell_type": "code",
   "execution_count": null,
   "id": "b5732a43",
   "metadata": {},
   "outputs": [],
   "source": []
  },
  {
   "cell_type": "code",
   "execution_count": null,
   "id": "3e950c74",
   "metadata": {},
   "outputs": [],
   "source": []
  },
  {
   "cell_type": "code",
   "execution_count": null,
   "id": "2a08df9d",
   "metadata": {},
   "outputs": [],
   "source": []
  },
  {
   "cell_type": "code",
   "execution_count": null,
   "id": "f53d042f",
   "metadata": {},
   "outputs": [],
   "source": []
  }
 ],
 "metadata": {
  "kernelspec": {
   "display_name": "Python 3 (ipykernel)",
   "language": "python",
   "name": "python3"
  },
  "language_info": {
   "codemirror_mode": {
    "name": "ipython",
    "version": 3
   },
   "file_extension": ".py",
   "mimetype": "text/x-python",
   "name": "python",
   "nbconvert_exporter": "python",
   "pygments_lexer": "ipython3",
   "version": "3.11.5"
  }
 },
 "nbformat": 4,
 "nbformat_minor": 5
}
