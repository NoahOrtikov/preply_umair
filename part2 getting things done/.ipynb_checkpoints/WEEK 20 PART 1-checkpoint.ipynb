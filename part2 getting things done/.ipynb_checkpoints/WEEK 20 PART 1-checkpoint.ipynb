{
 "cells": [
  {
   "cell_type": "markdown",
   "id": "bb3dec92",
   "metadata": {},
   "source": [
    "### Task 1"
   ]
  },
  {
   "cell_type": "code",
   "execution_count": 1,
   "id": "62db960b",
   "metadata": {},
   "outputs": [],
   "source": [
    "from math import *"
   ]
  },
  {
   "cell_type": "code",
   "execution_count": 2,
   "id": "8da0b1f8",
   "metadata": {},
   "outputs": [
    {
     "data": {
      "text/plain": [
       "15.620499351813308"
      ]
     },
     "execution_count": 2,
     "metadata": {},
     "output_type": "execute_result"
    }
   ],
   "source": [
    "c = sqrt(12**2 + 10**2)\n",
    "c"
   ]
  },
  {
   "cell_type": "code",
   "execution_count": 3,
   "id": "d623b4b1",
   "metadata": {},
   "outputs": [
    {
     "data": {
      "text/plain": [
       "19.849433241279208"
      ]
     },
     "execution_count": 3,
     "metadata": {},
     "output_type": "execute_result"
    }
   ],
   "source": [
    "c = sqrt(13**2 + 15**2)\n",
    "c"
   ]
  },
  {
   "cell_type": "markdown",
   "id": "6a5e036b",
   "metadata": {},
   "source": [
    "### Task 2"
   ]
  },
  {
   "cell_type": "code",
   "execution_count": null,
   "id": "600c197c",
   "metadata": {},
   "outputs": [],
   "source": [
    "pooppoooppoooppooppooppoopoopoopoppoopopopopoo"
   ]
  },
  {
   "cell_type": "code",
   "execution_count": 5,
   "id": "4b2a25bb",
   "metadata": {},
   "outputs": [
    {
     "data": {
      "text/plain": [
       "60.0"
      ]
     },
     "execution_count": 5,
     "metadata": {},
     "output_type": "execute_result"
    }
   ],
   "source": [
    "b = sqrt(100**2 - 80**2)\n",
    "b"
   ]
  },
  {
   "cell_type": "code",
   "execution_count": null,
   "id": "6ddfab7b",
   "metadata": {},
   "outputs": [],
   "source": [
    "fkkkkdfjf"
   ]
  },
  {
   "cell_type": "code",
   "execution_count": 7,
   "id": "ee94899c",
   "metadata": {},
   "outputs": [
    {
     "data": {
      "text/plain": [
       "1280.6248474865697"
      ]
     },
     "execution_count": 7,
     "metadata": {},
     "output_type": "execute_result"
    }
   ],
   "source": [
    " e = sqrt(1000**2 + 800**2)\n",
    "e"
   ]
  },
  {
   "cell_type": "markdown",
   "id": "3003d0ab",
   "metadata": {},
   "source": [
    "### Task 3"
   ]
  },
  {
   "cell_type": "code",
   "execution_count": 8,
   "id": "abb728cf",
   "metadata": {},
   "outputs": [
    {
     "data": {
      "text/plain": [
       "9.0"
      ]
     },
     "execution_count": 8,
     "metadata": {},
     "output_type": "execute_result"
    }
   ],
   "source": [
    "h = sqrt(15**2 - 12**2)\n",
    "h"
   ]
  },
  {
   "cell_type": "code",
   "execution_count": null,
   "id": "9cf3a7ce",
   "metadata": {},
   "outputs": [],
   "source": []
  },
  {
   "cell_type": "markdown",
   "id": "c90f47d1",
   "metadata": {},
   "source": [
    "### Task 4 (calculus and derivative )"
   ]
  },
  {
   "cell_type": "code",
   "execution_count": 9,
   "id": "9ebf136a",
   "metadata": {},
   "outputs": [],
   "source": [
    "# distnce = 2*x**2 - x + 1"
   ]
  },
  {
   "cell_type": "code",
   "execution_count": 11,
   "id": "83ed900c",
   "metadata": {},
   "outputs": [],
   "source": [
    "# make a function which will print the output if i will give value 100"
   ]
  },
  {
   "cell_type": "code",
   "execution_count": 12,
   "id": "6f1adc73",
   "metadata": {},
   "outputs": [],
   "source": [
    "def Car(x):\n",
    "    return 2*x**2 - x + 1"
   ]
  },
  {
   "cell_type": "code",
   "execution_count": 13,
   "id": "df971d21",
   "metadata": {},
   "outputs": [
    {
     "data": {
      "text/plain": [
       "19901"
      ]
     },
     "execution_count": 13,
     "metadata": {},
     "output_type": "execute_result"
    }
   ],
   "source": [
    "Car(100)"
   ]
  },
  {
   "cell_type": "code",
   "execution_count": null,
   "id": "342e7eee",
   "metadata": {},
   "outputs": [],
   "source": [
    "#"
   ]
  },
  {
   "cell_type": "markdown",
   "id": "85d7e2b6",
   "metadata": {},
   "source": [
    "### Task 5"
   ]
  },
  {
   "cell_type": "code",
   "execution_count": null,
   "id": "156928f8",
   "metadata": {},
   "outputs": [],
   "source": [
    "# you have to import numpy as np,,, make a list of numbers from -10 to 10change it to numpy array\n",
    "# then call the function"
   ]
  },
  {
   "cell_type": "code",
   "execution_count": 15,
   "id": "d36f42a6",
   "metadata": {},
   "outputs": [],
   "source": [
    "import numpy as np\n",
    "\n",
    "# Create a list of numbers from -10 to 10\n",
    "numbers_list = list(range(-10, 11))\n",
    "\n",
    "# Convert the list to a numpy array\n",
    "x = np.array(numbers_list)\n",
    "\n"
   ]
  },
  {
   "cell_type": "code",
   "execution_count": null,
   "id": "339cfca5",
   "metadata": {},
   "outputs": [],
   "source": [
    "CDA(x)"
   ]
  },
  {
   "cell_type": "code",
   "execution_count": null,
   "id": "7ed363bc",
   "metadata": {},
   "outputs": [],
   "source": []
  },
  {
   "cell_type": "code",
   "execution_count": null,
   "id": "0cda0680",
   "metadata": {},
   "outputs": [],
   "source": []
  },
  {
   "cell_type": "code",
   "execution_count": null,
   "id": "bc884639",
   "metadata": {},
   "outputs": [],
   "source": []
  },
  {
   "cell_type": "code",
   "execution_count": null,
   "id": "18e04d38",
   "metadata": {},
   "outputs": [],
   "source": []
  },
  {
   "cell_type": "code",
   "execution_count": null,
   "id": "fb575962",
   "metadata": {},
   "outputs": [],
   "source": []
  },
  {
   "cell_type": "code",
   "execution_count": null,
   "id": "5c67e28b",
   "metadata": {},
   "outputs": [],
   "source": []
  },
  {
   "cell_type": "code",
   "execution_count": null,
   "id": "7d899248",
   "metadata": {},
   "outputs": [],
   "source": []
  },
  {
   "cell_type": "code",
   "execution_count": null,
   "id": "2dfce422",
   "metadata": {},
   "outputs": [],
   "source": []
  },
  {
   "cell_type": "code",
   "execution_count": null,
   "id": "f47c962c",
   "metadata": {},
   "outputs": [],
   "source": []
  },
  {
   "cell_type": "code",
   "execution_count": null,
   "id": "8c2628d8",
   "metadata": {},
   "outputs": [],
   "source": []
  },
  {
   "cell_type": "code",
   "execution_count": null,
   "id": "fcdc9e93",
   "metadata": {},
   "outputs": [],
   "source": []
  },
  {
   "cell_type": "code",
   "execution_count": null,
   "id": "0aba02eb",
   "metadata": {},
   "outputs": [],
   "source": []
  },
  {
   "cell_type": "code",
   "execution_count": null,
   "id": "2726eadf",
   "metadata": {},
   "outputs": [],
   "source": []
  },
  {
   "cell_type": "code",
   "execution_count": null,
   "id": "89f71cf7",
   "metadata": {},
   "outputs": [],
   "source": []
  }
 ],
 "metadata": {
  "kernelspec": {
   "display_name": "Python 3 (ipykernel)",
   "language": "python",
   "name": "python3"
  },
  "language_info": {
   "codemirror_mode": {
    "name": "ipython",
    "version": 3
   },
   "file_extension": ".py",
   "mimetype": "text/x-python",
   "name": "python",
   "nbconvert_exporter": "python",
   "pygments_lexer": "ipython3",
   "version": "3.11.5"
  }
 },
 "nbformat": 4,
 "nbformat_minor": 5
}
