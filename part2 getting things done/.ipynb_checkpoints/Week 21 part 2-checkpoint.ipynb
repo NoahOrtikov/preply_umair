{
 "cells": [
  {
   "cell_type": "code",
   "execution_count": null,
   "id": "bedd400e",
   "metadata": {},
   "outputs": [],
   "source": [
    "k = [12,3,4,]\n",
    "o = (12,3,4)\n",
    "d = {'colors':k, 're':10}\n",
    "\n",
    "import pandas as pd\n",
    "\n",
    "pd.DataFrame"
   ]
  },
  {
   "cell_type": "code",
   "execution_count": 1,
   "id": "dadc5e96",
   "metadata": {},
   "outputs": [
    {
     "data": {
      "text/plain": [
       "''"
      ]
     },
     "execution_count": 1,
     "metadata": {},
     "output_type": "execute_result"
    }
   ],
   "source": [
    "# make a list of 10 fruits\n",
    "\n",
    "f = ['apple','mango','lemon','orange','green apple','lime','blueberry','raspberry','strawberry','blue raspberry']\n",
    "\n",
    "\n",
    "# make a tuple of their colors\n",
    "\n",
    "\n",
    "o = ('red','orange, yellow','yellow','orange','lime green','lime green','blue','red','red','blue' )\n",
    "\n",
    "\n",
    "# make a list of their shapes\n",
    "\n",
    "\n",
    "\n",
    "g = ['circle','scalene triangle','oval','circle','circle','oval','circle','equilateral triangle','cylindrical','equal triangle']\n",
    "\n",
    "\n",
    "# make a list of their ripening time\n",
    "\n",
    "\n",
    "s = [7,6,9,15,7,6,6,6,5,6]\n",
    "\n",
    "\n",
    "\n",
    "# make a dictionary and store all above to that dictionary\n",
    "d = {}\n",
    "d['fruits'] = f\n",
    "d['colors'] = o\n",
    "d['shapes'] = g\n",
    "d['ripeningtime'] = s\n",
    "\n",
    "\n",
    "\n",
    "# import pandas as pd\n",
    "\n",
    "\n",
    "\n",
    "\n",
    "\n",
    "# convert it to dataframe\n",
    "\n",
    "\n",
    "\n",
    "\n",
    "# data.plot()\n",
    ", "
   ]
  },
  {
   "cell_type": "code",
   "execution_count": 2,
   "id": "a6b6e3e0",
   "metadata": {},
   "outputs": [
    {
     "data": {
      "text/plain": [
       "{'fruits': ['apple',\n",
       "  'mango',\n",
       "  'lemon',\n",
       "  'orange',\n",
       "  'green apple',\n",
       "  'lime',\n",
       "  'blueberry',\n",
       "  'raspberry',\n",
       "  'strawberry',\n",
       "  'blue raspberry'],\n",
       " 'colors': ('red',\n",
       "  'orange, yellow',\n",
       "  'yellow',\n",
       "  'orange',\n",
       "  'lime green',\n",
       "  'lime green',\n",
       "  'blue',\n",
       "  'red',\n",
       "  'red',\n",
       "  'blue'),\n",
       " 'shapes': ['circle',\n",
       "  'scalene triangle',\n",
       "  'oval',\n",
       "  'circle',\n",
       "  'circle',\n",
       "  'oval',\n",
       "  'circle',\n",
       "  'equilateral triangle',\n",
       "  'cylindrical',\n",
       "  'equal triangle'],\n",
       " 'ripeningtime': [7, 6, 9, 15, 7, 6, 6, 6, 5, 6]}"
      ]
     },
     "execution_count": 2,
     "metadata": {},
     "output_type": "execute_result"
    }
   ],
   "source": [
    "d"
   ]
  },
  {
   "cell_type": "code",
   "execution_count": 3,
   "id": "a0d099ab",
   "metadata": {},
   "outputs": [],
   "source": [
    "import pandas as pd"
   ]
  },
  {
   "cell_type": "code",
   "execution_count": 4,
   "id": "75e201c9",
   "metadata": {},
   "outputs": [],
   "source": [
    "data = pd.DataFrame(d)"
   ]
  },
  {
   "cell_type": "code",
   "execution_count": 5,
   "id": "f25ba79b",
   "metadata": {},
   "outputs": [
    {
     "data": {
      "text/html": [
       "<div>\n",
       "<style scoped>\n",
       "    .dataframe tbody tr th:only-of-type {\n",
       "        vertical-align: middle;\n",
       "    }\n",
       "\n",
       "    .dataframe tbody tr th {\n",
       "        vertical-align: top;\n",
       "    }\n",
       "\n",
       "    .dataframe thead th {\n",
       "        text-align: right;\n",
       "    }\n",
       "</style>\n",
       "<table border=\"1\" class=\"dataframe\">\n",
       "  <thead>\n",
       "    <tr style=\"text-align: right;\">\n",
       "      <th></th>\n",
       "      <th>fruits</th>\n",
       "      <th>colors</th>\n",
       "      <th>shapes</th>\n",
       "      <th>ripeningtime</th>\n",
       "    </tr>\n",
       "  </thead>\n",
       "  <tbody>\n",
       "    <tr>\n",
       "      <th>0</th>\n",
       "      <td>apple</td>\n",
       "      <td>red</td>\n",
       "      <td>circle</td>\n",
       "      <td>7</td>\n",
       "    </tr>\n",
       "    <tr>\n",
       "      <th>1</th>\n",
       "      <td>mango</td>\n",
       "      <td>orange, yellow</td>\n",
       "      <td>scalene triangle</td>\n",
       "      <td>6</td>\n",
       "    </tr>\n",
       "    <tr>\n",
       "      <th>2</th>\n",
       "      <td>lemon</td>\n",
       "      <td>yellow</td>\n",
       "      <td>oval</td>\n",
       "      <td>9</td>\n",
       "    </tr>\n",
       "    <tr>\n",
       "      <th>3</th>\n",
       "      <td>orange</td>\n",
       "      <td>orange</td>\n",
       "      <td>circle</td>\n",
       "      <td>15</td>\n",
       "    </tr>\n",
       "    <tr>\n",
       "      <th>4</th>\n",
       "      <td>green apple</td>\n",
       "      <td>lime green</td>\n",
       "      <td>circle</td>\n",
       "      <td>7</td>\n",
       "    </tr>\n",
       "    <tr>\n",
       "      <th>5</th>\n",
       "      <td>lime</td>\n",
       "      <td>lime green</td>\n",
       "      <td>oval</td>\n",
       "      <td>6</td>\n",
       "    </tr>\n",
       "    <tr>\n",
       "      <th>6</th>\n",
       "      <td>blueberry</td>\n",
       "      <td>blue</td>\n",
       "      <td>circle</td>\n",
       "      <td>6</td>\n",
       "    </tr>\n",
       "    <tr>\n",
       "      <th>7</th>\n",
       "      <td>raspberry</td>\n",
       "      <td>red</td>\n",
       "      <td>equilateral triangle</td>\n",
       "      <td>6</td>\n",
       "    </tr>\n",
       "    <tr>\n",
       "      <th>8</th>\n",
       "      <td>strawberry</td>\n",
       "      <td>red</td>\n",
       "      <td>cylindrical</td>\n",
       "      <td>5</td>\n",
       "    </tr>\n",
       "    <tr>\n",
       "      <th>9</th>\n",
       "      <td>blue raspberry</td>\n",
       "      <td>blue</td>\n",
       "      <td>equal triangle</td>\n",
       "      <td>6</td>\n",
       "    </tr>\n",
       "  </tbody>\n",
       "</table>\n",
       "</div>"
      ],
      "text/plain": [
       "           fruits          colors                shapes  ripeningtime\n",
       "0           apple             red                circle             7\n",
       "1           mango  orange, yellow      scalene triangle             6\n",
       "2           lemon          yellow                  oval             9\n",
       "3          orange          orange                circle            15\n",
       "4     green apple      lime green                circle             7\n",
       "5            lime      lime green                  oval             6\n",
       "6       blueberry            blue                circle             6\n",
       "7       raspberry             red  equilateral triangle             6\n",
       "8      strawberry             red           cylindrical             5\n",
       "9  blue raspberry            blue        equal triangle             6"
      ]
     },
     "execution_count": 5,
     "metadata": {},
     "output_type": "execute_result"
    }
   ],
   "source": [
    "data"
   ]
  },
  {
   "cell_type": "code",
   "execution_count": 6,
   "id": "9d34f62b",
   "metadata": {},
   "outputs": [
    {
     "data": {
      "text/plain": [
       "<Axes: >"
      ]
     },
     "execution_count": 6,
     "metadata": {},
     "output_type": "execute_result"
    },
    {
     "data": {
      "image/png": "[encoded data removed]",
      "text/plain": [
       "<Figure size 640x480 with 1 Axes>"
      ]
     },
     "metadata": {},
     "output_type": "display_data"
    }
   ],
   "source": [
    "data.plot()"
   ]
  },
  {
   "cell_type": "code",
   "execution_count": 7,
   "id": "d9e4b58d",
   "metadata": {},
   "outputs": [
    {
     "data": {
      "text/plain": [
       "<Axes: >"
      ]
     },
     "execution_count": 7,
     "metadata": {},
     "output_type": "execute_result"
    },
    {
     "data": {
      "image/png": "[encoded data removed]",
      "text/plain": [
       "<Figure size 640x480 with 1 Axes>"
      ]
     },
     "metadata": {},
     "output_type": "display_data"
    }
   ],
   "source": [
    "data.plot(kind = 'bar')"
   ]
  },
  {
   "cell_type": "code",
   "execution_count": null,
   "id": "f7c53e30",
   "metadata": {},
   "outputs": [],
   "source": []
  }
 ],
 "metadata": {
  "kernelspec": {
   "display_name": "Python 3 (ipykernel)",
   "language": "python",
   "name": "python3"
  },
  "language_info": {
   "codemirror_mode": {
    "name": "ipython",
    "version": 3
   },
   "file_extension": ".py",
   "mimetype": "text/x-python",
   "name": "python",
   "nbconvert_exporter": "python",
   "pygments_lexer": "ipython3",
   "version": "3.11.5"
  }
 },
 "nbformat": 4,
 "nbformat_minor": 5
}
