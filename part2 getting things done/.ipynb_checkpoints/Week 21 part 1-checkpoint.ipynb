{
 "cells": [
  {
   "cell_type": "markdown",
   "id": "9b124442",
   "metadata": {},
   "source": [
    "### Task 1"
   ]
  },
  {
   "cell_type": "code",
   "execution_count": 4,
   "id": "1533d988",
   "metadata": {},
   "outputs": [],
   "source": [
    "from tkinter import *"
   ]
  },
  {
   "cell_type": "code",
   "execution_count": 17,
   "id": "9536d239",
   "metadata": {},
   "outputs": [],
   "source": [
    "root = Tk()\n",
    "root.title('Noah Calculator')\n",
    "root.geometry('200x200')\n",
    "\n",
    "\n",
    "text_box = Text(root, height = 1,width = 10)\n",
    "text_box.pack()\n",
    "1\n",
    "text_box2 = Text(root, height = 1,width = 10)\n",
    "text_box2.pack()\n",
    "\n",
    "\n",
    "\n",
    "\n",
    "text_box3 = Text(root, height = 1,width = 10)\n",
    "text_box3.pack()\n",
    "\n",
    "\n",
    "root.mainloop()"
   ]
  },
  {
   "cell_type": "markdown",
   "id": "e4f3874f",
   "metadata": {},
   "source": [
    "\n",
    "### Task 2"
   ]
  },
  {
   "cell_type": "code",
   "execution_count": null,
   "id": "f4692b21",
   "metadata": {},
   "outputs": [],
   "source": [
    "root = Tk()\n",
    "root.title('Noah Calculator')\n",
    "root.geometry('200x200')\n",
    "\n",
    "\n",
    "text_box = Text(root, height = 1,width = 10)\n",
    "text_box.pack()\n",
    "1\n",
    "text_box2 = Text(root, height = 1,width = 10)\n",
    "text_box2.pack()\n",
    "\n",
    "\n",
    "\n",
    "\n",
    "text_box3 = Text(root, height = 1,width = 10)\n",
    "text_box3.pack()\n",
    "\n",
    "#  how toadd a button with the name submit \n",
    "\n",
    "# Create a Button\n",
    "btn = Button(root, text = 'calculate', bd = '5',\n",
    "                          command = root.destroy) \n",
    " \n",
    "# Set the position of button on the top of window.   \n",
    "btn.pack(side = 'top')  \n",
    "\n",
    "\n",
    "root.mainloop()"
   ]
  },
  {
   "cell_type": "markdown",
   "id": "9c56f37f",
   "metadata": {},
   "source": [
    "### Task 3 "
   ]
  },
  {
   "cell_type": "code",
   "execution_count": null,
   "id": "ee86f58e",
   "metadata": {},
   "outputs": [],
   "source": [
    "\n",
    "root = Tk()\n",
    "root.title('Noah Calculator')\n",
    "root.geometry('200x200')\n",
    "\n",
    "\n",
    "def ui():\n",
    "    x = text_box.get()\n",
    "    y = text_box2.get()\n",
    "    z = text_box3.get()\n",
    "    k = eval(x+y+z)\n",
    "    rst.config(text=f'result {k}')\n",
    "    \n",
    "\n",
    "text_box = Text(root, height = 1,width = 10)\n",
    "text_box.pack()\n",
    "1\n",
    "text_box2 = Text(root, height = 1,width = 10)\n",
    "text_box2.pack()\n",
    "\n",
    "\n",
    "\n",
    "\n",
    "text_box3 = Text(root, height = 1,width = 10)\n",
    "text_box3.pack()\n",
    "\n",
    "#  how toadd a button with the name submit \n",
    "\n",
    "# Create a Button\n",
    "btn = Button(root, text = 'calculate', bd = '5',\n",
    "                          command = root.destroy) \n",
    " \n",
    "# Set the position of button on the top of window.   \n",
    "btn.pack(side = 'top')  \n",
    "\n",
    "\n",
    "\n",
    "rst = Label(root,text = 'result')\n",
    "rst.pack()\n",
    "\n",
    "\n",
    "\n",
    "root.mainloop()"
   ]
  },
  {
   "cell_type": "code",
   "execution_count": null,
   "id": "09797d5e",
   "metadata": {},
   "outputs": [],
   "source": []
  },
  {
   "cell_type": "code",
   "execution_count": null,
   "id": "60ab6576",
   "metadata": {},
   "outputs": [],
   "source": []
  }
 ],
 "metadata": {
  "kernelspec": {
   "display_name": "Python 3 (ipykernel)",
   "language": "python",
   "name": "python3"
  },
  "language_info": {
   "codemirror_mode": {
    "name": "ipython",
    "version": 3
   },
   "file_extension": ".py",
   "mimetype": "text/x-python",
   "name": "python",
   "nbconvert_exporter": "python",
   "pygments_lexer": "ipython3",
   "version": "3.11.5"
  }
 },
 "nbformat": 4,
 "nbformat_minor": 5
}
