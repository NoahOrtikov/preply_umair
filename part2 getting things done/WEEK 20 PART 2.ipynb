{
 "cells": [
  {
   "cell_type": "markdown",
   "id": "47b8c517",
   "metadata": {},
   "source": [
    "### Task 1"
   ]
  },
  {
   "cell_type": "code",
   "execution_count": 1,
   "id": "f7cdbe16",
   "metadata": {},
   "outputs": [],
   "source": [
    "# fidn the values on which function fx becomes zero"
   ]
  },
  {
   "cell_type": "code",
   "execution_count": 2,
   "id": "b4ffe7f0",
   "metadata": {},
   "outputs": [],
   "source": [
    "def f(x):\n",
    "    return x**2 - 6.25"
   ]
  },
  {
   "cell_type": "code",
   "execution_count": 4,
   "id": "649d8a8e",
   "metadata": {},
   "outputs": [
    {
     "data": {
      "text/plain": [
       "9.75"
      ]
     },
     "execution_count": 4,
     "metadata": {},
     "output_type": "execute_result"
    }
   ],
   "source": [
    "f(4)"
   ]
  },
  {
   "cell_type": "code",
   "execution_count": 5,
   "id": "da7f2092",
   "metadata": {},
   "outputs": [
    {
     "data": {
      "text/plain": [
       "-2.25"
      ]
     },
     "execution_count": 5,
     "metadata": {},
     "output_type": "execute_result"
    }
   ],
   "source": [
    "f(2)"
   ]
  },
  {
   "cell_type": "code",
   "execution_count": 11,
   "id": "a4bb6990",
   "metadata": {},
   "outputs": [
    {
     "data": {
      "text/plain": [
       "0.0"
      ]
     },
     "execution_count": 11,
     "metadata": {},
     "output_type": "execute_result"
    }
   ],
   "source": [
    "f(2.5)"
   ]
  },
  {
   "cell_type": "code",
   "execution_count": 12,
   "id": "efc65a98",
   "metadata": {},
   "outputs": [
    {
     "data": {
      "text/plain": [
       "0.0"
      ]
     },
     "execution_count": 12,
     "metadata": {},
     "output_type": "execute_result"
    }
   ],
   "source": [
    "f(-2.5)"
   ]
  },
  {
   "cell_type": "markdown",
   "id": "aa595c26",
   "metadata": {},
   "source": [
    "### Task 2"
   ]
  },
  {
   "cell_type": "code",
   "execution_count": 13,
   "id": "56737481",
   "metadata": {},
   "outputs": [],
   "source": [
    "def f2(y):\n",
    "    return y**2 - 27.5625"
   ]
  },
  {
   "cell_type": "code",
   "execution_count": null,
   "id": "8d509d0c",
   "metadata": {},
   "outputs": [],
   "source": [
    "# find 2 roots fof function f2"
   ]
  },
  {
   "cell_type": "code",
   "execution_count": 32,
   "id": "708527f1",
   "metadata": {},
   "outputs": [
    {
     "data": {
      "text/plain": [
       "0.0"
      ]
     },
     "execution_count": 32,
     "metadata": {},
     "output_type": "execute_result"
    }
   ],
   "source": [
    "f2(5.25)"
   ]
  },
  {
   "cell_type": "code",
   "execution_count": 33,
   "id": "4f03151e",
   "metadata": {},
   "outputs": [
    {
     "data": {
      "text/plain": [
       "0.0"
      ]
     },
     "execution_count": 33,
     "metadata": {},
     "output_type": "execute_result"
    }
   ],
   "source": [
    "f2(5.25)"
   ]
  },
  {
   "cell_type": "markdown",
   "id": "5ed45da9",
   "metadata": {},
   "source": [
    "### Task 3"
   ]
  },
  {
   "cell_type": "code",
   "execution_count": 34,
   "id": "8ff47392",
   "metadata": {},
   "outputs": [],
   "source": [
    "import numpy as np\n",
    "x = np.linspace(-10,10,100)\n"
   ]
  },
  {
   "cell_type": "code",
   "execution_count": 36,
   "id": "912f6c18",
   "metadata": {},
   "outputs": [],
   "source": [
    "def f3(x):\n",
    "    return x**2 -9.765625"
   ]
  },
  {
   "cell_type": "code",
   "execution_count": 61,
   "id": "e9d58b06",
   "metadata": {},
   "outputs": [
    {
     "data": {
      "text/plain": [
       "0.0"
      ]
     },
     "execution_count": 61,
     "metadata": {},
     "output_type": "execute_result"
    }
   ],
   "source": [
    "f3(3.125)"
   ]
  },
  {
   "cell_type": "code",
   "execution_count": 66,
   "id": "20d4420e",
   "metadata": {},
   "outputs": [],
   "source": [
    "y = f3(x)"
   ]
  },
  {
   "cell_type": "code",
   "execution_count": 67,
   "id": "28080619",
   "metadata": {},
   "outputs": [],
   "source": [
    "import matplotlib.pyplot as plt"
   ]
  },
  {
   "cell_type": "code",
   "execution_count": 74,
   "id": "79106be1",
   "metadata": {},
   "outputs": [
    {
     "data": {
      "text/plain": [
       "[<matplotlib.lines.Line2D at 0x10f8cb810>]"
      ]
     },
     "execution_count": 74,
     "metadata": {},
     "output_type": "execute_result"
    },
    {
     "data": {
      "image/png": "[encoded data removed]",
      "text/plain": [
       "<Figure size 640x480 with 1 Axes>"
      ]
     },
     "metadata": {},
     "output_type": "display_data"
    }
   ],
   "source": [
    "plt.plot(x,y)\n",
    "plt.plot(3.125,0,'x')"
   ]
  },
  {
   "cell_type": "markdown",
   "id": "cacc6eb8",
   "metadata": {},
   "source": [
    "### Task 4"
   ]
  },
  {
   "cell_type": "code",
   "execution_count": 69,
   "id": "f492b832",
   "metadata": {},
   "outputs": [],
   "source": [
    "def f4(x):\n",
    "    return x**3 - 13.7*x**2 + 41.96*x - 36.652"
   ]
  },
  {
   "cell_type": "code",
   "execution_count": 113,
   "id": "af7bd0aa",
   "metadata": {},
   "outputs": [
    {
     "data": {
      "text/plain": [
       "0.4680000000000035"
      ]
     },
     "execution_count": 113,
     "metadata": {},
     "output_type": "execute_result"
    }
   ],
   "source": [
    "f4(2)"
   ]
  },
  {
   "cell_type": "code",
   "execution_count": null,
   "id": "828b485f",
   "metadata": {},
   "outputs": [],
   "source": []
  },
  {
   "cell_type": "code",
   "execution_count": null,
   "id": "921a88a8",
   "metadata": {},
   "outputs": [],
   "source": []
  },
  {
   "cell_type": "code",
   "execution_count": null,
   "id": "aeea6992",
   "metadata": {},
   "outputs": [],
   "source": []
  },
  {
   "cell_type": "code",
   "execution_count": null,
   "id": "b0041d1b",
   "metadata": {},
   "outputs": [],
   "source": []
  },
  {
   "cell_type": "code",
   "execution_count": null,
   "id": "cb76e84f",
   "metadata": {},
   "outputs": [],
   "source": []
  },
  {
   "cell_type": "code",
   "execution_count": null,
   "id": "0b11546c",
   "metadata": {},
   "outputs": [],
   "source": []
  }
 ],
 "metadata": {
  "kernelspec": {
   "display_name": "Python 3 (ipykernel)",
   "language": "python",
   "name": "python3"
  },
  "language_info": {
   "codemirror_mode": {
    "name": "ipython",
    "version": 3
   },
   "file_extension": ".py",
   "mimetype": "text/x-python",
   "name": "python",
   "nbconvert_exporter": "python",
   "pygments_lexer": "ipython3",
   "version": "3.11.5"
  }
 },
 "nbformat": 4,
 "nbformat_minor": 5
}
