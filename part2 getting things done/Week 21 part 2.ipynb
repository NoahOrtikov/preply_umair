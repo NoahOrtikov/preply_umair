{
 "cells": [
  {
   "cell_type": "code",
   "execution_count": null,
   "id": "62a3322f",
   "metadata": {},
   "outputs": [],
   "source": [
    "k = [12,3,4,]\n",
    "o = (12,3,4)\n",
    "d = {'colors':k, 're':10}\n",
    "\n",
    "import pandas as pd\n",
    "\n",
    "pd.DataFrame"
   ]
  },
  {
   "cell_type": "code",
   "execution_count": 1,
   "id": "6302b178",
   "metadata": {},
   "outputs": [
    {
     "data": {
      "text/plain": [
       "''"
      ]
     },
     "execution_count": 1,
     "metadata": {},
     "output_type": "execute_result"
    }
   ],
   "source": [
    "# make a list of 10 fruits\n",
    "\n",
    "f = ['apple','mango','lemon','orange','green apple','lime','blueberry','raspberry','strawberry','blue raspberry']\n",
    "\n",
    "\n",
    "# make a tuple of their colors\n",
    "\n",
    "\n",
    "o = ('red','orange, yellow','yellow','orange','lime green','lime green','blue','red','red','blue' )\n",
    "\n",
    "\n",
    "# make a list of their shapes\n",
    "\n",
    "\n",
    "\n",
    "g = ['circle','scalene triangle','oval','circle','circle','oval','circle','equilateral triangle','cylindrical','equal triangle']\n",
    "\n",
    "\n",
    "# make a list of their ripening time\n",
    "\n",
    "\n",
    "s = [7,6,9,15,7,6,6,6,5,6]\n",
    "\n",
    "\n",
    "\n",
    "# make a dictionary and store all above to that dictionary\n",
    "d = {}\n",
    "d['fruits'] = f\n",
    "d['colors'] = o\n",
    "d['shapes'] = g\n",
    "d['ripeningtime'] = s\n",
    "\n",
    "\n",
    "\n",
    "# import pandas as pd\n",
    "\n",
    "\n",
    "\n",
    "\n",
    "\n",
    "# convert it to dataframe\n",
    "\n",
    "\n",
    "\n",
    "\n",
    "# data.plot()\n",
    ", "
   ]
  },
  {
   "cell_type": "code",
   "execution_count": 2,
   "id": "09435d39",
   "metadata": {},
   "outputs": [
    {
     "data": {
      "text/plain": [
       "{'fruits': ['apple',\n",
       "  'mango',\n",
       "  'lemon',\n",
       "  'orange',\n",
       "  'green apple',\n",
       "  'lime',\n",
       "  'blueberry',\n",
       "  'raspberry',\n",
       "  'strawberry',\n",
       "  'blue raspberry'],\n",
       " 'colors': ('red',\n",
       "  'orange, yellow',\n",
       "  'yellow',\n",
       "  'orange',\n",
       "  'lime green',\n",
       "  'lime green',\n",
       "  'blue',\n",
       "  'red',\n",
       "  'red',\n",
       "  'blue'),\n",
       " 'shapes': ['circle',\n",
       "  'scalene triangle',\n",
       "  'oval',\n",
       "  'circle',\n",
       "  'circle',\n",
       "  'oval',\n",
       "  'circle',\n",
       "  'equilateral triangle',\n",
       "  'cylindrical',\n",
       "  'equal triangle'],\n",
       " 'ripeningtime': [7, 6, 9, 15, 7, 6, 6, 6, 5, 6]}"
      ]
     },
     "execution_count": 2,
     "metadata": {},
     "output_type": "execute_result"
    }
   ],
   "source": [
    "d"
   ]
  },
  {
   "cell_type": "code",
   "execution_count": 3,
   "id": "cf219407",
   "metadata": {},
   "outputs": [],
   "source": [
    "import pandas as pd"
   ]
  },
  {
   "cell_type": "code",
   "execution_count": 4,
   "id": "1a332e93",
   "metadata": {},
   "outputs": [],
   "source": [
    "data = pd.DataFrame(d)"
   ]
  },
  {
   "cell_type": "code",
   "execution_count": 5,
   "id": "ce19649e",
   "metadata": {},
   "outputs": [
    {
     "data": {
      "text/html": [
       "<div>\n",
       "<style scoped>\n",
       "    .dataframe tbody tr th:only-of-type {\n",
       "        vertical-align: middle;\n",
       "    }\n",
       "\n",
       "    .dataframe tbody tr th {\n",
       "        vertical-align: top;\n",
       "    }\n",
       "\n",
       "    .dataframe thead th {\n",
       "        text-align: right;\n",
       "    }\n",
       "</style>\n",
       "<table border=\"1\" class=\"dataframe\">\n",
       "  <thead>\n",
       "    <tr style=\"text-align: right;\">\n",
       "      <th></th>\n",
       "      <th>fruits</th>\n",
       "      <th>colors</th>\n",
       "      <th>shapes</th>\n",
       "      <th>ripeningtime</th>\n",
       "    </tr>\n",
       "  </thead>\n",
       "  <tbody>\n",
       "    <tr>\n",
       "      <th>0</th>\n",
       "      <td>apple</td>\n",
       "      <td>red</td>\n",
       "      <td>circle</td>\n",
       "      <td>7</td>\n",
       "    </tr>\n",
       "    <tr>\n",
       "      <th>1</th>\n",
       "      <td>mango</td>\n",
       "      <td>orange, yellow</td>\n",
       "      <td>scalene triangle</td>\n",
       "      <td>6</td>\n",
       "    </tr>\n",
       "    <tr>\n",
       "      <th>2</th>\n",
       "      <td>lemon</td>\n",
       "      <td>yellow</td>\n",
       "      <td>oval</td>\n",
       "      <td>9</td>\n",
       "    </tr>\n",
       "    <tr>\n",
       "      <th>3</th>\n",
       "      <td>orange</td>\n",
       "      <td>orange</td>\n",
       "      <td>circle</td>\n",
       "      <td>15</td>\n",
       "    </tr>\n",
       "    <tr>\n",
       "      <th>4</th>\n",
       "      <td>green apple</td>\n",
       "      <td>lime green</td>\n",
       "      <td>circle</td>\n",
       "      <td>7</td>\n",
       "    </tr>\n",
       "    <tr>\n",
       "      <th>5</th>\n",
       "      <td>lime</td>\n",
       "      <td>lime green</td>\n",
       "      <td>oval</td>\n",
       "      <td>6</td>\n",
       "    </tr>\n",
       "    <tr>\n",
       "      <th>6</th>\n",
       "      <td>blueberry</td>\n",
       "      <td>blue</td>\n",
       "      <td>circle</td>\n",
       "      <td>6</td>\n",
       "    </tr>\n",
       "    <tr>\n",
       "      <th>7</th>\n",
       "      <td>raspberry</td>\n",
       "      <td>red</td>\n",
       "      <td>equilateral triangle</td>\n",
       "      <td>6</td>\n",
       "    </tr>\n",
       "    <tr>\n",
       "      <th>8</th>\n",
       "      <td>strawberry</td>\n",
       "      <td>red</td>\n",
       "      <td>cylindrical</td>\n",
       "      <td>5</td>\n",
       "    </tr>\n",
       "    <tr>\n",
       "      <th>9</th>\n",
       "      <td>blue raspberry</td>\n",
       "      <td>blue</td>\n",
       "      <td>equal triangle</td>\n",
       "      <td>6</td>\n",
       "    </tr>\n",
       "  </tbody>\n",
       "</table>\n",
       "</div>"
      ],
      "text/plain": [
       "           fruits          colors                shapes  ripeningtime\n",
       "0           apple             red                circle             7\n",
       "1           mango  orange, yellow      scalene triangle             6\n",
       "2           lemon          yellow                  oval             9\n",
       "3          orange          orange                circle            15\n",
       "4     green apple      lime green                circle             7\n",
       "5            lime      lime green                  oval             6\n",
       "6       blueberry            blue                circle             6\n",
       "7       raspberry             red  equilateral triangle             6\n",
       "8      strawberry             red           cylindrical             5\n",
       "9  blue raspberry            blue        equal triangle             6"
      ]
     },
     "execution_count": 5,
     "metadata": {},
     "output_type": "execute_result"
    }
   ],
   "source": [
    "data"
   ]
  },
  {
   "cell_type": "code",
   "execution_count": 6,
   "id": "5ca96baf",
   "metadata": {},
   "outputs": [
    {
     "data": {
      "text/plain": [
       "<Axes: >"
      ]
     },
     "execution_count": 6,
     "metadata": {},
     "output_type": "execute_result"
    },
    {
     "data": {
      "image/png": "[encoded data removed]",
      "text/plain": [
       "<Figure size 640x480 with 1 Axes>"
      ]
     },
     "metadata": {},
     "output_type": "display_data"
    }
   ],
   "source": [
    "data.plot()"
   ]
  },
  {
   "cell_type": "code",
   "execution_count": 7,
   "id": "359ccc77",
   "metadata": {},
   "outputs": [
    {
     "data": {
      "text/plain": [
       "<Axes: >"
      ]
     },
     "execution_count": 7,
     "metadata": {},
     "output_type": "execute_result"
    },
    {
     "data": {
      "image/png": "[encoded data removed]",
      "text/plain": [
       "<Figure size 640x480 with 1 Axes>"
      ]
     },
     "metadata": {},
     "output_type": "display_data"
    }
   ],
   "source": [
    "data.plot(kind = 'bar')"
   ]
  },
  {
   "cell_type": "code",
   "execution_count": 8,
   "id": "0f22d9f5",
   "metadata": {},
   "outputs": [],
   "source": [
    "k = ['fruits','ripeningtime']"
   ]
  },
  {
   "cell_type": "code",
   "execution_count": 9,
   "id": "5fcfeb20",
   "metadata": {},
   "outputs": [],
   "source": [
    "data2 = data[k]\n"
   ]
  },
  {
   "cell_type": "code",
   "execution_count": 10,
   "id": "422f81cf",
   "metadata": {},
   "outputs": [
    {
     "data": {
      "text/html": [
       "<div>\n",
       "<style scoped>\n",
       "    .dataframe tbody tr th:only-of-type {\n",
       "        vertical-align: middle;\n",
       "    }\n",
       "\n",
       "    .dataframe tbody tr th {\n",
       "        vertical-align: top;\n",
       "    }\n",
       "\n",
       "    .dataframe thead th {\n",
       "        text-align: right;\n",
       "    }\n",
       "</style>\n",
       "<table border=\"1\" class=\"dataframe\">\n",
       "  <thead>\n",
       "    <tr style=\"text-align: right;\">\n",
       "      <th></th>\n",
       "      <th>fruits</th>\n",
       "      <th>ripeningtime</th>\n",
       "    </tr>\n",
       "  </thead>\n",
       "  <tbody>\n",
       "    <tr>\n",
       "      <th>0</th>\n",
       "      <td>apple</td>\n",
       "      <td>7</td>\n",
       "    </tr>\n",
       "    <tr>\n",
       "      <th>1</th>\n",
       "      <td>mango</td>\n",
       "      <td>6</td>\n",
       "    </tr>\n",
       "    <tr>\n",
       "      <th>2</th>\n",
       "      <td>lemon</td>\n",
       "      <td>9</td>\n",
       "    </tr>\n",
       "    <tr>\n",
       "      <th>3</th>\n",
       "      <td>orange</td>\n",
       "      <td>15</td>\n",
       "    </tr>\n",
       "    <tr>\n",
       "      <th>4</th>\n",
       "      <td>green apple</td>\n",
       "      <td>7</td>\n",
       "    </tr>\n",
       "    <tr>\n",
       "      <th>5</th>\n",
       "      <td>lime</td>\n",
       "      <td>6</td>\n",
       "    </tr>\n",
       "    <tr>\n",
       "      <th>6</th>\n",
       "      <td>blueberry</td>\n",
       "      <td>6</td>\n",
       "    </tr>\n",
       "    <tr>\n",
       "      <th>7</th>\n",
       "      <td>raspberry</td>\n",
       "      <td>6</td>\n",
       "    </tr>\n",
       "    <tr>\n",
       "      <th>8</th>\n",
       "      <td>strawberry</td>\n",
       "      <td>5</td>\n",
       "    </tr>\n",
       "    <tr>\n",
       "      <th>9</th>\n",
       "      <td>blue raspberry</td>\n",
       "      <td>6</td>\n",
       "    </tr>\n",
       "  </tbody>\n",
       "</table>\n",
       "</div>"
      ],
      "text/plain": [
       "           fruits  ripeningtime\n",
       "0           apple             7\n",
       "1           mango             6\n",
       "2           lemon             9\n",
       "3          orange            15\n",
       "4     green apple             7\n",
       "5            lime             6\n",
       "6       blueberry             6\n",
       "7       raspberry             6\n",
       "8      strawberry             5\n",
       "9  blue raspberry             6"
      ]
     },
     "execution_count": 10,
     "metadata": {},
     "output_type": "execute_result"
    }
   ],
   "source": [
    "data2"
   ]
  },
  {
   "cell_type": "code",
   "execution_count": 11,
   "id": "166626d7",
   "metadata": {},
   "outputs": [
    {
     "data": {
      "text/plain": [
       "<Axes: >"
      ]
     },
     "execution_count": 11,
     "metadata": {},
     "output_type": "execute_result"
    },
    {
     "data": {
      "image/png": "[encoded data removed]",
      "text/plain": [
       "<Figure size 640x480 with 1 Axes>"
      ]
     },
     "metadata": {},
     "output_type": "display_data"
    }
   ],
   "source": [
    "data2.plot(kind='bar')"
   ]
  },
  {
   "cell_type": "code",
   "execution_count": 12,
   "id": "693409a2",
   "metadata": {},
   "outputs": [],
   "source": [
    "# i want to see all cirlc eshape furits"
   ]
  },
  {
   "cell_type": "code",
   "execution_count": 14,
   "id": "8cc7acf0",
   "metadata": {},
   "outputs": [
    {
     "data": {
      "text/html": [
       "<div>\n",
       "<style scoped>\n",
       "    .dataframe tbody tr th:only-of-type {\n",
       "        vertical-align: middle;\n",
       "    }\n",
       "\n",
       "    .dataframe tbody tr th {\n",
       "        vertical-align: top;\n",
       "    }\n",
       "\n",
       "    .dataframe thead th {\n",
       "        text-align: right;\n",
       "    }\n",
       "</style>\n",
       "<table border=\"1\" class=\"dataframe\">\n",
       "  <thead>\n",
       "    <tr style=\"text-align: right;\">\n",
       "      <th></th>\n",
       "      <th>fruits</th>\n",
       "      <th>colors</th>\n",
       "      <th>shapes</th>\n",
       "      <th>ripeningtime</th>\n",
       "    </tr>\n",
       "  </thead>\n",
       "  <tbody>\n",
       "    <tr>\n",
       "      <th>0</th>\n",
       "      <td>apple</td>\n",
       "      <td>red</td>\n",
       "      <td>circle</td>\n",
       "      <td>7</td>\n",
       "    </tr>\n",
       "    <tr>\n",
       "      <th>3</th>\n",
       "      <td>orange</td>\n",
       "      <td>orange</td>\n",
       "      <td>circle</td>\n",
       "      <td>15</td>\n",
       "    </tr>\n",
       "    <tr>\n",
       "      <th>4</th>\n",
       "      <td>green apple</td>\n",
       "      <td>lime green</td>\n",
       "      <td>circle</td>\n",
       "      <td>7</td>\n",
       "    </tr>\n",
       "    <tr>\n",
       "      <th>6</th>\n",
       "      <td>blueberry</td>\n",
       "      <td>blue</td>\n",
       "      <td>circle</td>\n",
       "      <td>6</td>\n",
       "    </tr>\n",
       "  </tbody>\n",
       "</table>\n",
       "</div>"
      ],
      "text/plain": [
       "        fruits      colors  shapes  ripeningtime\n",
       "0        apple         red  circle             7\n",
       "3       orange      orange  circle            15\n",
       "4  green apple  lime green  circle             7\n",
       "6    blueberry        blue  circle             6"
      ]
     },
     "execution_count": 14,
     "metadata": {},
     "output_type": "execute_result"
    }
   ],
   "source": [
    "data[data['shapes'] =='circle']"
   ]
  },
  {
   "cell_type": "code",
   "execution_count": 16,
   "id": "0d8f1f9d",
   "metadata": {},
   "outputs": [
    {
     "data": {
      "text/plain": [
       "<Axes: >"
      ]
     },
     "execution_count": 16,
     "metadata": {},
     "output_type": "execute_result"
    },
    {
     "data": {
      "image/png": "[encoded data removed]",
      "text/plain": [
       "<Figure size 640x480 with 1 Axes>"
      ]
     },
     "metadata": {},
     "output_type": "display_data"
    }
   ],
   "source": [
    "data.plot(kind='area')"
   ]
  },
  {
   "cell_type": "code",
   "execution_count": 17,
   "id": "447a52f8",
   "metadata": {},
   "outputs": [],
   "source": [
    "# Task 1"
   ]
  },
  {
   "cell_type": "code",
   "execution_count": 18,
   "id": "fcda38d6",
   "metadata": {},
   "outputs": [],
   "source": [
    "# make a list of 5 house size\n",
    "# make a list of 5 hour price\n",
    "size = [25,34,13,17,14]\n",
    "price = [1000,234567,3456,1234,1]"
   ]
  },
  {
   "cell_type": "code",
   "execution_count": null,
   "id": "6c58f11e",
   "metadata": {},
   "outputs": [],
   "source": [
    "# convert to data frame\n",
    "data = pd.DataFrame([size,price])"
   ]
  }
 ],
 "metadata": {
  "kernelspec": {
   "display_name": "Python 3 (ipykernel)",
   "language": "python",
   "name": "python3"
  },
  "language_info": {
   "codemirror_mode": {
    "name": "ipython",
    "version": 3
   },
   "file_extension": ".py",
   "mimetype": "text/x-python",
   "name": "python",
   "nbconvert_exporter": "python",
   "pygments_lexer": "ipython3",
   "version": "3.11.5"
  }
 },
 "nbformat": 4,
 "nbformat_minor": 5
}
