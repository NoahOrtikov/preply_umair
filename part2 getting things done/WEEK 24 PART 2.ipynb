{
 "cells": [
  {
   "cell_type": "code",
   "execution_count": 16,
   "id": "33933126",
   "metadata": {},
   "outputs": [],
   "source": [
    " ### if else\n",
    "    \n",
    "## if elif eliff\n",
    "\n",
    "# if elif elif else etc"
   ]
  },
  {
   "cell_type": "markdown",
   "id": "d3f50432",
   "metadata": {},
   "source": [
    "### TASK 1"
   ]
  },
  {
   "cell_type": "code",
   "execution_count": 8,
   "id": "2b57dd85",
   "metadata": {},
   "outputs": [
    {
     "name": "stdout",
     "output_type": "stream",
     "text": [
      "mango\n",
      "aaabbb\n"
     ]
    }
   ],
   "source": [
    "# i want to write a word which will have letter a but not letter e\n",
    "d = ['apple','orange','mango','lemon','aaabbb']\n",
    "\n",
    "for i in d:\n",
    "    if 'a' in i and not 'e' in i:\n",
    "        print(i)\n",
    "        \n",
    "\n"
   ]
  },
  {
   "cell_type": "code",
   "execution_count": 15,
   "id": "ec767ed7",
   "metadata": {},
   "outputs": [
    {
     "name": "stdout",
     "output_type": "stream",
     "text": [
      "apple\n",
      "orange\n",
      "raspberry\n",
      "strawberry\n"
     ]
    }
   ],
   "source": [
    "p = ['apple','orange','mango','raspberry','strawberry']\n",
    "# print all the vaue which has e inside it\n",
    "\n",
    "for i in p:\n",
    "    if 'e' in i:\n",
    "        print(i)\n"
   ]
  },
  {
   "cell_type": "markdown",
   "id": "adf4fc96",
   "metadata": {},
   "source": [
    "#### Tasks 2"
   ]
  },
  {
   "cell_type": "code",
   "execution_count": 17,
   "id": "819e90ec",
   "metadata": {},
   "outputs": [],
   "source": [
    "# make a dictionary of 5 friends name and their espected marks out of 100\n",
    "x = {'sahil':100,'vedant':78,'rosalyn':91,'me':100,'ava':81}"
   ]
  },
  {
   "cell_type": "markdown",
   "id": "e6e90a19",
   "metadata": {},
   "source": [
    "### task 3"
   ]
  },
  {
   "cell_type": "code",
   "execution_count": 19,
   "id": "4862f62f",
   "metadata": {},
   "outputs": [
    {
     "name": "stdout",
     "output_type": "stream",
     "text": [
      "sahil\n",
      "rosalyn\n",
      "me\n"
     ]
    }
   ],
   "source": [
    "# run a for loop over x and print those which has more than 90 scores\n",
    "for  name,mark in x.items():\n",
    "     if mark>90:\n",
    "        print(name)"
   ]
  },
  {
   "cell_type": "markdown",
   "id": "ed2510ba",
   "metadata": {},
   "source": [
    "# Task 4"
   ]
  },
  {
   "cell_type": "code",
   "execution_count": 20,
   "id": "5988c10b",
   "metadata": {},
   "outputs": [],
   "source": [
    "## make a dictionary of color and fruits 10 total, print those fruits which has 'a' in their color"
   ]
  },
  {
   "cell_type": "code",
   "execution_count": null,
   "id": "cc45c1ed",
   "metadata": {},
   "outputs": [],
   "source": [
    "j = {'apple':'red','orange':'orange','mango':'orange','lemon':'yellow','lime':'green','green apple':'green','blueberry':'blue','grape':'purple','strawberry':'red','blackberry':'black'}\n",
    "\n"
   ]
  }
 ],
 "metadata": {
  "kernelspec": {
   "display_name": "Python 3 (ipykernel)",
   "language": "python",
   "name": "python3"
  },
  "language_info": {
   "codemirror_mode": {
    "name": "ipython",
    "version": 3
   },
   "file_extension": ".py",
   "mimetype": "text/x-python",
   "name": "python",
   "nbconvert_exporter": "python",
   "pygments_lexer": "ipython3",
   "version": "3.11.5"
  }
 },
 "nbformat": 4,
 "nbformat_minor": 5
}
