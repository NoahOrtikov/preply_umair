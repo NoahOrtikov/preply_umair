{
 "cells": [
  {
   "cell_type": "markdown",
   "id": "c7ab9009",
   "metadata": {},
   "source": [
    "### Task 1"
   ]
  },
  {
   "cell_type": "code",
   "execution_count": null,
   "id": "489c8f4f",
   "metadata": {},
   "outputs": [],
   "source": [
    "/Users/noahjaceortikov/Library/Application Support/zoom.us/data/confres/0fe8f3a61c6f10d586f3dde45456ee4e252b85ea43180b5cf09fe8b90cffb8c1/FDD07B1A-F569-40CF-ACFA-C5D8E29DB923.png"
   ]
  },
  {
   "cell_type": "code",
   "execution_count": 1,
   "id": "37d4ab8a",
   "metadata": {},
   "outputs": [],
   "source": [
    "def fun (x):\n",
    "    return x**2 - 0.2468*x + 0.01526116"
   ]
  },
  {
   "cell_type": "code",
   "execution_count": 19,
   "id": "4f6fa519",
   "metadata": {},
   "outputs": [
    {
     "data": {
      "text/plain": [
       "4.516000000000242e-05"
      ]
     },
     "execution_count": 19,
     "metadata": {},
     "output_type": "execute_result"
    }
   ],
   "source": [
    "fun(.12)"
   ]
  },
  {
   "cell_type": "code",
   "execution_count": null,
   "id": "8643e990",
   "metadata": {},
   "outputs": [],
   "source": []
  }
 ],
 "metadata": {
  "kernelspec": {
   "display_name": "Python 3 (ipykernel)",
   "language": "python",
   "name": "python3"
  },
  "language_info": {
   "codemirror_mode": {
    "name": "ipython",
    "version": 3
   },
   "file_extension": ".py",
   "mimetype": "text/x-python",
   "name": "python",
   "nbconvert_exporter": "python",
   "pygments_lexer": "ipython3",
   "version": "3.11.5"
  }
 },
 "nbformat": 4,
 "nbformat_minor": 5
}
