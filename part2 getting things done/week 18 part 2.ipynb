{
 "cells": [
  {
   "cell_type": "markdown",
   "id": "b2ff4fb2",
   "metadata": {},
   "source": [
    "### Task 1"
   ]
  },
  {
   "cell_type": "code",
   "execution_count": 3,
   "id": "64825491",
   "metadata": {},
   "outputs": [],
   "source": [
    "#  How to find Distance covered by the rocket fired on earth is calculated using d = v**2 * math.sin(2*x) / g\n",
    "#  you have to find the distance covered if velocity is 19 m/s and angle x is 45 degrees.\n",
    "#  find the distance covered for earth, mars, 2moon, 3jupiter and4 neptune"
   ]
  },
  {
   "cell_type": "code",
   "execution_count": 6,
   "id": "7f4f41b9",
   "metadata": {},
   "outputs": [
    {
     "data": {
      "text/plain": [
       "36.836734693877546"
      ]
     },
     "execution_count": 6,
     "metadata": {},
     "output_type": "execute_result"
    }
   ],
   "source": [
    "import math\n",
    "g = 9.8\n",
    "v = 19\n",
    "x = math.radians(45)\n",
    "d = v**2 * math.sin(2*x) / g\n",
    "d"
   ]
  },
  {
   "cell_type": "code",
   "execution_count": 7,
   "id": "5ca20820",
   "metadata": {},
   "outputs": [
    {
     "data": {
      "text/plain": [
       "97.04301075268816"
      ]
     },
     "execution_count": 7,
     "metadata": {},
     "output_type": "execute_result"
    }
   ],
   "source": [
    "import math\n",
    "g = 3.72\n",
    "v = 19\n",
    "x = math.radians(45)\n",
    "d = v**2 * math.sin(2*x) / g\n",
    "d"
   ]
  },
  {
   "cell_type": "code",
   "execution_count": 9,
   "id": "27d24189",
   "metadata": {},
   "outputs": [
    {
     "data": {
      "text/plain": [
       "14.562323517547398"
      ]
     },
     "execution_count": 9,
     "metadata": {},
     "output_type": "execute_result"
    }
   ],
   "source": [
    "import math\n",
    "g = 24.79\n",
    "v = 19\n",
    "x = math.radians(45)\n",
    "d = v**2 * math.sin(2*x) / g\n",
    "d"
   ]
  },
  {
   "cell_type": "code",
   "execution_count": 10,
   "id": "6d3cefcf",
   "metadata": {},
   "outputs": [
    {
     "data": {
      "text/plain": [
       "32.37668161434978"
      ]
     },
     "execution_count": 10,
     "metadata": {},
     "output_type": "execute_result"
    }
   ],
   "source": [
    "import math\n",
    "g = 11.15\n",
    "v = 19\n",
    "x = math.radians(45)\n",
    "d = v**2 * math.sin(2*x) / g\n",
    "d"
   ]
  },
  {
   "cell_type": "markdown",
   "id": "e53a7dd8",
   "metadata": {},
   "source": [
    "### Task 2"
   ]
  },
  {
   "cell_type": "markdown",
   "id": "a2bc6965",
   "metadata": {},
   "source": [
    "# weight depends on the gravity so we have to find our original and actuall mass which will stay same on all planets\n",
    "# then we will find what will be our weight on different planets \n",
    "# 1. earth 2. Mars 3. Jupiter 4. neptune"
   ]
  },
  {
   "cell_type": "code",
   "execution_count": 12,
   "id": "b8206155",
   "metadata": {},
   "outputs": [
    {
     "name": "stdout",
     "output_type": "stream",
     "text": [
      "Planet gravity (in m/s^2):\n",
      " on Mercury: the weight of noah will be 28.76938775510204 pounds\n",
      " on Venus: the weight of noah will be 68.96877551020407 pounds\n",
      " on Earth: the weight of noah will be 76.27775510204081 pounds\n",
      " on Mars: the weight of noah will be 28.930807346938774 pounds\n",
      " on Jupiter: the weight of noah will be 192.75489795918367 pounds\n",
      " on Saturn: the weight of noah will be 81.17632653061223 pounds\n",
      " on Uranus: the weight of noah will be 67.56918367346938 pounds\n",
      " on Neptune: the weight of noah will be 86.6969387755102 pounds\n",
      " on Pluto: the weight of noah will be 4.820816326530612 pounds\n"
     ]
    }
   ],
   "source": [
    "planet_gravity = {\n",
    "    \"Mercury\": 3.7,   # m/s^2\n",
    "    \"Venus\": 8.87,    # m/s^2\n",
    "    \"Earth\": 9.81,    # m/s^2\n",
    "    \"Mars\": 3.72076,  # m/s^2\n",
    "    \"Jupiter\": 24.79, # m/s^2\n",
    "    \"Saturn\": 10.44,  # m/s^2\n",
    "    \"Uranus\": 8.69,   # m/s^2\n",
    "    \"Neptune\": 11.15, # m/s^2\n",
    "    \"Pluto\": 0.62     # m/s^2\n",
    "}\n",
    "mass = 76.2/9.8\n",
    "\n",
    "print(\"Planet gravity (in m/s^2):\")\n",
    "for planet, gravity in planet_gravity.items():\n",
    "    print(f\" on {planet}: the weight of noah will be {mass*gravity} pounds\")\n"
   ]
  },
  {
   "cell_type": "code",
   "execution_count": 19,
   "id": "002bf389",
   "metadata": {},
   "outputs": [
    {
     "name": "stdout",
     "output_type": "stream",
     "text": [
      "Planet gravity (in m/s^2):\n",
      " on Mercury: the weight of MAMA will be 49.08163265306122 pounds\n",
      " on Venus: the weight of MAMA will be 117.66326530612243 pounds\n",
      " on Earth: the weight of MAMA will be 130.1326530612245 pounds\n",
      " on Mars: the weight of MAMA will be 49.35702040816326 pounds\n",
      " on Jupiter: the weight of MAMA will be 328.8469387755101 pounds\n",
      " on Saturn: the weight of MAMA will be 138.48979591836732 pounds\n",
      " on Uranus: the weight of MAMA will be 115.27551020408161 pounds\n",
      " on Neptune: the weight of MAMA will be 147.90816326530611 pounds\n",
      " on Pluto: the weight of MAMA will be 8.224489795918366 pounds\n"
     ]
    }
   ],
   "source": [
    "planet_gravity = {\n",
    "    \"Mercury\": 3.7,   # m/s^2\n",
    "    \"Venus\": 8.87,    # m/s^2\n",
    "    \"Earth\": 9.81,    # m/s^2\n",
    "    \"Mars\": 3.72076,  # m/s^2\n",
    "    \"Jupiter\": 24.79, # m/s^2\n",
    "    \"Saturn\": 10.44,  # m/s^2\n",
    "    \"Uranus\": 8.69,   # m/s^2\n",
    "    \"Neptune\": 11.15, # m/s^2\n",
    "    \"Pluto\": 0.62     # m/s^2\n",
    "}\n",
    "mass = 130/9.8\n",
    "\n",
    "print(\"Planet gravity (in m/s^2):\")\n",
    "for planet, gravity in planet_gravity.items():\n",
    "    print(f\" on {planet}: the weight of MAMA will be {mass*gravity} pounds\")"
   ]
  },
  {
   "cell_type": "markdown",
   "id": "67270976",
   "metadata": {},
   "source": [
    "### Task 3"
   ]
  },
  {
   "cell_type": "markdown",
   "id": "2620916e",
   "metadata": {},
   "source": [
    "# you have a lader which has length 10m and it is making 65 degrees with wall. find the height of building"
   ]
  },
  {
   "cell_type": "code",
   "execution_count": 20,
   "id": "15de413a",
   "metadata": {},
   "outputs": [
    {
     "name": "stdout",
     "output_type": "stream",
     "text": [
      "Height of the wall: 9.063077870366499 meters\n"
     ]
    }
   ],
   "source": [
    "import math\n",
    "\n",
    "# Given values\n",
    "ladder_length = 10  # meters\n",
    "angle_degrees = 65  # degrees\n",
    "\n",
    "# Convert angle to radians\n",
    "angle_radians = math.radians(angle_degrees)\n",
    "\n",
    "# Calculate the height of the wall\n",
    "height_wall = ladder_length * math.sin(angle_radians)\n",
    "\n",
    "# Output the result\n",
    "print(\"Height of the wall:\", height_wall, \"meters\")\n"
   ]
  },
  {
   "cell_type": "markdown",
   "id": "43aca3b3",
   "metadata": {},
   "source": [
    "### last butt not du least Task 4"
   ]
  },
  {
   "cell_type": "code",
   "execution_count": 21,
   "id": "462e6b80",
   "metadata": {},
   "outputs": [
    {
     "name": "stdout",
     "output_type": "stream",
     "text": [
      "Total number of tiles in the room: 20000\n"
     ]
    }
   ],
   "source": [
    "# Given values\n",
    "rows = 100\n",
    "columns = 200\n",
    "\n",
    "# Calculate the total number of tiles\n",
    "total_tiles = rows * columns\n",
    "\n",
    "# Output the result\n",
    "print(\"Total number of tiles in the room:\", total_tiles)\n"
   ]
  },
  {
   "cell_type": "markdown",
   "id": "d276cade",
   "metadata": {},
   "source": [
    "# task 5"
   ]
  },
  {
   "cell_type": "code",
   "execution_count": null,
   "id": "0221b668",
   "metadata": {},
   "outputs": [],
   "source": [
    "# "
   ]
  }
 ],
 "metadata": {
  "kernelspec": {
   "display_name": "Python 3 (ipykernel)",
   "language": "python",
   "name": "python3"
  },
  "language_info": {
   "codemirror_mode": {
    "name": "ipython",
    "version": 3
   },
   "file_extension": ".py",
   "mimetype": "text/x-python",
   "name": "python",
   "nbconvert_exporter": "python",
   "pygments_lexer": "ipython3",
   "version": "3.11.5"
  }
 },
 "nbformat": 4,
 "nbformat_minor": 5
}
