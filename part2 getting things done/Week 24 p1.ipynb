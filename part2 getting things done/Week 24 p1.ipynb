{
 "cells": [
  {
   "cell_type": "code",
   "execution_count": null,
   "metadata": {},
   "outputs": [],
   "source": [
    "# leap year is year which is divisible by 4 and not with 100\n",
    "# but every year which s divisible by 400 is a leap year.\n",
    "\n",
    "year =1233\n",
    "# if year %4 == 0 pea year but not year%100 ==0\n",
    "\n",
    "if year% 4 ==0 and not year%4==0:\n",
    "    print('its a leap year')\n",
    "else:\n",
    "    print('not nleap year!' )\n",
    "\n",
    "\n"
   ]
  },
  {
   "cell_type": "code",
   "execution_count": null,
   "metadata": {},
   "outputs": [],
   "source": []
  }
 ],
 "metadata": {
  "language_info": {
   "name": "python"
  }
 },
 "nbformat": 4,
 "nbformat_minor": 2
}
