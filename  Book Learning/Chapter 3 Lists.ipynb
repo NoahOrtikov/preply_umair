{
 "cells": [
  {
   "cell_type": "markdown",
   "id": "5eadab86",
   "metadata": {},
   "source": [
    "### Task 5"
   ]
  },
  {
   "cell_type": "code",
   "execution_count": 7,
   "id": "51da1191",
   "metadata": {},
   "outputs": [
    {
     "name": "stdout",
     "output_type": "stream",
     "text": [
      "heeeeey Vedant you are invited\n",
      "heeeeey Jack you are invited\n",
      "heeeeey Rosalyn you are invited\n",
      "heeeeey Sahil you are invited\n",
      "heeeeey Ava you are invited\n"
     ]
    }
   ],
   "source": [
    "names = ['Sahil','Rosalyn','Vedant','Ava','Jack']\n",
    "x = names[0]\n",
    "y = names[1]\n",
    "z = names[2]\n",
    "w = names[3]\n",
    "aa = names[4]\n",
    "print('heeeeey',z,'you are invited')\n",
    "print('heeeeey',aa,'you are invited')\n",
    "print('heeeeey',y,'you are invited')\n",
    "print('heeeeey',x,'you are invited')\n",
    "print('heeeeey',w,'you are invited')\n"
   ]
  },
  {
   "cell_type": "markdown",
   "id": "78b372ec",
   "metadata": {},
   "source": [
    "### task 2 (3-3)"
   ]
  },
  {
   "cell_type": "code",
   "execution_count": 1,
   "id": "fd215da3",
   "metadata": {},
   "outputs": [
    {
     "name": "stdout",
     "output_type": "stream",
     "text": [
      "motorcycle is my favortite mode odf transportation\n",
      "Carro is my favortite mode odf transportation\n",
      "boattata is my favortite mode odf transportation\n"
     ]
    }
   ],
   "source": [
    "Mode = ['motorcycle','Carro','boattata']\n",
    "for each in Mode:\n",
    "    print(each,'is my favortite mode odf transportation')\n",
    "    \n",
    "    \n",
    "    \n",
    "    \n",
    "    \n",
    "    \n",
    "\n",
    "    \n",
    "    \n",
    "    \n",
    "    \n",
    "    \n",
    "    \n",
    "        "
   ]
  },
  {
   "cell_type": "code",
   "execution_count": 2,
   "id": "dd654d88",
   "metadata": {},
   "outputs": [],
   "source": [
    "# task 3 (3-4)"
   ]
  },
  {
   "cell_type": "code",
   "execution_count": null,
   "id": "800b3902",
   "metadata": {},
   "outputs": [],
   "source": [
    "names = ['Sahil','Rosalyn','Vedant','Ava','Jack']\n",
    "for each in names:\n",
    "    print(hey,each'you ARE INVITEDV)"
   ]
  }
 ],
 "metadata": {
  "kernelspec": {
   "display_name": "Python 3 (ipykernel)",
   "language": "python",
   "name": "python3"
  },
  "language_info": {
   "codemirror_mode": {
    "name": "ipython",
    "version": 3
   },
   "file_extension": ".py",
   "mimetype": "text/x-python",
   "name": "python",
   "nbconvert_exporter": "python",
   "pygments_lexer": "ipython3",
   "version": "3.11.5"
  }
 },
 "nbformat": 4,
 "nbformat_minor": 5
}
