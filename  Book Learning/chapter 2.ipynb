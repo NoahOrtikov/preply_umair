{
 "cells": [
  {
   "cell_type": "markdown",
   "id": "8d0c8b5c",
   "metadata": {},
   "source": [
    "## Task 3"
   ]
  },
  {
   "cell_type": "raw",
   "id": "9aa4065a",
   "metadata": {},
   "source": [
    " Simple Messages: Store a message in a variable, and print that message . Then change the value of your variable to a new message, and print the new message . Simple Messages: Store a message in a variable, and print that message . Then change the value of your variable to a new message, and print the new message . \n",
    " "
   ]
  },
  {
   "cell_type": "code",
   "execution_count": 1,
   "id": "31aa6ac1",
   "metadata": {},
   "outputs": [
    {
     "name": "stdout",
     "output_type": "stream",
     "text": [
      "we have started lorning a bok naw hahahahahahhahahahaahahahahahahahahaha\n"
     ]
    }
   ],
   "source": [
    "msg = 'we have started lorning a book naw hahahahahahhahahahaahahahahahahahahaha'\n",
    "print(msg)"
   ]
  },
  {
   "cell_type": "markdown",
   "id": "e0ad1254",
   "metadata": {},
   "source": [
    "### Task 4"
   ]
  },
  {
   "cell_type": "code",
   "execution_count": 2,
   "id": "12203f1c",
   "metadata": {},
   "outputs": [
    {
     "name": "stdout",
     "output_type": "stream",
     "text": [
      "8\n",
      "430\n",
      "861925\n",
      "10.147058823529411\n"
     ]
    }
   ],
   "source": [
    "print(5 + 3)\n",
    "print(665 - 235)\n",
    "print(37475 * 23)\n",
    "print(345 / 34)"
   ]
  },
  {
   "cell_type": "code",
   "execution_count": null,
   "id": "41de6a1e",
   "metadata": {},
   "outputs": [],
   "source": []
  }
 ],
 "metadata": {
  "kernelspec": {
   "display_name": "Python 3 (ipykernel)",
   "language": "python",
   "name": "python3"
  },
  "language_info": {
   "codemirror_mode": {
    "name": "ipython",
    "version": 3
   },
   "file_extension": ".py",
   "mimetype": "text/x-python",
   "name": "python",
   "nbconvert_exporter": "python",
   "pygments_lexer": "ipython3",
   "version": "3.11.5"
  }
 },
 "nbformat": 4,
 "nbformat_minor": 5
}
