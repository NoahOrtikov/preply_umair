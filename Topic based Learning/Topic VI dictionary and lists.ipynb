{
 "cells": [
  {
   "cell_type": "markdown",
   "id": "c04a9f00",
   "metadata": {},
   "source": [
    "# how to make a list"
   ]
  },
  {
   "cell_type": "code",
   "execution_count": 5,
   "id": "042f9c58",
   "metadata": {},
   "outputs": [
    {
     "name": "stdout",
     "output_type": "stream",
     "text": [
      "99\n",
      "23\n",
      "4\n",
      "53\n",
      "22\n",
      "5\n",
      "66\n"
     ]
    }
   ],
   "source": [
    "w = [1,2,3,4,5,6]\n",
    "x = [100,105,169,191,172,283]\n",
    "y = [99,23,4,53,22,5,66]\n",
    "\n",
    "for j in y:\n",
    "    print(j)"
   ]
  },
  {
   "cell_type": "code",
   "execution_count": 2,
   "id": "55240e32",
   "metadata": {},
   "outputs": [],
   "source": [
    "car = {\n",
    "    'car1' : ['red color','1000 cc engine','lamborghini'] ,\n",
    "    'car2' : ['stinky','likes to drive fast','brown color'],\n",
    "    'car3' : ['yellow','made in 1978','clean and shiny']\n",
    "}"
   ]
  },
  {
   "cell_type": "markdown",
   "id": "9b34850f",
   "metadata": {},
   "source": [
    "# what if i run for loop on car"
   ]
  },
  {
   "cell_type": "code",
   "execution_count": 8,
   "id": "74e0ed1e",
   "metadata": {},
   "outputs": [
    {
     "name": "stdout",
     "output_type": "stream",
     "text": [
      "car1 red color\n",
      "car1 1000 cc engine\n",
      "car1 lamborghini\n"
     ]
    },
    {
     "ename": "TypeError",
     "evalue": "can't multiply sequence by non-int of type 'float'",
     "output_type": "error",
     "traceback": [
      "\u001b[0;31m---------------------------------------------------------------------------\u001b[0m",
      "\u001b[0;31mTypeError\u001b[0m                                 Traceback (most recent call last)",
      "Cell \u001b[0;32mIn[8], line 4\u001b[0m\n\u001b[1;32m      2\u001b[0m \u001b[38;5;28;01mfor\u001b[39;00m j \u001b[38;5;129;01min\u001b[39;00m car[i]:\n\u001b[1;32m      3\u001b[0m     \u001b[38;5;28mprint\u001b[39m(i, j)\n\u001b[0;32m----> 4\u001b[0m \u001b[38;5;28mprint\u001b[39m(\u001b[38;5;124m'\u001b[39m\u001b[38;5;124m-----\u001b[39m\u001b[38;5;124m'\u001b[39m\u001b[38;5;241m*\u001b[39m\u001b[38;5;241m100.1\u001b[39m)\n",
      "\u001b[0;31mTypeError\u001b[0m: can't multiply sequence by non-int of type 'float'"
     ]
    }
   ],
   "source": [
    "for i in car:\n",
    "    for j in car[i]:\n",
    "        print(i, j)\n",
    "    print('-----'*100.1)"
   ]
  },
  {
   "cell_type": "markdown",
   "id": "64943d08",
   "metadata": {},
   "source": [
    "# i made data to print the physics scores of all class"
   ]
  },
  {
   "cell_type": "code",
   "execution_count": 19,
   "id": "8e5defe9",
   "metadata": {},
   "outputs": [],
   "source": [
    "students = [\n",
    "    {\"name\": \"Alice\", \"physics\": 85, \"math\": 90},\n",
    "    {\"name\": \"Bob\", \"physics\": 78, \"math\": 82},\n",
    "    {\"name\": \"Charlie\", \"physics\": 92, \"math\": 88},\n",
    "    {\"name\": \"David\", \"physics\": 76, \"math\": 95},\n",
    "    {\"name\": \"Eva\", \"physics\": 89, \"math\": 84},\n",
    "    {\"name\": \"Frank\", \"physics\": 80, \"math\": 86},\n",
    "    {\"name\": \"Grace\", \"physics\": 88, \"math\": 92},\n",
    "    {\"name\": \"Hannah\", \"physics\": 91, \"math\": 87},\n",
    "    {\"name\": \"Ivy\", \"physics\": 79, \"math\": 83},\n",
    "    {\"name\": \"Jack\", \"physics\": 84, \"math\": 91},\n",
    "    {\"name\": \"Kate\", \"physics\": 77, \"math\": 89},\n",
    "    {\"name\": \"Leo\", \"physics\": 90, \"math\": 85},\n",
    "    {\"name\": \"Mia\", \"physics\": 86, \"math\": 1},\n",
    "    {\"name\": \"Noah\", \"physics\": 99, \"math\": 100},\n",
    "    {\"name\": \"Olivia\", \"physics\": 93, \"math\": 88},\n",
    "    {\"name\": \"Paul\", \"physics\": 75, \"math\": 82},\n",
    "    {\"name\": \"Quinn\", \"physics\": 89, \"math\": 90},\n",
    "    {\"name\": \"Rachel\", \"physics\": 87, \"math\": 93},\n",
    "    {\"name\": \"Sam\", \"physics\": 81, \"math\": 84},\n",
    "    {\"name\": \"Tina\", \"physics\": 78, \"math\": 88},\n",
    "    {\"name\": \"Uma\", \"physics\": 92, \"math\": 87},\n",
    "    {\"name\": \"Victor\", \"physics\": 85, \"math\": 89},\n",
    "    {\"name\": \"Wendy\", \"physics\": 88, \"math\": 91},\n",
    "    {\"name\": \"Xander\", \"physics\": 90, \"math\": 86},\n",
    "    {\"name\": \"Yara\", \"physics\": 83, \"math\": 85},\n",
    "    {\"name\": \"Zane\", \"physics\": 82, \"math\": 90}\n",
    "]"
   ]
  },
  {
   "cell_type": "code",
   "execution_count": 20,
   "id": "f6cdba08",
   "metadata": {},
   "outputs": [],
   "source": [
    "# task run a for loop and prince me the name of student and their phycs scores"
   ]
  },
  {
   "cell_type": "code",
   "execution_count": 21,
   "id": "71772d12",
   "metadata": {},
   "outputs": [],
   "source": [
    "# use for loop and then write print(each['name'],each['physics'])"
   ]
  },
  {
   "cell_type": "code",
   "execution_count": 24,
   "id": "05f4a878",
   "metadata": {},
   "outputs": [
    {
     "name": "stdout",
     "output_type": "stream",
     "text": [
      "Alice obtained 85 in physics, 90 in maths\n",
      "Bob obtained 78 in physics, 82 in maths\n",
      "Charlie obtained 92 in physics, 88 in maths\n",
      "David obtained 76 in physics, 95 in maths\n",
      "Eva obtained 89 in physics, 84 in maths\n",
      "Frank obtained 80 in physics, 86 in maths\n",
      "Grace obtained 88 in physics, 92 in maths\n",
      "Hannah obtained 91 in physics, 87 in maths\n",
      "Ivy obtained 79 in physics, 83 in maths\n",
      "Jack obtained 84 in physics, 91 in maths\n",
      "Kate obtained 77 in physics, 89 in maths\n",
      "Leo obtained 90 in physics, 85 in maths\n",
      "Mia obtained 86 in physics, 1 in maths\n",
      "Noah obtained 99 in physics, 100 in maths\n",
      "Olivia obtained 93 in physics, 88 in maths\n",
      "Paul obtained 75 in physics, 82 in maths\n",
      "Quinn obtained 89 in physics, 90 in maths\n",
      "Rachel obtained 87 in physics, 93 in maths\n",
      "Sam obtained 81 in physics, 84 in maths\n",
      "Tina obtained 78 in physics, 88 in maths\n",
      "Uma obtained 92 in physics, 87 in maths\n",
      "Victor obtained 85 in physics, 89 in maths\n",
      "Wendy obtained 88 in physics, 91 in maths\n",
      "Xander obtained 90 in physics, 86 in maths\n",
      "Yara obtained 83 in physics, 85 in maths\n",
      "Zane obtained 82 in physics, 90 in maths\n"
     ]
    }
   ],
   "source": [
    "for each in students:\n",
    "    print(each['name'],'obtained',each['physics'],'in physics,',each['math'],'in maths')"
   ]
  },
  {
   "cell_type": "code",
   "execution_count": null,
   "id": "30cad160",
   "metadata": {},
   "outputs": [],
   "source": []
  },
  {
   "cell_type": "code",
   "execution_count": null,
   "id": "5ecdf821",
   "metadata": {},
   "outputs": [],
   "source": []
  },
  {
   "cell_type": "code",
   "execution_count": null,
   "id": "42d9b239",
   "metadata": {},
   "outputs": [],
   "source": []
  }
 ],
 "metadata": {
  "kernelspec": {
   "display_name": "Python 3 (ipykernel)",
   "language": "python",
   "name": "python3"
  },
  "language_info": {
   "codemirror_mode": {
    "name": "ipython",
    "version": 3
   },
   "file_extension": ".py",
   "mimetype": "text/x-python",
   "name": "python",
   "nbconvert_exporter": "python",
   "pygments_lexer": "ipython3",
   "version": "3.11.5"
  }
 },
 "nbformat": 4,
 "nbformat_minor": 5
}
