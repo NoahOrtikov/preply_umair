{
 "cells": [
  {
   "cell_type": "markdown",
   "id": "b9a521e6",
   "metadata": {},
   "source": [
    "### Comparative Operator > , <, ==, !=, <=, >="
   ]
  },
  {
   "cell_type": "code",
   "execution_count": 2,
   "id": "17382f75",
   "metadata": {},
   "outputs": [
    {
     "data": {
      "text/plain": [
       "False"
      ]
     },
     "execution_count": 2,
     "metadata": {},
     "output_type": "execute_result"
    }
   ],
   "source": [
    "age_noah = 8.0001\n",
    "age_bella = 8\n",
    "\n",
    "\n",
    "age_noah < age_bella\n"
   ]
  },
  {
   "cell_type": "code",
   "execution_count": 3,
   "id": "eb0a67bd",
   "metadata": {},
   "outputs": [
    {
     "data": {
      "text/plain": [
       "True"
      ]
     },
     "execution_count": 3,
     "metadata": {},
     "output_type": "execute_result"
    }
   ],
   "source": [
    "age_noah > age_bella"
   ]
  },
  {
   "cell_type": "code",
   "execution_count": 4,
   "id": "0432d88b",
   "metadata": {},
   "outputs": [],
   "source": [
    "f = 'apple'\n",
    "f2 = 'orange'"
   ]
  },
  {
   "cell_type": "code",
   "execution_count": 5,
   "id": "42e72c0c",
   "metadata": {},
   "outputs": [
    {
     "data": {
      "text/plain": [
       "False"
      ]
     },
     "execution_count": 5,
     "metadata": {},
     "output_type": "execute_result"
    }
   ],
   "source": [
    "f>f2"
   ]
  },
  {
   "cell_type": "code",
   "execution_count": 6,
   "id": "08fd00c9",
   "metadata": {},
   "outputs": [
    {
     "data": {
      "text/plain": [
       "False"
      ]
     },
     "execution_count": 6,
     "metadata": {},
     "output_type": "execute_result"
    }
   ],
   "source": [
    "f == f2"
   ]
  },
  {
   "cell_type": "code",
   "execution_count": 7,
   "id": "ae0e8c7e",
   "metadata": {},
   "outputs": [
    {
     "data": {
      "text/plain": [
       "True"
      ]
     },
     "execution_count": 7,
     "metadata": {},
     "output_type": "execute_result"
    }
   ],
   "source": [
    "f != f2"
   ]
  },
  {
   "cell_type": "code",
   "execution_count": null,
   "id": "fe2f64e4",
   "metadata": {},
   "outputs": [],
   "source": []
  },
  {
   "cell_type": "code",
   "execution_count": null,
   "id": "caab7d1c",
   "metadata": {},
   "outputs": [],
   "source": []
  },
  {
   "cell_type": "raw",
   "id": "7605d3f5",
   "metadata": {},
   "source": [
    "### Logical Operations"
   ]
  },
  {
   "cell_type": "code",
   "execution_count": 8,
   "id": "c9b4db7a",
   "metadata": {},
   "outputs": [
    {
     "data": {
      "text/plain": [
       "False"
      ]
     },
     "execution_count": 8,
     "metadata": {},
     "output_type": "execute_result"
    }
   ],
   "source": [
    "True and False"
   ]
  },
  {
   "cell_type": "code",
   "execution_count": 9,
   "id": "6b99c5df",
   "metadata": {},
   "outputs": [
    {
     "data": {
      "text/plain": [
       "True"
      ]
     },
     "execution_count": 9,
     "metadata": {},
     "output_type": "execute_result"
    }
   ],
   "source": [
    "True or False"
   ]
  },
  {
   "cell_type": "code",
   "execution_count": 10,
   "id": "dce4e79f",
   "metadata": {},
   "outputs": [
    {
     "data": {
      "text/plain": [
       "True"
      ]
     },
     "execution_count": 10,
     "metadata": {},
     "output_type": "execute_result"
    }
   ],
   "source": [
    "True and False or True"
   ]
  },
  {
   "cell_type": "code",
   "execution_count": 11,
   "id": "0ad96afd",
   "metadata": {},
   "outputs": [
    {
     "data": {
      "text/plain": [
       "False"
      ]
     },
     "execution_count": 11,
     "metadata": {},
     "output_type": "execute_result"
    }
   ],
   "source": [
    "True and not True"
   ]
  },
  {
   "cell_type": "code",
   "execution_count": 12,
   "id": "5843fc95",
   "metadata": {},
   "outputs": [
    {
     "data": {
      "text/plain": [
       "True"
      ]
     },
     "execution_count": 12,
     "metadata": {},
     "output_type": "execute_result"
    }
   ],
   "source": [
    "True or not False"
   ]
  },
  {
   "cell_type": "code",
   "execution_count": 13,
   "id": "9004111d",
   "metadata": {},
   "outputs": [
    {
     "data": {
      "text/plain": [
       "True"
      ]
     },
     "execution_count": 13,
     "metadata": {},
     "output_type": "execute_result"
    }
   ],
   "source": [
    "True or not True or False and not True or False"
   ]
  },
  {
   "cell_type": "code",
   "execution_count": 15,
   "id": "e433a96e",
   "metadata": {},
   "outputs": [
    {
     "data": {
      "text/plain": [
       "False"
      ]
     },
     "execution_count": 15,
     "metadata": {},
     "output_type": "execute_result"
    }
   ],
   "source": [
    "False and True"
   ]
  },
  {
   "cell_type": "code",
   "execution_count": 16,
   "id": "3bef4700",
   "metadata": {},
   "outputs": [
    {
     "data": {
      "text/plain": [
       "True"
      ]
     },
     "execution_count": 16,
     "metadata": {},
     "output_type": "execute_result"
    }
   ],
   "source": [
    "False or True "
   ]
  },
  {
   "cell_type": "code",
   "execution_count": null,
   "id": "f07993b0",
   "metadata": {},
   "outputs": [],
   "source": []
  },
  {
   "cell_type": "code",
   "execution_count": null,
   "id": "7366b039",
   "metadata": {},
   "outputs": [],
   "source": []
  },
  {
   "cell_type": "code",
   "execution_count": null,
   "id": "0d389b18",
   "metadata": {},
   "outputs": [],
   "source": []
  },
  {
   "cell_type": "code",
   "execution_count": null,
   "id": "0212d0a4",
   "metadata": {},
   "outputs": [],
   "source": []
  },
  {
   "cell_type": "code",
   "execution_count": null,
   "id": "f74e4e27",
   "metadata": {},
   "outputs": [],
   "source": []
  },
  {
   "cell_type": "markdown",
   "id": "9f94de36",
   "metadata": {},
   "source": [
    "# if else condtions "
   ]
  },
  {
   "cell_type": "code",
   "execution_count": 17,
   "id": "969f31f8",
   "metadata": {},
   "outputs": [
    {
     "name": "stdout",
     "output_type": "stream",
     "text": [
      "heeeey you need mediciYne A\n"
     ]
    }
   ],
   "source": [
    "# a doctor asked noah to make a software for him\n",
    "# doctor is tired of making prescription for his patients\n",
    "# so he told noah the rules of medicine\n",
    "# if temperaature of patient is 100 to 102 and his age is under 18 he should eat mecidine A\n",
    "# if temperature of patienct is 103 to 104 ana age is below  18 he needs medicine B\n",
    "# if temperaature of patient is 100 to 102 and his age is above 18 he should eat mecidine C\n",
    "# if temperature of patienct is 103 to 104 ana age is abovve above he needs medicine D\n",
    "\n",
    "temp = 102\n",
    "age = 12\n",
    "\n",
    "\n",
    "if temp >=100 and temp<=102 and age <18:\n",
    "    print('heeeey you need mediciYne A')\n",
    "elif temp>=103 and temp<=104 and age <18:\n",
    "    print('heeeeey you need medicine B')\n",
    "elif temp>=100 and temp<=102 and age >18:\n",
    "    print('heeeeey you need medicine C')\n",
    "elif temp>=103 and temp<104 and age >18:\n",
    "    print('Heey you need medicine D')\n",
    "\n"
   ]
  },
  {
   "cell_type": "code",
   "execution_count": null,
   "id": "df0b8109",
   "metadata": {},
   "outputs": [],
   "source": []
  },
  {
   "cell_type": "code",
   "execution_count": null,
   "id": "fdb438b0",
   "metadata": {},
   "outputs": [],
   "source": []
  },
  {
   "cell_type": "code",
   "execution_count": null,
   "id": "d43ebbd4",
   "metadata": {},
   "outputs": [],
   "source": []
  },
  {
   "cell_type": "code",
   "execution_count": null,
   "id": "ca2c6c33",
   "metadata": {},
   "outputs": [],
   "source": []
  }
 ],
 "metadata": {
  "kernelspec": {
   "display_name": "Python 3 (ipykernel)",
   "language": "python",
   "name": "python3"
  },
  "language_info": {
   "codemirror_mode": {
    "name": "ipython",
    "version": 3
   },
   "file_extension": ".py",
   "mimetype": "text/x-python",
   "name": "python",
   "nbconvert_exporter": "python",
   "pygments_lexer": "ipython3",
   "version": "3.11.5"
  }
 },
 "nbformat": 4,
 "nbformat_minor": 5
}
