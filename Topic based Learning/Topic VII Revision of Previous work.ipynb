{
 "cells": [
  {
   "cell_type": "code",
   "execution_count": null,
   "id": "0d8cb235",
   "metadata": {},
   "outputs": [],
   "source": [
    "### data types, how many types?\n",
    "#### string, like your nmae\n",
    "#### int, like your age\n",
    "#### float, like your height 7.5 etc something\n",
    "#### boolean\n",
    "\n"
   ]
  },
  {
   "cell_type": "code",
   "execution_count": 2,
   "id": "26737c8d",
   "metadata": {},
   "outputs": [
    {
     "name": "stdout",
     "output_type": "stream",
     "text": [
      "my name is noah and my age is 8 and my height is 4'10\n"
     ]
    }
   ],
   "source": [
    "name = 'noah'\n",
    "age = 8\n",
    "height = \"4'10\"\n",
    "des = f'my name is {name} and my age is {age} and my height is {height}'\n",
    "print(des)"
   ]
  },
  {
   "cell_type": "code",
   "execution_count": null,
   "id": "dd9e3193",
   "metadata": {},
   "outputs": [],
   "source": [
    "# ii can multiply a string with number to repeat the string to that number"
   ]
  },
  {
   "cell_type": "code",
   "execution_count": 5,
   "id": "cc9943b9",
   "metadata": {},
   "outputs": [
    {
     "data": {
      "text/plain": [
       "'noahnoahnoahnoahnoahnoahnoahnoahnoahnoahnoahnoahnoahnoahnoahnoahnoahnoahnoahnoahnoahnoahnoahnoahnoahnoahnoahnoahnoahnoahnoahnoahnoahnoahnoahnoahnoahnoahnoahnoahnoahnoahnoahnoahnoahnoah'"
      ]
     },
     "execution_count": 5,
     "metadata": {},
     "output_type": "execute_result"
    }
   ],
   "source": [
    "name*4"
   ]
  },
  {
   "cell_type": "code",
   "execution_count": 8,
   "id": "43b706b0",
   "metadata": {},
   "outputs": [],
   "source": [
    "xr = \"\"\"\n",
    "  *   \n",
    " ***\n",
    "*****\n",
    " ***\n",
    "  *\n",
    "\n",
    "\"\"\""
   ]
  },
  {
   "cell_type": "code",
   "execution_count": 18,
   "id": "90c8d284",
   "metadata": {},
   "outputs": [
    {
     "name": "stdout",
     "output_type": "stream",
     "text": [
      "sum is 69\n",
      "diff is -43\n",
      "product is 728\n",
      "division is 0.23214285714285715\n"
     ]
    }
   ],
   "source": [
    "x = 13\n",
    "y = 56\n",
    "\n",
    "print('sum is',x+y)\n",
    "print('diff is',x-y)\n",
    "print('product is',x*y)\n",
    "print('division is',x/y)"
   ]
  },
  {
   "cell_type": "code",
   "execution_count": 28,
   "id": "25bd2bbf",
   "metadata": {},
   "outputs": [
    {
     "data": {
      "text/plain": [
       "'dragonfruit'"
      ]
     },
     "execution_count": 28,
     "metadata": {},
     "output_type": "execute_result"
    }
   ],
   "source": [
    "# make a variable that will store random number\n",
    "o = ('dragonfruit','blackberry','strawberry','blueberry','mango','raspberry')\n",
    "import random\n",
    "x = random.randint(0,5)\n",
    "o[x]"
   ]
  },
  {
   "cell_type": "code",
   "execution_count": 29,
   "id": "7fa184d4",
   "metadata": {},
   "outputs": [],
   "source": [
    "# make a small software which will randomly print your name or my name or maya name\n"
   ]
  },
  {
   "cell_type": "code",
   "execution_count": 36,
   "id": "1009962e",
   "metadata": {},
   "outputs": [
    {
     "data": {
      "text/plain": [
       "'noah'"
      ]
     },
     "execution_count": 36,
     "metadata": {},
     "output_type": "execute_result"
    }
   ],
   "source": [
    "u = ('maya','umair','noah')\n",
    "import random\n",
    "x = random.randint(0,2)\n",
    "u[x]"
   ]
  },
  {
   "cell_type": "code",
   "execution_count": 43,
   "id": "3b1655b5",
   "metadata": {},
   "outputs": [
    {
     "name": "stdout",
     "output_type": "stream",
     "text": [
      "noah wins\n",
      "number was 11\n"
     ]
    }
   ],
   "source": [
    "# make a guess game which will print a random number between 1 to 50\n",
    "# umair x and noah will will make guess\n",
    "# which distance will be smal that will win\n",
    "\n",
    "import random\n",
    "num = random.randint(1,50)\n",
    "x = 24\n",
    "y = 26\n",
    "\n",
    "\n",
    "\n",
    "if (num - x) < (num - y):\n",
    "    print('umair wins')\n",
    "else:\n",
    "    print('noah wins')\n",
    "print('number was',num)\n"
   ]
  },
  {
   "cell_type": "code",
   "execution_count": null,
   "id": "b2a08e66",
   "metadata": {},
   "outputs": [],
   "source": []
  }
 ],
 "metadata": {
  "kernelspec": {
   "display_name": "Python 3 (ipykernel)",
   "language": "python",
   "name": "python3"
  },
  "language_info": {
   "codemirror_mode": {
    "name": "ipython",
    "version": 3
   },
   "file_extension": ".py",
   "mimetype": "text/x-python",
   "name": "python",
   "nbconvert_exporter": "python",
   "pygments_lexer": "ipython3",
   "version": "3.11.5"
  }
 },
 "nbformat": 4,
 "nbformat_minor": 5
}
