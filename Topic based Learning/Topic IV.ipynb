{
 "cells": [
  {
   "cell_type": "code",
   "execution_count": 1,
   "id": "6e0e4198",
   "metadata": {},
   "outputs": [
    {
     "name": "stdout",
     "output_type": "stream",
     "text": [
      "2024-05-25 10:21:29.844891\n"
     ]
    }
   ],
   "source": [
    "import datetime\n",
    "\n",
    "x = datetime.datetime.now()\n",
    "print(x)\n",
    "\n"
   ]
  },
  {
   "cell_type": "code",
   "execution_count": 4,
   "id": "1e31edf6",
   "metadata": {},
   "outputs": [
    {
     "name": "stdout",
     "output_type": "stream",
     "text": [
      "4.865182422068057\n"
     ]
    }
   ],
   "source": [
    "import math\n",
    "\n",
    "x = math.sqrt(23.67)\n",
    "\n",
    "print(x)"
   ]
  },
  {
   "cell_type": "code",
   "execution_count": 6,
   "id": "a2cbfef3",
   "metadata": {},
   "outputs": [
    {
     "name": "stdout",
     "output_type": "stream",
     "text": [
      "512\n"
     ]
    }
   ],
   "source": [
    "x = pow(8,3)\n",
    "\n",
    "print(x)"
   ]
  },
  {
   "cell_type": "markdown",
   "id": "d5d50ae7",
   "metadata": {},
   "source": [
    "# task 1"
   ]
  },
  {
   "cell_type": "code",
   "execution_count": 7,
   "id": "d091d364",
   "metadata": {},
   "outputs": [],
   "source": [
    "# take a number\n",
    "# multply this number with 55\n",
    "# divide updated number with 50\n",
    "# find square rooot of it\n",
    "# take its power as 3\n",
    "\n"
   ]
  },
  {
   "cell_type": "code",
   "execution_count": 14,
   "id": "04c796fc",
   "metadata": {},
   "outputs": [
    {
     "name": "stdout",
     "output_type": "stream",
     "text": [
      "36.4828726939094\n"
     ]
    }
   ],
   "source": [
    "x= 10\n",
    "x = x * 55\n",
    "x = x / 50\n",
    "x = math.sqrt(x)\n",
    "x = pow(x,3)\n",
    "print(x)\n"
   ]
  },
  {
   "cell_type": "markdown",
   "id": "2cbf03e9",
   "metadata": {},
   "source": [
    "# practice test"
   ]
  },
  {
   "cell_type": "code",
   "execution_count": 15,
   "id": "47c11dff",
   "metadata": {},
   "outputs": [],
   "source": [
    "# i give you some equation and then you are asked to solve it, acutall you want to find when the equation retunr zero"
   ]
  },
  {
   "cell_type": "code",
   "execution_count": 64,
   "id": "0755dd27",
   "metadata": {},
   "outputs": [],
   "source": [
    "f = lambda x:x**5 + x**4 +1"
   ]
  },
  {
   "cell_type": "code",
   "execution_count": 65,
   "id": "66e94d85",
   "metadata": {},
   "outputs": [
    {
     "data": {
      "text/plain": [
       "-708749"
      ]
     },
     "execution_count": 65,
     "metadata": {},
     "output_type": "execute_result"
    }
   ],
   "source": [
    "f(-15)"
   ]
  },
  {
   "cell_type": "code",
   "execution_count": 66,
   "id": "984287f2",
   "metadata": {},
   "outputs": [
    {
     "name": "stdout",
     "output_type": "stream",
     "text": [
      "The roots of the function are x = -1.324717957244746 and x = 0.0\n"
     ]
    },
    {
     "name": "stderr",
     "output_type": "stream",
     "text": [
      "/Users/noahjaceortikov/anaconda3/lib/python3.11/site-packages/scipy/optimize/_minpack_py.py:177: RuntimeWarning: The iteration is not making good progress, as measured by the \n",
      "  improvement from the last ten iterations.\n",
      "  warnings.warn(msg, RuntimeWarning)\n"
     ]
    }
   ],
   "source": [
    "import numpy as np\n",
    "from scipy.optimize import fsolve\n",
    "\n",
    "\n",
    "# Initial guesses for the roots\n",
    "initial_guess1 = -5\n",
    "initial_guess2 = 0\n",
    "\n",
    "# Use fsolve to find the roots of the function\n",
    "root1 = fsolve(f, initial_guess1)[0]\n",
    "root2 = fsolve(f, initial_guess2)[0]\n",
    "\n",
    "print(f\"The roots of the function are x = {root1} and x = {root2}\")\n",
    "\n"
   ]
  },
  {
   "cell_type": "markdown",
   "id": "0763ca59",
   "metadata": {},
   "source": [
    "# this is wwe can find Roots of equtions"
   ]
  },
  {
   "cell_type": "code",
   "execution_count": null,
   "id": "446fbb74",
   "metadata": {},
   "outputs": [],
   "source": []
  }
 ],
 "metadata": {
  "kernelspec": {
   "display_name": "Python 3 (ipykernel)",
   "language": "python",
   "name": "python3"
  },
  "language_info": {
   "codemirror_mode": {
    "name": "ipython",
    "version": 3
   },
   "file_extension": ".py",
   "mimetype": "text/x-python",
   "name": "python",
   "nbconvert_exporter": "python",
   "pygments_lexer": "ipython3",
   "version": "3.11.5"
  }
 },
 "nbformat": 4,
 "nbformat_minor": 5
}
