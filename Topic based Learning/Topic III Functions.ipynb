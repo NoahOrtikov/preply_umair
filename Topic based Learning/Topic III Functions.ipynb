{
 "cells": [
  {
   "cell_type": "markdown",
   "id": "93bddfdc",
   "metadata": {},
   "source": [
    " make a function to take difference of 2 numbers"
   ]
  },
  {
   "cell_type": "code",
   "execution_count": 12,
   "id": "1689b406",
   "metadata": {},
   "outputs": [],
   "source": [
    " def a(x,y):\n",
    "    d = x-y\n",
    "    return(d)"
   ]
  },
  {
   "cell_type": "code",
   "execution_count": 13,
   "id": "d1e07c53",
   "metadata": {},
   "outputs": [
    {
     "data": {
      "text/plain": [
       "2454"
      ]
     },
     "execution_count": 13,
     "metadata": {},
     "output_type": "execute_result"
    }
   ],
   "source": [
    "a(4534,2080)"
   ]
  },
  {
   "cell_type": "code",
   "execution_count": 14,
   "id": "3519f176",
   "metadata": {},
   "outputs": [],
   "source": [
    "def b(x,y):\n",
    "    p = x*y"
   ]
  },
  {
   "cell_type": "code",
   "execution_count": 16,
   "id": "63135ed5",
   "metadata": {},
   "outputs": [],
   "source": [
    "c:\n",
    "    y = 2*x + 3*x**2 + 4* x**3\n",
    "    return y"
   ]
  },
  {
   "cell_type": "code",
   "execution_count": 17,
   "id": "cd64ce60",
   "metadata": {},
   "outputs": [
    {
     "data": {
      "text/plain": [
       "32120400"
      ]
     },
     "execution_count": 17,
     "metadata": {},
     "output_type": "execute_result"
    }
   ],
   "source": [
    "equation(200)"
   ]
  },
  {
   "cell_type": "code",
   "execution_count": 20,
   "id": "1806a881",
   "metadata": {},
   "outputs": [],
   "source": [
    "#y = 4*x+8*x**2 + 22*x"
   ]
  },
  {
   "cell_type": "code",
   "execution_count": 22,
   "id": "e0392628",
   "metadata": {},
   "outputs": [],
   "source": [
    "def equation2(x):\n",
    "    y = 4*x+8*x**2+22*x\n",
    "    return(y)"
   ]
  },
  {
   "cell_type": "code",
   "execution_count": 23,
   "id": "b816c89b",
   "metadata": {},
   "outputs": [
    {
     "data": {
      "text/plain": [
       "3720"
      ]
     },
     "execution_count": 23,
     "metadata": {},
     "output_type": "execute_result"
    }
   ],
   "source": [
    "equation2(20)"
   ]
  },
  {
   "cell_type": "code",
   "execution_count": 24,
   "id": "5b27524b",
   "metadata": {},
   "outputs": [],
   "source": [
    "### make a function chess, which will print all names of chess pieces"
   ]
  },
  {
   "cell_type": "code",
   "execution_count": null,
   "id": "7e78b7f8",
   "metadata": {},
   "outputs": [],
   "source": []
  },
  {
   "cell_type": "code",
   "execution_count": 27,
   "id": "40f8bed9",
   "metadata": {},
   "outputs": [],
   "source": [
    "def chess():\n",
    "    print('king')\n",
    "    print('Queen')\n",
    "    print('Rook')\n",
    "    print('horsie')\n",
    "    print('pawn')\n",
    "    print('bishop')"
   ]
  },
  {
   "cell_type": "code",
   "execution_count": 29,
   "id": "82ba9803",
   "metadata": {},
   "outputs": [
    {
     "name": "stdout",
     "output_type": "stream",
     "text": [
      "king\n",
      "Queen\n",
      "Rook\n",
      "horsie\n",
      "pawn\n",
      "bishop\n"
     ]
    }
   ],
   "source": [
    "chess()"
   ]
  },
  {
   "cell_type": "code",
   "execution_count": 30,
   "id": "ff0cbbc8",
   "metadata": {},
   "outputs": [],
   "source": [
    "## make afunction when i will call it it willd escribe details"
   ]
  },
  {
   "cell_type": "code",
   "execution_count": 32,
   "id": "82576e58",
   "metadata": {},
   "outputs": [],
   "source": [
    "def details_chess(x):\n",
    "\n",
    "        if x.lowe() == 'pawn':\n",
    "            print('heey pawn is simple but when it finishes the line it can turn to queen or any other powerful pieces')\n",
    "        if x.lower() == 'king':\n",
    "            print('it deides if it wants to mive or not')\n",
    "        if x.lower() == 'Bishop':\n",
    "            print('It can move diagonaly')\n",
    "        if x.lower() == 'Queen': \n",
    "            print('The queen moves forward backward or any direction')\n"
   ]
  },
  {
   "cell_type": "code",
   "execution_count": 35,
   "id": "0ce41810",
   "metadata": {},
   "outputs": [
    {
     "name": "stdout",
     "output_type": "stream",
     "text": [
      "It can move diagonaly\n"
     ]
    }
   ],
   "source": [
    "details_chess('Bishop')"
   ]
  },
  {
   "cell_type": "code",
   "execution_count": null,
   "id": "3b3128bf",
   "metadata": {},
   "outputs": [],
   "source": []
  },
  {
   "cell_type": "code",
   "execution_count": null,
   "id": "c3074fa0",
   "metadata": {},
   "outputs": [],
   "source": []
  }
 ],
 "metadata": {
  "kernelspec": {
   "display_name": "Python 3 (ipykernel)",
   "language": "python",
   "name": "python3"
  },
  "language_info": {
   "codemirror_mode": {
    "name": "ipython",
    "version": 3
   },
   "file_extension": ".py",
   "mimetype": "text/x-python",
   "name": "python",
   "nbconvert_exporter": "python",
   "pygments_lexer": "ipython3",
   "version": "3.11.5"
  }
 },
 "nbformat": 4,
 "nbformat_minor": 5
}
