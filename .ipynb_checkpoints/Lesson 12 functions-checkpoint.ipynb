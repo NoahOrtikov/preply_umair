{
 "cells": [
  {
   "cell_type": "code",
   "execution_count": 3,
   "id": "c06e41f2",
   "metadata": {},
   "outputs": [],
   "source": [
    "# i want to make a simple calculator \n",
    "# when i write two numbers\n",
    "# it should show us add diff multiply and division"
   ]
  },
  {
   "cell_type": "code",
   "execution_count": 4,
   "id": "83f2efbb",
   "metadata": {},
   "outputs": [
    {
     "name": "stdout",
     "output_type": "stream",
     "text": [
      "The sum is 30\n",
      "The diffrence is -10\n",
      "The product is 200\n"
     ]
    }
   ],
   "source": [
    "x = 10\n",
    "y = 20\n",
    "z = x + y\n",
    "print(f'The sum is {z}')        \n",
    "print(f'The diffrence is {x-y}')\n",
    "print(f'The product is {x*y}')\n"
   ]
  },
  {
   "cell_type": "code",
   "execution_count": 5,
   "id": "12e70c83",
   "metadata": {},
   "outputs": [
    {
     "name": "stdout",
     "output_type": "stream",
     "text": [
      "The sum is 800\n",
      "The diffrence is 400\n",
      "The product is 120000\n"
     ]
    }
   ],
   "source": [
    "x = 600\n",
    "y = 200\n",
    "z = x + y\n",
    "print(f'The sum is {z}')        \n",
    "print(f'The diffrence is {x-y}')\n",
    "print(f'The product is {x*y}')\n"
   ]
  },
  {
   "cell_type": "markdown",
   "id": "01c5e1e6",
   "metadata": {},
   "source": [
    "# every time we have to copy  all of this\n",
    "# we do not have to write code again and again"
   ]
  },
  {
   "cell_type": "raw",
   "id": "76d934e0",
   "metadata": {},
   "source": [
    "# solution is we can use functions"
   ]
  },
  {
   "cell_type": "code",
   "execution_count": 6,
   "id": "ccead725",
   "metadata": {},
   "outputs": [],
   "source": [
    "def Noah(x,y):\n",
    "    z = x + y\n",
    "    print(f'The sum is {z}')        \n",
    "    print(f'The diffrence is {x-y}')\n",
    "    print(f'The product is {x*y}')"
   ]
  },
  {
   "cell_type": "code",
   "execution_count": 7,
   "id": "b408c8b9",
   "metadata": {},
   "outputs": [
    {
     "name": "stdout",
     "output_type": "stream",
     "text": [
      "The sum is 30\n",
      "The diffrence is -10\n",
      "The product is 200\n"
     ]
    }
   ],
   "source": [
    "Noah(10,20)"
   ]
  },
  {
   "cell_type": "code",
   "execution_count": 8,
   "id": "e920a433",
   "metadata": {},
   "outputs": [
    {
     "name": "stdout",
     "output_type": "stream",
     "text": [
      "The sum is 501.73670000000004\n",
      "The diffrence is 100.17670000000001\n",
      "The product is 60426.086226\n"
     ]
    }
   ],
   "source": [
    "Noah(300.9567,200.78)"
   ]
  },
  {
   "cell_type": "code",
   "execution_count": null,
   "id": "84cee03e",
   "metadata": {},
   "outputs": [],
   "source": []
  },
  {
   "cell_type": "markdown",
   "id": "5c581961",
   "metadata": {},
   "source": [
    "## make a funtion which will send greeeting if you will pass it a name"
   ]
  },
  {
   "cell_type": "code",
   "execution_count": 9,
   "id": "3bd5c8d7",
   "metadata": {},
   "outputs": [],
   "source": [
    "def greetings(peepee):\n",
    "    print(f\"hiiiiii. {peepee} how are you whatare you doing these days nice to meet you by\")"
   ]
  },
  {
   "cell_type": "code",
   "execution_count": 10,
   "id": "7b96e7bd",
   "metadata": {},
   "outputs": [],
   "source": [
    "# we defiend a fiunction now we will call it"
   ]
  },
  {
   "cell_type": "code",
   "execution_count": 11,
   "id": "f3d58cda",
   "metadata": {},
   "outputs": [
    {
     "name": "stdout",
     "output_type": "stream",
     "text": [
      "hiiiiii. UMAIR how are you whatare you doing these days nice to meet you by\n"
     ]
    }
   ],
   "source": [
    "greetings(\"UMAIR\")"
   ]
  },
  {
   "cell_type": "code",
   "execution_count": 12,
   "id": "2d38138d",
   "metadata": {},
   "outputs": [
    {
     "data": {
      "text/plain": [
       "'29'"
      ]
     },
     "execution_count": 12,
     "metadata": {},
     "output_type": "execute_result"
    }
   ],
   "source": [
    "'2'+'9'"
   ]
  },
  {
   "cell_type": "code",
   "execution_count": 13,
   "id": "41ecbd97",
   "metadata": {},
   "outputs": [
    {
     "name": "stdout",
     "output_type": "stream",
     "text": [
      "hiiiiii. noah how are you whatare you doing these days nice to meet you by\n"
     ]
    }
   ],
   "source": [
    "greetings('noah')"
   ]
  },
  {
   "cell_type": "markdown",
   "id": "a1adc4ee",
   "metadata": {},
   "source": [
    "### butt &on"
   ]
  },
  {
   "cell_type": "markdown",
   "id": "ee3312f4",
   "metadata": {},
   "source": [
    "### make a new function"
   ]
  },
  {
   "cell_type": "markdown",
   "id": "d4c4d6a6",
   "metadata": {},
   "source": [
    "# noah & umair"
   ]
  },
  {
   "cell_type": "code",
   "execution_count": 14,
   "id": "579070d9",
   "metadata": {},
   "outputs": [],
   "source": [
    "# if name is noah then special greeting\n",
    "# else normal greeetings"
   ]
  },
  {
   "cell_type": "code",
   "execution_count": null,
   "id": "85a8e8b4",
   "metadata": {},
   "outputs": [],
   "source": []
  },
  {
   "cell_type": "code",
   "execution_count": 18,
   "id": "04990a6c",
   "metadata": {},
   "outputs": [],
   "source": [
    "def gt(x):\n",
    "    if x == \"noah\" or x ==\"umair\":\n",
    "        print(f\"heeeeeeeeeeeeeeeey {x} how are you i was waiting for you\")\n",
    "    else:\n",
    "        print(\"hi :< i wawws waiting for noahh\")"
   ]
  },
  {
   "cell_type": "code",
   "execution_count": 20,
   "id": "782e268a",
   "metadata": {},
   "outputs": [
    {
     "name": "stdout",
     "output_type": "stream",
     "text": [
      "heeeeeeeeeeeeeeeey umair how are you i was waiting for you\n"
     ]
    }
   ],
   "source": [
    "gt('umair')"
   ]
  },
  {
   "cell_type": "code",
   "execution_count": null,
   "id": "4e9026ff",
   "metadata": {},
   "outputs": [],
   "source": []
  },
  {
   "cell_type": "code",
   "execution_count": 21,
   "id": "a381be43",
   "metadata": {},
   "outputs": [],
   "source": [
    "# make a function to ell if the number is even or odd"
   ]
  },
  {
   "cell_type": "code",
   "execution_count": 25,
   "id": "20257215",
   "metadata": {},
   "outputs": [],
   "source": [
    "def number(y):\n",
    "    if y == \"3\" or y == \"5\":\n",
    "        print(f'the number is odd')\n",
    "    else:\n",
    "        print(f'The number is even noo')"
   ]
  },
  {
   "cell_type": "code",
   "execution_count": 26,
   "id": "036e8764",
   "metadata": {},
   "outputs": [
    {
     "name": "stdout",
     "output_type": "stream",
     "text": [
      "the number is odd\n"
     ]
    }
   ],
   "source": [
    "number('3')"
   ]
  },
  {
   "cell_type": "code",
   "execution_count": 27,
   "id": "56970e91",
   "metadata": {},
   "outputs": [],
   "source": [
    "def number2(y):\n",
    "    if y %2==1:\n",
    "        print(f'the number is odd')\n",
    "    else:\n",
    "        print(f'The number is even noo')"
   ]
  },
  {
   "cell_type": "code",
   "execution_count": 30,
   "id": "ae871e59",
   "metadata": {},
   "outputs": [
    {
     "name": "stdout",
     "output_type": "stream",
     "text": [
      "The number is even noo\n"
     ]
    }
   ],
   "source": [
    "number(102)"
   ]
  },
  {
   "cell_type": "code",
   "execution_count": null,
   "id": "b00d8046",
   "metadata": {},
   "outputs": [],
   "source": []
  },
  {
   "cell_type": "code",
   "execution_count": null,
   "id": "eadb833d",
   "metadata": {},
   "outputs": [],
   "source": []
  }
 ],
 "metadata": {
  "kernelspec": {
   "display_name": "Python 3 (ipykernel)",
   "language": "python",
   "name": "python3"
  },
  "language_info": {
   "codemirror_mode": {
    "name": "ipython",
    "version": 3
   },
   "file_extension": ".py",
   "mimetype": "text/x-python",
   "name": "python",
   "nbconvert_exporter": "python",
   "pygments_lexer": "ipython3",
   "version": "3.11.5"
  }
 },
 "nbformat": 4,
 "nbformat_minor": 5
}
